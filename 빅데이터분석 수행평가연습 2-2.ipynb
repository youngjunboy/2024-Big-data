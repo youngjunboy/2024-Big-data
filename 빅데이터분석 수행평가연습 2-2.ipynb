{
 "cells": [
  {
   "cell_type": "markdown",
   "id": "e3d1d4ca-0adb-4fb3-9536-7ed05f3a032a",
   "metadata": {},
   "source": [
    "# 빅데이터분석 수행평가연습 2-2"
   ]
  },
  {
   "cell_type": "markdown",
   "id": "00c09971-7f56-4ed9-82e1-baf793430ea2",
   "metadata": {},
   "source": [
    "# 영어 단어장"
   ]
  },
  {
   "cell_type": "code",
   "execution_count": 3,
   "id": "47d6ee37-6d63-4202-b1e4-d35bbbcdce25",
   "metadata": {},
   "outputs": [
    {
     "name": "stdin",
     "output_type": "stream",
     "text": [
      " 망고,manggo\n",
      " 키위,kiwi\n",
      " \n"
     ]
    },
    {
     "name": "stdout",
     "output_type": "stream",
     "text": [
      "{'망고': 'manggo', '키위': 'kiwi'}\n"
     ]
    }
   ],
   "source": [
    "dict = {}\n",
    "\n",
    "while True:\n",
    "    input_word = input()\n",
    "    if input_word == '':\n",
    "        break\n",
    "    eng = input_word.split(',')[0]\n",
    "    kor = input_word.split(',')[1]\n",
    "    dict[eng] = kor\n",
    "print(dict)"
   ]
  },
  {
   "cell_type": "markdown",
   "id": "2d6c1047-76fe-48ff-b529-72dc7e92f07e",
   "metadata": {},
   "source": [
    "# 할인 금액"
   ]
  },
  {
   "cell_type": "code",
   "execution_count": 7,
   "id": "50e19c2a-acbb-46c4-8a3c-754edf35135c",
   "metadata": {},
   "outputs": [
    {
     "name": "stdin",
     "output_type": "stream",
     "text": [
      " 359000\n"
     ]
    },
    {
     "name": "stdout",
     "output_type": "stream",
     "text": [
      "\n",
      "구매가 : 359000원\n",
      "할인율 : 10%\n",
      "할인금액 : 35900.0원\n",
      "할인 후 금액가 : 323100.0원\n",
      "\n"
     ]
    }
   ],
   "source": [
    "cash = int(input())\n",
    "\n",
    "if cash >= 300000:\n",
    "    dc = 10\n",
    "elif cash >= 200000:\n",
    "    dc = 7\n",
    "elif cash >= 100000:\n",
    "    dc = 5\n",
    "else:\n",
    "    dc = 0\n",
    "\n",
    "print(f'''\n",
    "구매가 : {cash}원\n",
    "할인율 : {dc}%\n",
    "할인금액 : {cash * (dc/100)}원\n",
    "할인 후 금액가 : {cash - cash * (dc/100)}원\n",
    "''')"
   ]
  },
  {
   "cell_type": "markdown",
   "id": "5d682c90-dffe-466d-86d4-a6a20ef98248",
   "metadata": {},
   "source": [
    "# 사칙연산"
   ]
  },
  {
   "cell_type": "code",
   "execution_count": 10,
   "id": "061324a8-298f-4015-88dc-d7cfca12f889",
   "metadata": {},
   "outputs": [
    {
     "name": "stdin",
     "output_type": "stream",
     "text": [
      " 3\n",
      " 7\n",
      " *\n"
     ]
    },
    {
     "name": "stdout",
     "output_type": "stream",
     "text": [
      "곱셈 : 3 * 7 = 21\n"
     ]
    }
   ],
   "source": [
    "num1 = int(input()) \n",
    "num2 = int(input()) \n",
    "op = input(\"\")\n",
    "\n",
    "if op == \"*\":\n",
    "    print(f'곱셈 : {num1} * {num2} = {num1 * num2}')\n",
    "elif op == \"/\":\n",
    "    print(f'나눗셈 : {num1} / {num2} = {num1 / num2}')\n",
    "elif op == \"+\":\n",
    "    print(f'덧셈 : {num1} + {num2} = {num1 + num2}')\n",
    "elif op == \"-\":\n",
    "    print(f'뺄셈 : {num1} - {num2} = {num1 - num2}')\n",
    "else :\n",
    "    print('잘못 입력하셨습니다.')"
   ]
  }
 ],
 "metadata": {
  "kernelspec": {
   "display_name": "Python 3 (ipykernel)",
   "language": "python",
   "name": "python3"
  },
  "language_info": {
   "codemirror_mode": {
    "name": "ipython",
    "version": 3
   },
   "file_extension": ".py",
   "mimetype": "text/x-python",
   "name": "python",
   "nbconvert_exporter": "python",
   "pygments_lexer": "ipython3",
   "version": "3.11.7"
  }
 },
 "nbformat": 4,
 "nbformat_minor": 5
}
