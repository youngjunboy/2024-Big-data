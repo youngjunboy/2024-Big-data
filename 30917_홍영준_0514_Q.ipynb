{
 "cells": [
  {
   "cell_type": "markdown",
   "id": "91c7f908-77c9-46c3-b16a-e530c2e1d339",
   "metadata": {},
   "source": [
    "# 30917_홍영준_0514_Q"
   ]
  },
  {
   "cell_type": "markdown",
   "id": "bb3a8e7c-525b-4918-bab3-6dfa7f2871bc",
   "metadata": {},
   "source": [
    "# 6090 : [기초-종합] 수 나열하기3(py)\n",
    "어떤 규칙에 따라 수를 순서대로 나열한 것을 수열(sequences)이라고 한다.\r\n",
    "\r\n",
    "예를 들어\r\n",
    "1 -1 3 -5 11 -21 43 ... 은\r\n",
    "1부터 시작해 이전에 만든 수에 -2를 곱한 다음 1을 더해 다음 수를 만든 수열이다.\r\n",
    "\r\n",
    "이런 이상한 수열을 알게 된 영일이는 또 궁금해졌다.\r\n",
    "\"그럼.... 13번째 나오는 수는 뭘까?\"\r\n",
    "\r\n",
    "영일이는 물론 수학을 아주 잘하지만 이런 문제는 본 적이 거의 없었다...\r\n",
    "그래서 프로그램을 만들어 더 큰 수도 자동으로 계산하고 싶어졌다.\r\n",
    "\r\n",
    "시작 값(a), 곱할 값(m), 더할 값(d), 몇 번째인지를 나타내는 정수(n)가 입력될 때,\r\n",
    "n번째 수를 출력하는 프로그램을 만들어보자."
   ]
  },
  {
   "cell_type": "code",
   "execution_count": 9,
   "id": "5d6cd74d-7a9f-443d-9c43-c813b312f1c2",
   "metadata": {},
   "outputs": [
    {
     "name": "stdin",
     "output_type": "stream",
     "text": [
      " 2 4 2 3\n"
     ]
    },
    {
     "name": "stdout",
     "output_type": "stream",
     "text": [
      "42\n"
     ]
    }
   ],
   "source": [
    "a, m, d, n = map(int, input().split())\n",
    "for i in range(n-1):\n",
    "    a = a * m + d\n",
    "print(a)"
   ]
  },
  {
   "cell_type": "markdown",
   "id": "280c0072-51ba-497d-9b89-65a0a9dc87d1",
   "metadata": {},
   "source": [
    "# 6091 : [기초-종합] 함께 문제 푸는 날(설명)(py)\n",
    "온라인 채점시스템에는 초등학생, 중고등학생, 대학생, 대학원생,\r\n",
    "일반인, 군인, 프로그래머, 탑코더 등 아주 많은 사람들이 들어와 문제를 풀고 있는데,\r\n",
    "\r\n",
    "실시간 채점 정보는 메뉴의 채점기록(Judge Status)을 통해 살펴볼 수 있다.\r\n",
    "\r\n",
    "자! 여기서...잠깐..\r\n",
    "같은 날 동시에 가입한 3명의 사람들이 온라인 채점시스템에 들어와 문제를 푸는 날짜가\r\n",
    "매우 규칙적이라고 할 때, 다시 모두 함께 문제를 풀게 되는 그날은 언제일까?\r\n",
    "\r\n",
    "예를 들어 3명이 같은 날 가입/등업하고, 각각 3일마다, 7일마다, 9일마다\r\n",
    "한 번씩 들어온다면, 처음 가입하고 63일 만에 다시 3명이 함께 문제를 풀게 된다.\r\n",
    "\r\n",
    "갑자기 힌트?\r\n",
    "왠지 어려워 보이지 않는가?\r\n",
    "수학에서 배운 최소공배수를 생각한 사람들도 있을 것이다. 하지만, 정보에서 배우고 경험하는\r\n",
    "정보과학의 세상은 때때로 컴퓨터의 힘을 빌려 간단한 방법으로 해결할 수 있게 한다.\r\n",
    "\r\n",
    "아래의 코드를 읽고 이해한 후 도전해 보자.\r\n",
    "day는 날 수, a/b/c는 방문 주기이다.\r\n",
    "...\r\n",
    "d = 1\r\n",
    "while d%a!=0 or d%b!=0 or d%c!=0 :\r\n",
    "  d += 1\r\n",
    "print(d)\r\n",
    "...\r\n",
    "\r\n",
    "물론, 아주 많은 다양한 방법이 있을 수 있다.\r\n",
    "\r\n",
    "정보과학의 문제해결에 있어서 정답은?\r\n",
    "하나가 아니라 주어진 시간/기억공간으로 정확한 결과를 얻을 수 있는 모든 방법이다.\r\n",
    "\r\n",
    "따라서, 모든 문제들에는 정답이 하나뿐만이 아니다.\r\n",
    "새로운, 더 빠른, 더 간단한 방법을 다양하게 생각해보고 여러가지 방법으로 도전해 볼 수 있다.\r\n"
   ]
  },
  {
   "cell_type": "code",
   "execution_count": 7,
   "id": "aac7de51-a116-456c-9226-e956e5503f2c",
   "metadata": {},
   "outputs": [
    {
     "name": "stdin",
     "output_type": "stream",
     "text": [
      " 3 5 2\n"
     ]
    },
    {
     "name": "stdout",
     "output_type": "stream",
     "text": [
      "30\n"
     ]
    }
   ],
   "source": [
    "d = 1\n",
    "h,o,g = map(int, input().split())\n",
    "while d%h!=0 or d%o!=0 or d%g!=0 :\n",
    "    d += 1\n",
    "print(d)"
   ]
  }
 ],
 "metadata": {
  "kernelspec": {
   "display_name": "Python 3 (ipykernel)",
   "language": "python",
   "name": "python3"
  },
  "language_info": {
   "codemirror_mode": {
    "name": "ipython",
    "version": 3
   },
   "file_extension": ".py",
   "mimetype": "text/x-python",
   "name": "python",
   "nbconvert_exporter": "python",
   "pygments_lexer": "ipython3",
   "version": "3.11.7"
  }
 },
 "nbformat": 4,
 "nbformat_minor": 5
}
