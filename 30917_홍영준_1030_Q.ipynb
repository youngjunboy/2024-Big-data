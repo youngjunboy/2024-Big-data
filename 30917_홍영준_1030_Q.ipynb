{
 "cells": [
  {
   "cell_type": "markdown",
   "id": "eeef4c5a",
   "metadata": {},
   "source": [
    "# 30917_홍영준_1030_Q"
   ]
  },
  {
   "cell_type": "markdown",
   "id": "d8ef1e0c",
   "metadata": {},
   "source": [
    "## 1151 : 10보다 작은 수"
   ]
  },
  {
   "cell_type": "code",
   "execution_count": 1,
   "id": "553d578c",
   "metadata": {},
   "outputs": [
    {
     "name": "stdout",
     "output_type": "stream",
     "text": [
      "4\n",
      "small\n"
     ]
    }
   ],
   "source": [
    "a = int(input())\n",
    "\n",
    "if a < 10:\n",
    "    print(\"small\")\n",
    "else:\n",
    "    print(\"\")"
   ]
  },
  {
   "cell_type": "markdown",
   "id": "16cbe741",
   "metadata": {},
   "source": [
    "## 1152 : 10보다 작은 수 (else 버전)"
   ]
  },
  {
   "cell_type": "code",
   "execution_count": 2,
   "id": "bfb0ebbb",
   "metadata": {},
   "outputs": [
    {
     "name": "stdout",
     "output_type": "stream",
     "text": [
      "33\n",
      "big\n"
     ]
    }
   ],
   "source": [
    "a = int(input())\n",
    "\n",
    "if a < 10:\n",
    "    print(\"small\")\n",
    "else:\n",
    "    print(\"big\")"
   ]
  },
  {
   "cell_type": "markdown",
   "id": "bac0db2a",
   "metadata": {},
   "source": [
    "## 1153 : 두 수의 대소 비교"
   ]
  },
  {
   "cell_type": "code",
   "execution_count": 4,
   "id": "17115a0d",
   "metadata": {},
   "outputs": [
    {
     "name": "stdout",
     "output_type": "stream",
     "text": [
      "3 6\n",
      "<\n"
     ]
    }
   ],
   "source": [
    "a, b = map(int, input().split())\n",
    "if a > b:\n",
    "    print(\">\")\n",
    "elif b > a:\n",
    "    print(\"<\")\n",
    "elif a == b:\n",
    "    print(\"=\")"
   ]
  },
  {
   "cell_type": "markdown",
   "id": "7fef6a32",
   "metadata": {},
   "source": [
    "## 1154 : 큰수 - 작은수"
   ]
  },
  {
   "cell_type": "code",
   "execution_count": 7,
   "id": "9ad42675",
   "metadata": {},
   "outputs": [
    {
     "name": "stdout",
     "output_type": "stream",
     "text": [
      "4 67\n",
      "63\n"
     ]
    }
   ],
   "source": [
    "s1, s2 = map(int, input().split())\n",
    "\n",
    "if s1 >= s2:\n",
    "    print(s1 - s2)\n",
    "elif s2>= s1:\n",
    "    print(s2 - s1)"
   ]
  },
  {
   "cell_type": "markdown",
   "id": "2fab460d",
   "metadata": {},
   "source": [
    "## 1155 : 7의 배수"
   ]
  },
  {
   "cell_type": "code",
   "execution_count": 12,
   "id": "313a9f2c",
   "metadata": {},
   "outputs": [
    {
     "name": "stdout",
     "output_type": "stream",
     "text": [
      "14\n",
      "multiple\n"
     ]
    }
   ],
   "source": [
    "n = int(input())\n",
    "\n",
    "if n%7 == 0:\n",
    "    print(\"multiple\")\n",
    "else:\n",
    "    print(\"not multiple\")"
   ]
  },
  {
   "cell_type": "markdown",
   "id": "6fe9affc",
   "metadata": {},
   "source": [
    "## 1156 : 홀수 짝수 구별"
   ]
  },
  {
   "cell_type": "code",
   "execution_count": 13,
   "id": "3a675c42",
   "metadata": {},
   "outputs": [
    {
     "name": "stdout",
     "output_type": "stream",
     "text": [
      "13\n",
      "odd\n"
     ]
    }
   ],
   "source": [
    "n1 = int(input())\n",
    "\n",
    "if n1%2 == 1:\n",
    "    print(\"odd\")\n",
    "else:\n",
    "    print(\"even\")"
   ]
  },
  {
   "cell_type": "markdown",
   "id": "117b5eda",
   "metadata": {},
   "source": [
    "## 1157 : 특별한 공 던지기 1"
   ]
  },
  {
   "cell_type": "code",
   "execution_count": 18,
   "id": "932955b9",
   "metadata": {},
   "outputs": [
    {
     "name": "stdout",
     "output_type": "stream",
     "text": [
      "51.321\n",
      "win\n"
     ]
    }
   ],
   "source": [
    "n2 = float(input())\n",
    "\n",
    "if n2 >= 50 and n2 <= 60:\n",
    "    print(\"win\")\n",
    "else:\n",
    "    print(\"lose\")"
   ]
  },
  {
   "cell_type": "markdown",
   "id": "a47e2d3e",
   "metadata": {},
   "source": [
    "## 1158 : 특별한 공 던지기 2"
   ]
  },
  {
   "cell_type": "code",
   "execution_count": 21,
   "id": "ccc8621a",
   "metadata": {},
   "outputs": [
    {
     "name": "stdout",
     "output_type": "stream",
     "text": [
      "30\n",
      "win\n"
     ]
    }
   ],
   "source": [
    "n3 = int(input())\n",
    "\n",
    "if n3 >= 30 and n3 <= 40 or n3 >= 60 and n3 <= 70:\n",
    "    print(\"win\")\n",
    "else:\n",
    "    print(\"lose\")"
   ]
  },
  {
   "cell_type": "markdown",
   "id": "37f6e8d0",
   "metadata": {},
   "source": [
    "## 1159 : 특별한 공 던지기 3"
   ]
  },
  {
   "cell_type": "code",
   "execution_count": 22,
   "id": "28809024",
   "metadata": {},
   "outputs": [
    {
     "name": "stdout",
     "output_type": "stream",
     "text": [
      "30\n",
      "win\n"
     ]
    }
   ],
   "source": [
    "n4 = int(input())\n",
    "\n",
    "if n4 >= 50 and n4 <= 70 or n4%6 == 0:\n",
    "    print(\"win\")\n",
    "else:\n",
    "    print(\"lose\")"
   ]
  },
  {
   "cell_type": "markdown",
   "id": "dea32a46",
   "metadata": {},
   "source": [
    "## 1160 : 아르바이트 가는 날"
   ]
  },
  {
   "cell_type": "code",
   "execution_count": 32,
   "id": "3d233ffc",
   "metadata": {},
   "outputs": [
    {
     "name": "stdout",
     "output_type": "stream",
     "text": [
      "2\n",
      "enjoy\n"
     ]
    }
   ],
   "source": [
    "n5 = int(input())\n",
    "\n",
    "if n5 == 1 or n5 == 3 or n5 == 5 or n5 == 7:\n",
    "    print(\"oh my god\")\n",
    "else:\n",
    "    print(\"enjoy\")"
   ]
  },
  {
   "cell_type": "code",
   "execution_count": null,
   "id": "4dad927e",
   "metadata": {},
   "outputs": [],
   "source": []
  }
 ],
 "metadata": {
  "kernelspec": {
   "display_name": "Python 3 (ipykernel)",
   "language": "python",
   "name": "python3"
  },
  "language_info": {
   "codemirror_mode": {
    "name": "ipython",
    "version": 3
   },
   "file_extension": ".py",
   "mimetype": "text/x-python",
   "name": "python",
   "nbconvert_exporter": "python",
   "pygments_lexer": "ipython3",
   "version": "3.9.7"
  }
 },
 "nbformat": 4,
 "nbformat_minor": 5
}
