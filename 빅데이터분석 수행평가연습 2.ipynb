{
 "cells": [
  {
   "cell_type": "markdown",
   "id": "57a30005-04c2-423f-bef6-d71f57548f2f",
   "metadata": {},
   "source": [
    "# 영어단어장 만들기 프로그램"
   ]
  },
  {
   "cell_type": "code",
   "execution_count": 3,
   "id": "8a18d398-8832-4fd6-acf0-a2fb957edb1e",
   "metadata": {},
   "outputs": [
    {
     "name": "stdin",
     "output_type": "stream",
     "text": [
      "영어단어,뜻 :  book,책\n",
      "영어단어,뜻 :  sea,바다\n",
      "영어단어,뜻 :  water,물\n",
      "영어단어,뜻 :  \n"
     ]
    },
    {
     "data": {
      "text/plain": [
       "{'book': '책', 'sea': '바다', 'water': '물'}"
      ]
     },
     "execution_count": 3,
     "metadata": {},
     "output_type": "execute_result"
    }
   ],
   "source": [
    "# 빈 딕셔너리 만들기\n",
    "dict_word = {}\n",
    "\n",
    "# 공백을 입력할 때까지 입력 키값과 밸류값 받기\n",
    "while True:\n",
    "    input_word = input('영어단어,뜻 : ')\n",
    "    if input_word == '':\n",
    "        break\n",
    "    # 키값과 밸류값 분리하기\n",
    "    eng = input_word.split(',')[0]\n",
    "    kor = input_word.split(',')[1]\n",
    "\n",
    "    # 키값과 밸류값 저장하기(키값 eng를 저장함과 동시에 키값 eng에 밸류값 kor 저장, 하나의 딕셔너리 완성)\n",
    "    dict_word[eng] = kor\n",
    "\n",
    "# 출력하기\n",
    "dict_word"
   ]
  },
  {
   "cell_type": "markdown",
   "id": "50ebd789-c414-4d28-8917-85056cd3041a",
   "metadata": {},
   "source": [
    "# 할인된 금액 계산 프로그램"
   ]
  },
  {
   "cell_type": "code",
   "execution_count": 10,
   "id": "ae3ddcf3-9983-4b01-933e-d844b959a9a8",
   "metadata": {},
   "outputs": [
    {
     "name": "stdin",
     "output_type": "stream",
     "text": [
      "물건 구매가 :  398000\n"
     ]
    },
    {
     "name": "stdout",
     "output_type": "stream",
     "text": [
      "\n",
      "구매가 : 398000원\n",
      "할인율 : 10%\n",
      "할인금액 : 39800.0원\n",
      "지불금액 : 358200.0원\n",
      "\n"
     ]
    }
   ],
   "source": [
    "price = int(input('물건 구매가 : '))\n",
    "\n",
    "# 할인율 결정\n",
    "if price >= 100000:\n",
    "    dc = 10\n",
    "elif pricr >= 50000:\n",
    "    dc = 7\n",
    "elif price >= 10000:\n",
    "    dc = 5\n",
    "else:\n",
    "    dc = 0\n",
    "\n",
    "# 출력\n",
    "print(f'''\n",
    "구매가 : {price}원\n",
    "할인율 : {dc}%\n",
    "할인금액 : {price * (dc/100)}원\n",
    "지불금액 : {price - price * (dc/100)}원\n",
    "''')"
   ]
  },
  {
   "cell_type": "markdown",
   "id": "c8fbe20f-d506-48d2-ac26-c0c078a68289",
   "metadata": {},
   "source": [
    "# 사칙연산 프로그램"
   ]
  },
  {
   "cell_type": "code",
   "execution_count": 11,
   "id": "57319680-15ee-49ad-980e-42cf21c7feaf",
   "metadata": {},
   "outputs": [
    {
     "name": "stdin",
     "output_type": "stream",
     "text": [
      "숫자1 :  8\n",
      "숫자2 :  6\n",
      "연산기호 :  *\n"
     ]
    },
    {
     "name": "stdout",
     "output_type": "stream",
     "text": [
      "곱셈 : 8 * 6 = 48\n"
     ]
    }
   ],
   "source": [
    "num1 = int(input('숫자1 : '))\n",
    "num2 = int(input('숫자2 : '))\n",
    "op = input('연산기호 : ')\n",
    "\n",
    "if op == '+':\n",
    "    print(f'덧셈 : {num1} + {num2} = {num1+num2}')\n",
    "elif op == '-':\n",
    "    print(f'뺄셈 : {num1} - {num2} = {num1-num2}')\n",
    "elif op == '*':\n",
    "    print(f'곱셈 : {num1} * {num2} = {num1*num2}')\n",
    "elif op == '/':\n",
    "    print(f'나눗셈 : {num1} / {num2} = {num1/num2}')\n",
    "else:\n",
    "    print('잘못 입력하셨습니다.')"
   ]
  },
  {
   "cell_type": "markdown",
   "id": "a3f24a04-0516-4ca3-b07e-07ed0e07fbeb",
   "metadata": {},
   "source": [
    "# up&dwon 숫자 맞추기 게임 프로그램"
   ]
  },
  {
   "cell_type": "code",
   "execution_count": 12,
   "id": "53da0a9f-1506-4835-b426-84f7dd1fdc61",
   "metadata": {},
   "outputs": [
    {
     "name": "stdin",
     "output_type": "stream",
     "text": [
      "Attempt 1. 예상 숫자를 입력하세요 (1~100) :  56\n"
     ]
    },
    {
     "name": "stdout",
     "output_type": "stream",
     "text": [
      "Up\n"
     ]
    },
    {
     "name": "stdin",
     "output_type": "stream",
     "text": [
      "Attempt 2. 예상 숫자를 입력하세요 (1~100) :  80\n"
     ]
    },
    {
     "name": "stdout",
     "output_type": "stream",
     "text": [
      "Down\n"
     ]
    },
    {
     "name": "stdin",
     "output_type": "stream",
     "text": [
      "Attempt 3. 예상 숫자를 입력하세요 (1~100) :  70\n"
     ]
    },
    {
     "name": "stdout",
     "output_type": "stream",
     "text": [
      "Up\n"
     ]
    },
    {
     "name": "stdin",
     "output_type": "stream",
     "text": [
      "Attempt 4. 예상 숫자를 입력하세요 (1~100) :  74\n"
     ]
    },
    {
     "name": "stdout",
     "output_type": "stream",
     "text": [
      "Down\n"
     ]
    },
    {
     "name": "stdin",
     "output_type": "stream",
     "text": [
      "Attempt 5. 예상 숫자를 입력하세요 (1~100) :  72\n"
     ]
    },
    {
     "name": "stdout",
     "output_type": "stream",
     "text": [
      "Up\n",
      "횟수 초과입니다. 정답은 73였습니다\n"
     ]
    }
   ],
   "source": [
    "import random\n",
    "def guess_number_game(max_attempts=5):\n",
    "    cnt = 0\n",
    "    num = random.randint(1, 100)\n",
    "\n",
    "    while cnt < max_attempts:\n",
    "        cnt += 1\n",
    "        answer = int(input(f'Attempt {cnt}. 예상 숫자를 입력하세요 (1~100) : '))\n",
    "        if answer == num:\n",
    "            print('정답 입니다!')\n",
    "            print(f'{cnt}번 만에 맞추셨습니다.')\n",
    "            return\n",
    "\n",
    "        if answer < num:\n",
    "            print('Up')\n",
    "        else:\n",
    "            print('Down')\n",
    "\n",
    "    print(f'횟수 초과입니다. 정답은 {num}였습니다')\n",
    "# 시작\n",
    "guess_number_game()"
   ]
  },
  {
   "cell_type": "markdown",
   "id": "b8dbc3bf-0903-4539-a4eb-dc5ab334cf44",
   "metadata": {},
   "source": [
    "# 아이디/비밀번호 프로그램"
   ]
  },
  {
   "cell_type": "code",
   "execution_count": 14,
   "id": "86d679e5-4ad8-40d9-94be-3dd6ec6ca59a",
   "metadata": {},
   "outputs": [
    {
     "name": "stdin",
     "output_type": "stream",
     "text": [
      "id :  youngjun\n",
      "pwd :  101\n"
     ]
    },
    {
     "name": "stdout",
     "output_type": "stream",
     "text": [
      "비밀번호를 확인하세요.\n"
     ]
    },
    {
     "name": "stdin",
     "output_type": "stream",
     "text": [
      "id :  youngjun\n",
      "pwd :  100\n"
     ]
    }
   ],
   "source": [
    "# 주어진 아이디와 비밀번호\n",
    "id = 'youngjun'\n",
    "pwd = '100'\n",
    "\n",
    "while True:\n",
    "    input_id = input('id : ')\n",
    "    input_pwd = input('pwd : ')\n",
    "\n",
    "    if id == input_id and pwd == input_pwd:\n",
    "        break\n",
    "    if id != input_id:\n",
    "        print('아이디를 확인하세요.')\n",
    "    if pwd != input_pwd:\n",
    "        print('비밀번호를 확인하세요.')"
   ]
  }
 ],
 "metadata": {
  "kernelspec": {
   "display_name": "Python 3 (ipykernel)",
   "language": "python",
   "name": "python3"
  },
  "language_info": {
   "codemirror_mode": {
    "name": "ipython",
    "version": 3
   },
   "file_extension": ".py",
   "mimetype": "text/x-python",
   "name": "python",
   "nbconvert_exporter": "python",
   "pygments_lexer": "ipython3",
   "version": "3.11.7"
  }
 },
 "nbformat": 4,
 "nbformat_minor": 5
}
