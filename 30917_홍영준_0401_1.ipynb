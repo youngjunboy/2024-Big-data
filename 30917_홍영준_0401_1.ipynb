{
 "cells": [
  {
   "cell_type": "markdown",
   "id": "e751d1ba-9c26-488c-b4af-5c118308cd95",
   "metadata": {},
   "source": [
    "# 30917_홍영준_0401_1"
   ]
  },
  {
   "cell_type": "markdown",
   "id": "976e0f3d-d3fa-4db7-b06a-8568fde53166",
   "metadata": {},
   "source": [
    "# 1"
   ]
  },
  {
   "cell_type": "code",
   "execution_count": 8,
   "id": "528834c4-5738-4e69-a89d-0a218ee79014",
   "metadata": {},
   "outputs": [
    {
     "name": "stdout",
     "output_type": "stream",
     "text": [
      "배열의 최댓값을 구합니다.\n"
     ]
    },
    {
     "name": "stdin",
     "output_type": "stream",
     "text": [
      "원소 수를 입력하세요 :  3\n",
      "x[0]를 입력하세요 :  6\n",
      "x[1]를 입력하세요 :  7\n",
      "x[2]를 입력하세요 :  3\n"
     ]
    },
    {
     "name": "stdout",
     "output_type": "stream",
     "text": [
      "최댓값은 7입니다.\n"
     ]
    }
   ],
   "source": [
    "# 시퀀스 원소의 최댓값을 출력하기\n",
    "\n",
    "from typing import Any, Sequence\n",
    "\n",
    "def max_of(a: Sequence) -> Any:\n",
    "    \"\"\"시퀀스형 a 요소의 최댓값을 반환\"\"\"\n",
    "    maximum = a[0]\n",
    "    for i in range(1, len(a)):\n",
    "        if a[i] > maximum:\n",
    "            maximum = a[i]\n",
    "    return maximum\n",
    "\n",
    "if __name__ == '__main__':\n",
    "    print('배열의 최댓값을 구합니다.')\n",
    "    num = int(input('원소 수를 입력하세요 : '))\n",
    "    x = [None] * num     # 원소 수가 num인 리스트를 생성\n",
    "\n",
    "    for i in range(num):\n",
    "        x[i] = int(input(f'x[{i}]를 입력하세요 : '))\n",
    "\n",
    "    print(f'최댓값은 {max_of(x)}입니다.')"
   ]
  },
  {
   "cell_type": "markdown",
   "id": "9220b9bc-8480-4989-b6a2-a1287b7a2301",
   "metadata": {},
   "source": [
    "# 2"
   ]
  },
  {
   "cell_type": "code",
   "execution_count": 9,
   "id": "2984a480-721d-4f99-a209-703f47cc194c",
   "metadata": {},
   "outputs": [
    {
     "name": "stdout",
     "output_type": "stream",
     "text": [
      "배열의 최댓값을 구합니다.\n",
      "주의 : \"End\"를 입력하면 종료합니다.\n"
     ]
    },
    {
     "name": "stdin",
     "output_type": "stream",
     "text": [
      "x[0]를 입력하세요 :  10\n",
      "x[1]를 입력하세요 :  20\n",
      "x[2]를 입력하세요 :  3\n",
      "x[3]를 입력하세요 :  5\n",
      "x[4]를 입력하세요 :  29\n",
      "x[5]를 입력하세요 :  539\n",
      "x[6]를 입력하세요 :  19\n",
      "x[7]를 입력하세요 :  40\n",
      "x[8]를 입력하세요 :  192\n",
      "x[9]를 입력하세요 :  58\n",
      "x[10]를 입력하세요 :  38\n",
      "x[11]를 입력하세요 :  End\n"
     ]
    },
    {
     "name": "stdout",
     "output_type": "stream",
     "text": [
      "11개를 입력했습니다.\n",
      "최댓값은 539입니다.\n"
     ]
    }
   ],
   "source": [
    "# 배열 원소의 최댓값을 구해서 출력하기(원솟값을 입력받음)\n",
    "# from max import max_of\n",
    "print('배열의 최댓값을 구합니다.')\n",
    "print('주의 : \"End\"를 입력하면 종료합니다.')\n",
    "\n",
    "number = 0\n",
    "x = []                    # 넌 리스트\n",
    "\n",
    "while True:\n",
    "    s = input(f'x[{number}]를 입력하세요 : ')\n",
    "    if s == 'End':\n",
    "        break\n",
    "    x.append(int(s))      # 배열의 끝에 추가\n",
    "    number += 1\n",
    "\n",
    "print(f'{number}개를 입력했습니다.')\n",
    "print(f'최댓값은 {max_of(x)}입니다.')"
   ]
  },
  {
   "cell_type": "markdown",
   "id": "041d55f7-96c9-4f20-bf50-fc9972018b01",
   "metadata": {},
   "source": [
    "# 3"
   ]
  },
  {
   "cell_type": "code",
   "execution_count": 13,
   "id": "bf3497d2-2a1d-45bf-8e6d-0cd4cffddc25",
   "metadata": {},
   "outputs": [
    {
     "name": "stdout",
     "output_type": "stream",
     "text": [
      "난수의 최댓값을 구합니다.\n"
     ]
    },
    {
     "name": "stdin",
     "output_type": "stream",
     "text": [
      "난수의 개수를 입력하세요 :  9\n",
      "난수의 최솟값을 입력하세요 :  32\n",
      "난수의 최댓값을 입력하세요 :  75\n"
     ]
    },
    {
     "name": "stdout",
     "output_type": "stream",
     "text": [
      "[54, 35, 45, 40, 43, 74, 61, 56, 54]\n",
      "이 가운데 최댓값은 74입니다.\n"
     ]
    }
   ],
   "source": [
    "# 배열 원소의 최댓값을 구해서 출력하기(원솟값을 난수로 생성)\n",
    "\n",
    "import random\n",
    "\n",
    "print('난수의 최댓값을 구합니다.')\n",
    "num = int(input('난수의 개수를 입력하세요 : '))\n",
    "lo = int(input('난수의 최솟값을 입력하세요 : '))\n",
    "hi = int(input('난수의 최댓값을 입력하세요 : '))\n",
    "x = [None] * num             # 원소 수 num인 리스트를 생성\n",
    "\n",
    "for i in range(num):\n",
    "    x[i] = random.randint(lo, hi)\n",
    "\n",
    "print(f'{(x)}')\n",
    "print(f'이 가운데 최댓값은 {max_of(x)}입니다.')"
   ]
  },
  {
   "cell_type": "code",
   "execution_count": null,
   "id": "618f685c-6179-4772-bba0-74528131e748",
   "metadata": {},
   "outputs": [],
   "source": []
  }
 ],
 "metadata": {
  "kernelspec": {
   "display_name": "Python 3 (ipykernel)",
   "language": "python",
   "name": "python3"
  },
  "language_info": {
   "codemirror_mode": {
    "name": "ipython",
    "version": 3
   },
   "file_extension": ".py",
   "mimetype": "text/x-python",
   "name": "python",
   "nbconvert_exporter": "python",
   "pygments_lexer": "ipython3",
   "version": "3.11.7"
  }
 },
 "nbformat": 4,
 "nbformat_minor": 5
}
