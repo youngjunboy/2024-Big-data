{
 "cells": [
  {
   "cell_type": "markdown",
   "id": "6313a6f2-034e-4cb7-b09e-b94e6224c383",
   "metadata": {},
   "source": [
    "# 30917_홍영준_0415_Q"
   ]
  },
  {
   "cell_type": "markdown",
   "id": "2703f612-d43f-4bbb-ba88-18391d664919",
   "metadata": {},
   "source": [
    "# 6081 : [기초-종합] 16진수 구구단 출력하기(py)\n",
    "16진수(0, 1, 2, 3, 4, 5, 6, 7, 8, 9, A, B, C, D, E, F)를 배운\r\n",
    "영일이는 16진수끼리 곱하는 16진수 구구단?에 대해서 궁금해졌다.\r\n",
    "\r\n",
    "A, B, C, D, E, F 중 하나가 입력될 때,\r\n",
    "1부터 F까지 곱한 16진수 구구단의 내용을 출력해보자.\r\n",
    "(단, A ~ F 까지만 입력된다.)\r\n",
    "\r\n",
    "예시\r\n",
    "...\r\n",
    "  print('%X'%n, '*%X'%i, '=%X'%(n*i), sep='')\r\n",
    "...\r\n",
    "\r\n",
    "참고\r\n",
    "print('%X'%n)    #n에 저장되어있는 값을 16진수(hexadecimal) 형태로 출력\r\n",
    "작은 따옴표 2개를 사용해서 print(..., sep='') 으로 출력하면, 공백없이 모두 붙여 출력된다.\r\n",
    "작은 따옴표 2개 '' 또는 큰 따옴표 2개 \"\" 는 아무 문자도 없는 빈문자열(empty string)을 의미한다."
   ]
  },
  {
   "cell_type": "code",
   "execution_count": 7,
   "id": "d29140c8-192b-4417-904d-79c2048bd0f6",
   "metadata": {},
   "outputs": [
    {
     "name": "stdin",
     "output_type": "stream",
     "text": [
      " B\n"
     ]
    },
    {
     "name": "stdout",
     "output_type": "stream",
     "text": [
      "B*1=B\n",
      "B*2=16\n",
      "B*3=21\n",
      "B*4=2C\n",
      "B*5=37\n",
      "B*6=42\n",
      "B*7=4D\n",
      "B*8=58\n",
      "B*9=63\n",
      "B*A=6E\n",
      "B*B=79\n",
      "B*C=84\n",
      "B*D=8F\n",
      "B*E=9A\n",
      "B*F=A5\n"
     ]
    }
   ],
   "source": [
    "n = int(input(), 16)\n",
    "\n",
    "for i in range(1,16):\n",
    "    print('%X'%n, '*%X'%i, '=%X'%(n*i), sep='')"
   ]
  },
  {
   "cell_type": "markdown",
   "id": "8a4b1374-bd8f-475e-9e50-1b1169f58318",
   "metadata": {},
   "source": [
    "# 6082 : [기초-종합] 3 6 9 게임의 왕이 되자(설명)(py)\n",
    "친구들과 함께 3 6 9 게임을 하던 영일이는 잦은 실수 때문에 계속해서 벌칙을 받게 되었다.\r\n",
    "3 6 9 게임의 왕이 되기 위한 369 마스터 프로그램을 작성해 보자.\r\n",
    "\r\n",
    "** 3 6 9 게임은?\r\n",
    "여러 사람이 순서를 정한 후, 순서대로 수를 부르는 게임이다.\r\n",
    "만약 3, 6, 9 가 들어간 수를 자신이 불러야 하는 상황이라면, 수를 부르는 대신 \"박수(X)\" 를 쳐야 한다.\r\n",
    "33과 같이 3,6,9가 두 번 들어간 수 일때, \"짝짝\"과 같이 박수를 두 번 치는 형태도 있다. \r\n",
    "\r\n",
    "참고 \r\n",
    "...\r\n",
    "for i in range(1, n+1) :\r\n",
    "  if i%10==3 :\r\n",
    "    print(\"X\", end=' ')    #출력 후 공백문자(빈칸, ' ')로 끝냄"
   ]
  },
  {
   "cell_type": "code",
   "execution_count": 19,
   "id": "082fce49-1b14-4c61-bf6b-498cca87f4b6",
   "metadata": {},
   "outputs": [
    {
     "name": "stdin",
     "output_type": "stream",
     "text": [
      " 27\n"
     ]
    },
    {
     "name": "stdout",
     "output_type": "stream",
     "text": [
      "1 2 X 4 5 X 7 8 X 10 11 12 X 14 15 X 17 18 X 20 21 22 X 24 25 X 27 "
     ]
    }
   ],
   "source": [
    "n = int(input())\n",
    "\n",
    "for i in range(1,n+1):\n",
    "    if i%10 == 3 or i%10 == 6 or i%10 == 9:\n",
    "        print(\"X\", end=\" \")\n",
    "    else:\n",
    "        print(i, end=\" \")"
   ]
  },
  {
   "cell_type": "markdown",
   "id": "8eef4c7e-a569-42e9-8491-2b16483aafb1",
   "metadata": {},
   "source": [
    "# 6083 : [기초-종합] 빛 섞어 색 만들기(설명)(py)\n",
    "빨강(red), 초록(green), 파랑(blue) 빛을 섞어 여러 가지 다른 색 빛을 만들어 내려고 한다.\r\n",
    "\r\n",
    "빨강(r), 초록(g), 파랑(b) 각 빛의 가짓수가 주어질 때,\r\n",
    "주어진 rgb 빛들을 섞어 만들 수 있는 모든 경우의 조합(r g b)과 만들 수 있는 색의 가짓 수를 계산해보자.  \r\n",
    "\r\n",
    "**모니터, 스마트폰과 같은 디스플레이에서 각 픽셀의 색을 만들어내기 위해서 r, g, b 색을 조합할 수 있다.\r\n",
    "**픽셀(pixel)은 그림(picture)을 구성하는 셀(cell)에서 이름이 만들어졌다."
   ]
  },
  {
   "cell_type": "code",
   "execution_count": 23,
   "id": "55216c9a-e88b-4fc0-927d-a8650c1a22bf",
   "metadata": {},
   "outputs": [
    {
     "name": "stdin",
     "output_type": "stream",
     "text": [
      " 2 2 2\n"
     ]
    },
    {
     "name": "stdout",
     "output_type": "stream",
     "text": [
      "0 0 0\n",
      "0 0 1\n",
      "0 1 0\n",
      "0 1 1\n",
      "1 0 0\n",
      "1 0 1\n",
      "1 1 0\n",
      "1 1 1\n",
      "8\n"
     ]
    }
   ],
   "source": [
    "a, b, c = map(int, input().split())\n",
    "\n",
    "for i in range(a):\n",
    "    for j in range(b):\n",
    "        for p in range(c):\n",
    "            print(i,j,p)\n",
    "print(a*b*c)"
   ]
  }
 ],
 "metadata": {
  "kernelspec": {
   "display_name": "Python 3 (ipykernel)",
   "language": "python",
   "name": "python3"
  },
  "language_info": {
   "codemirror_mode": {
    "name": "ipython",
    "version": 3
   },
   "file_extension": ".py",
   "mimetype": "text/x-python",
   "name": "python",
   "nbconvert_exporter": "python",
   "pygments_lexer": "ipython3",
   "version": "3.11.7"
  }
 },
 "nbformat": 4,
 "nbformat_minor": 5
}
