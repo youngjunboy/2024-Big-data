{
 "cells": [
  {
   "cell_type": "markdown",
   "id": "cba0fedb",
   "metadata": {},
   "source": [
    "# 30917_홍영준_0830_Q"
   ]
  },
  {
   "cell_type": "markdown",
   "id": "7db5ef14",
   "metadata": {},
   "source": [
    "# 1131 : 문자 출력하기"
   ]
  },
  {
   "cell_type": "code",
   "execution_count": 23,
   "id": "0f297584",
   "metadata": {},
   "outputs": [
    {
     "name": "stdout",
     "output_type": "stream",
     "text": [
      "z\n",
      "z\n"
     ]
    }
   ],
   "source": [
    "n = input()\n",
    "print(n)"
   ]
  },
  {
   "cell_type": "markdown",
   "id": "e3ae5420",
   "metadata": {},
   "source": [
    "# 1132 : 문자열 출력하기"
   ]
  },
  {
   "cell_type": "code",
   "execution_count": 22,
   "id": "8a169b98",
   "metadata": {},
   "outputs": [
    {
     "name": "stdout",
     "output_type": "stream",
     "text": [
      "dogdog\n",
      "dogdog\n"
     ]
    }
   ],
   "source": [
    "n2 = input()\n",
    "print(n2)"
   ]
  },
  {
   "cell_type": "markdown",
   "id": "27eb3a60",
   "metadata": {},
   "source": [
    "# 1135 : 관계연산자 1"
   ]
  },
  {
   "cell_type": "code",
   "execution_count": 49,
   "id": "d3c33030",
   "metadata": {},
   "outputs": [
    {
     "name": "stdout",
     "output_type": "stream",
     "text": [
      "3 7\n",
      "0\n"
     ]
    }
   ],
   "source": [
    "a, b = map(int,input().split())\n",
    "if a >= b:\n",
    "    print('1')\n",
    "else:\n",
    "    print('0')"
   ]
  },
  {
   "cell_type": "markdown",
   "id": "7c0bf58e",
   "metadata": {},
   "source": [
    "# 1136 : 관계연산자 2"
   ]
  },
  {
   "cell_type": "code",
   "execution_count": 50,
   "id": "223e73d4",
   "metadata": {},
   "outputs": [
    {
     "name": "stdout",
     "output_type": "stream",
     "text": [
      "4 9\n",
      "0\n"
     ]
    }
   ],
   "source": [
    "a2, b2 = map(int,input().split())\n",
    "if a == b:\n",
    "    print('1')\n",
    "elif a != b:\n",
    "    print('0')"
   ]
  },
  {
   "cell_type": "markdown",
   "id": "7dcb5dbe",
   "metadata": {},
   "source": [
    "# 1137 : 관계연산자 3"
   ]
  },
  {
   "cell_type": "code",
   "execution_count": 51,
   "id": "e49dacb6",
   "metadata": {},
   "outputs": [
    {
     "name": "stdout",
     "output_type": "stream",
     "text": [
      "2 9\n",
      "1\n"
     ]
    }
   ],
   "source": [
    "a3, b3 = map(int,input().split())\n",
    "if a == b:\n",
    "    print('0')\n",
    "elif a != b:\n",
    "    print('1')"
   ]
  },
  {
   "cell_type": "markdown",
   "id": "7dfdb887",
   "metadata": {},
   "source": [
    "# 1138 : 논리 연산자(NOT)"
   ]
  },
  {
   "cell_type": "code",
   "execution_count": 52,
   "id": "5f8222bc",
   "metadata": {},
   "outputs": [
    {
     "name": "stdout",
     "output_type": "stream",
     "text": [
      "1\n",
      "0\n"
     ]
    }
   ],
   "source": [
    "n3 = int(input())\n",
    "if n3 == 1 :\n",
    "    print('0')\n",
    "else :\n",
    "    print('1')"
   ]
  },
  {
   "cell_type": "markdown",
   "id": "c2103e69",
   "metadata": {},
   "source": [
    "# 1139 : 논리 연산자(AND)"
   ]
  },
  {
   "cell_type": "code",
   "execution_count": 54,
   "id": "e1fc74bb",
   "metadata": {},
   "outputs": [
    {
     "name": "stdout",
     "output_type": "stream",
     "text": [
      "1 0\n",
      "0\n"
     ]
    }
   ],
   "source": [
    "a4, b4 = map(int,input().split())\n",
    "if a4 & b4 == 1 :\n",
    "    print('1')\n",
    "else :\n",
    "    print('0')"
   ]
  },
  {
   "cell_type": "markdown",
   "id": "bb4a785e",
   "metadata": {},
   "source": [
    "# 1140 : 논리 연산자(OR)"
   ]
  },
  {
   "cell_type": "code",
   "execution_count": 55,
   "id": "28608df2",
   "metadata": {},
   "outputs": [
    {
     "name": "stdout",
     "output_type": "stream",
     "text": [
      "0 1\n",
      "1\n"
     ]
    }
   ],
   "source": [
    "a4, b4 = map(int,input().split())\n",
    "if a4 | b4 == 1 :\n",
    "    print('1')\n",
    "else :\n",
    "    print('0')"
   ]
  },
  {
   "cell_type": "code",
   "execution_count": null,
   "id": "6aaf2a52",
   "metadata": {},
   "outputs": [],
   "source": []
  }
 ],
 "metadata": {
  "kernelspec": {
   "display_name": "Python 3 (ipykernel)",
   "language": "python",
   "name": "python3"
  },
  "language_info": {
   "codemirror_mode": {
    "name": "ipython",
    "version": 3
   },
   "file_extension": ".py",
   "mimetype": "text/x-python",
   "name": "python",
   "nbconvert_exporter": "python",
   "pygments_lexer": "ipython3",
   "version": "3.9.7"
  }
 },
 "nbformat": 4,
 "nbformat_minor": 5
}
