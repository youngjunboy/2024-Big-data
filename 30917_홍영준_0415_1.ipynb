{
 "cells": [
  {
   "cell_type": "markdown",
   "id": "8266cc98-d978-4c6d-a4b3-0bc6b3849b7c",
   "metadata": {},
   "source": [
    "# 30917_홍영준_0415_1"
   ]
  },
  {
   "cell_type": "code",
   "execution_count": 4,
   "id": "56a63919-e6d0-4c23-bfb2-57cfd39801f9",
   "metadata": {},
   "outputs": [
    {
     "name": "stdout",
     "output_type": "stream",
     "text": [
      "101부터 150까지의 합은 6275입니다.\n"
     ]
    }
   ],
   "source": [
    "## 반복문을 아용하여 101부터 150까지 합을 구하는 프로그램 작성\n",
    "\n",
    "result = 0\n",
    "for i in range(101,151):\n",
    "    result += i\n",
    "\n",
    "print(f\"101부터 150까지의 합은 {result}입니다.\")"
   ]
  },
  {
   "cell_type": "code",
   "execution_count": 9,
   "id": "4aa146c0-e071-40fe-ac64-dcdbc2127e52",
   "metadata": {},
   "outputs": [
    {
     "name": "stdout",
     "output_type": "stream",
     "text": [
      "3628800\n"
     ]
    }
   ],
   "source": [
    "# 1부터 10까지 곱하는 프로그램 작성\n",
    "\n",
    "result1 = 1\n",
    "for i in range(1,11):\n",
    "    result1 *= i\n",
    "\n",
    "print(result1)"
   ]
  },
  {
   "cell_type": "code",
   "execution_count": 15,
   "id": "d942dcf7-74ff-43ed-a202-dd84530ccf5d",
   "metadata": {},
   "outputs": [
    {
     "name": "stdin",
     "output_type": "stream",
     "text": [
      "몇단을 외울까요?  12\n"
     ]
    },
    {
     "name": "stdout",
     "output_type": "stream",
     "text": [
      "12 X 1 = 12\n",
      "12 X 2 = 24\n",
      "12 X 3 = 36\n",
      "12 X 4 = 48\n",
      "12 X 5 = 60\n",
      "12 X 6 = 72\n",
      "12 X 7 = 84\n",
      "12 X 8 = 96\n",
      "12 X 9 = 108\n"
     ]
    }
   ],
   "source": [
    "# 구구단 출력하기\n",
    "# 입력값 설계\n",
    "num = int(input(\"몇단을 외울까요? \"))\n",
    "# 출력값 설계\n",
    "for i in range(1,10):\n",
    "    print(f\"{num} X {i} = {num * i}\")"
   ]
  },
  {
   "cell_type": "code",
   "execution_count": 21,
   "id": "54e102f4-0102-473c-aa48-956de0525a19",
   "metadata": {},
   "outputs": [
    {
     "name": "stdout",
     "output_type": "stream",
     "text": [
      "0.4660404199512249\n"
     ]
    }
   ],
   "source": [
    "# random 임의의 숫자\n",
    "\n",
    "# 라이브러리 libary 불러오기\n",
    "import random\n",
    "\n",
    "print(random.random())"
   ]
  },
  {
   "cell_type": "code",
   "execution_count": 25,
   "id": "cb118ae2-2e80-40f6-9ad6-b184b56c09ff",
   "metadata": {},
   "outputs": [
    {
     "name": "stdout",
     "output_type": "stream",
     "text": [
      "7\n"
     ]
    }
   ],
   "source": [
    "# 라이브러리 libary 불러오기\n",
    "import random\n",
    "# 랜덤 범위를 지정한다.\n",
    "print(random.randrange(1,10))"
   ]
  },
  {
   "cell_type": "code",
   "execution_count": 26,
   "id": "fa61f211-7d45-464e-a8bc-445adb3321ee",
   "metadata": {},
   "outputs": [
    {
     "name": "stdout",
     "output_type": "stream",
     "text": [
      "3\n",
      "9\n",
      "0\n",
      "2\n",
      "9\n",
      "8\n",
      "3\n",
      "8\n",
      "1\n",
      "8\n"
     ]
    }
   ],
   "source": [
    "import random\n",
    "\n",
    "for i in range(10) :\n",
    "    print(random.randint(0,10))"
   ]
  },
  {
   "cell_type": "code",
   "execution_count": 28,
   "id": "60b1ef19-ac6c-48a6-b741-7dcde6af2b2b",
   "metadata": {},
   "outputs": [
    {
     "name": "stdout",
     "output_type": "stream",
     "text": [
      "구구단을 외자~~ 구구단을 외자~~ \n",
      "6 X 6는? 36\n",
      "9 X 7는? 63\n",
      "6 X 4는? 24\n",
      "3 X 4는? 12\n",
      "5 X 3는? 15\n",
      "6 X 1는? 6\n",
      "9 X 6는? 54\n",
      "3 X 7는? 21\n",
      "2 X 2는? 4\n",
      "9 X 2는? 18\n"
     ]
    }
   ],
   "source": [
    "# 구구단 외기 게임 1\n",
    "import random\n",
    "\n",
    "print('구구단을 외자~~ ' * 2)\n",
    "\n",
    "for i in range(10):\n",
    "    a = random.randint(2,9)\n",
    "    b = random.randint(1,9)\n",
    "    print(f'{a} X {b}는? {a*b}')"
   ]
  },
  {
   "cell_type": "code",
   "execution_count": 33,
   "id": "2695a08d-8f84-436d-8d0f-c1bf2407db8b",
   "metadata": {},
   "outputs": [
    {
     "name": "stdout",
     "output_type": "stream",
     "text": [
      "구구단을 외자~~ 구구단을 외자~~ \n",
      "9 X 2 은? \n"
     ]
    },
    {
     "name": "stdin",
     "output_type": "stream",
     "text": [
      " 18\n"
     ]
    },
    {
     "name": "stdout",
     "output_type": "stream",
     "text": [
      "정답!\n",
      "5 X 2 은? \n"
     ]
    },
    {
     "name": "stdin",
     "output_type": "stream",
     "text": [
      " 12\n"
     ]
    },
    {
     "name": "stdout",
     "output_type": "stream",
     "text": [
      "땡!!\n",
      "6 X 8 은? \n"
     ]
    },
    {
     "name": "stdin",
     "output_type": "stream",
     "text": [
      " 48\n"
     ]
    },
    {
     "name": "stdout",
     "output_type": "stream",
     "text": [
      "정답!\n",
      "7 X 7 은? \n"
     ]
    },
    {
     "name": "stdin",
     "output_type": "stream",
     "text": [
      " 29\n"
     ]
    },
    {
     "name": "stdout",
     "output_type": "stream",
     "text": [
      "땡!!\n",
      "4 X 9 은? \n"
     ]
    },
    {
     "name": "stdin",
     "output_type": "stream",
     "text": [
      " 28\n"
     ]
    },
    {
     "name": "stdout",
     "output_type": "stream",
     "text": [
      "땡!!\n",
      "9 X 9 은? \n"
     ]
    },
    {
     "name": "stdin",
     "output_type": "stream",
     "text": [
      " 81\n"
     ]
    },
    {
     "name": "stdout",
     "output_type": "stream",
     "text": [
      "정답!\n",
      "6 X 6 은? \n"
     ]
    },
    {
     "name": "stdin",
     "output_type": "stream",
     "text": [
      " 42\n"
     ]
    },
    {
     "name": "stdout",
     "output_type": "stream",
     "text": [
      "땡!!\n",
      "7 X 2 은? \n"
     ]
    },
    {
     "name": "stdin",
     "output_type": "stream",
     "text": [
      " 14\n"
     ]
    },
    {
     "name": "stdout",
     "output_type": "stream",
     "text": [
      "정답!\n",
      "4 X 2 은? \n"
     ]
    },
    {
     "name": "stdin",
     "output_type": "stream",
     "text": [
      " 8\n"
     ]
    },
    {
     "name": "stdout",
     "output_type": "stream",
     "text": [
      "정답!\n",
      "6 X 1 은? \n"
     ]
    },
    {
     "name": "stdin",
     "output_type": "stream",
     "text": [
      " 7\n"
     ]
    },
    {
     "name": "stdout",
     "output_type": "stream",
     "text": [
      "땡!!\n"
     ]
    }
   ],
   "source": [
    "# 구구단 외기 게임 2 - 정답을 입력 받아 보기\n",
    "import random\n",
    "\n",
    "print('구구단을 외자~~ ' * 2)\n",
    "\n",
    "for i in range(10):\n",
    "    a = random.randint(2,9)\n",
    "    b = random.randint(1,9)\n",
    "    print(f'{a} X {b} 은? ')\n",
    "    question = int(input())\n",
    "    if question == a*b:      # 변수를 만들어서 저장하여 비교해도 가능!\n",
    "        print(\"정답!\")\n",
    "    else:\n",
    "        print(\"땡!!\")"
   ]
  }
 ],
 "metadata": {
  "kernelspec": {
   "display_name": "Python 3 (ipykernel)",
   "language": "python",
   "name": "python3"
  },
  "language_info": {
   "codemirror_mode": {
    "name": "ipython",
    "version": 3
   },
   "file_extension": ".py",
   "mimetype": "text/x-python",
   "name": "python",
   "nbconvert_exporter": "python",
   "pygments_lexer": "ipython3",
   "version": "3.11.7"
  }
 },
 "nbformat": 4,
 "nbformat_minor": 5
}
