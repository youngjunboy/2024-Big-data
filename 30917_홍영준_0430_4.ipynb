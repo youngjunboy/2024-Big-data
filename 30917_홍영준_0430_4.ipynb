{
 "cells": [
  {
   "cell_type": "markdown",
   "id": "dac44adc-5a74-4aa4-bccd-2e57fccd8b11",
   "metadata": {},
   "source": [
    "# 30917_홍영준_0430_4"
   ]
  },
  {
   "cell_type": "code",
   "execution_count": 2,
   "id": "20024cf8-6835-42c8-9bc0-c81f1f4d7907",
   "metadata": {},
   "outputs": [
    {
     "name": "stdout",
     "output_type": "stream",
     "text": [
      "연도 :  2024\n",
      "월 :  04\n",
      "일 :  30\n"
     ]
    }
   ],
   "source": [
    "date = '2024-04-30'\n",
    "\n",
    "print('연도 : ', date[:4])\n",
    "print('월 : ', date[5:7])\n",
    "print('일 : ', date[-2:])"
   ]
  },
  {
   "cell_type": "code",
   "execution_count": 6,
   "id": "84741f6f-8be9-48cb-8b86-f53a928575ee",
   "metadata": {},
   "outputs": [
    {
     "name": "stdout",
     "output_type": "stream",
     "text": [
      "['급식', '먹고', '싶다']\n",
      "급식\n",
      "먹고\n",
      "싶다\n"
     ]
    }
   ],
   "source": [
    "# 공백으로 문장을 나누는 명령어 split\n",
    "a = '급식 먹고 싶다'\n",
    "print(a.split())\n",
    "print(a.split()[0])\n",
    "print(a.split()[1])\n",
    "print(a.split()[2])"
   ]
  },
  {
   "cell_type": "code",
   "execution_count": 11,
   "id": "cc5d3089-0cd4-4167-9995-9a86c03339c2",
   "metadata": {},
   "outputs": [
    {
     "name": "stdout",
     "output_type": "stream",
     "text": [
      "2024 04 30 "
     ]
    }
   ],
   "source": [
    "# -(하이픈)을 기준으로 split\n",
    "print(date.split('-')[0], end=' ')\n",
    "print(date.split('-')[1], end=' ')\n",
    "print(date.split('-')[2], end=' ')"
   ]
  },
  {
   "cell_type": "code",
   "execution_count": 15,
   "id": "6d1076fc-22b6-46f3-beba-6307aea97875",
   "metadata": {},
   "outputs": [
    {
     "name": "stdout",
     "output_type": "stream",
     "text": [
      "정렬 후 :  ['라면', '빵', '스테이크', '아이스크림', '치킨', '피자', '햄버거']\n"
     ]
    }
   ],
   "source": [
    "# 리스트 원소 정렬하기 .sort()\n",
    "food = ['피자','치킨','스테이크','라면','햄버거','아이스크림','빵']\n",
    "\n",
    "food.sort()\n",
    "print('정렬 후 : ', food)"
   ]
  },
  {
   "cell_type": "code",
   "execution_count": 17,
   "id": "c52bf301-62bb-4cfd-b350-10c0eaf63c43",
   "metadata": {},
   "outputs": [
    {
     "name": "stdout",
     "output_type": "stream",
     "text": [
      "역순 정렬 후 :  ['햄버거', '피자', '치킨', '아이스크림', '스테이크', '빵', '라면']\n"
     ]
    }
   ],
   "source": [
    "# 리스트 원소 내림차순(역순)으로 정렬하기 .sort(reverse=True)\n",
    "food = ['피자','치킨','스테이크','라면','햄버거','아이스크림','빵']\n",
    "\n",
    "food.sort(reverse=True)\n",
    "print('역순 정렬 후 : ', food)"
   ]
  },
  {
   "cell_type": "code",
   "execution_count": 21,
   "id": "b7f1475a-3541-43b6-8558-ee19c84f5c58",
   "metadata": {},
   "outputs": [
    {
     "name": "stdout",
     "output_type": "stream",
     "text": [
      "[56, 53]\n"
     ]
    }
   ],
   "source": [
    "# 문제 역순으로 정렬하고 첫번째 두번째를 출력해 보기\n",
    "spending_6mon = [25, 36, 8, 53, 24, 56]\n",
    "\n",
    "spending_6mon.sort(reverse=True)\n",
    "print(spending_6mon[:2])"
   ]
  },
  {
   "cell_type": "code",
   "execution_count": 36,
   "id": "81c9becd-908d-4e6e-a4d1-76843c4f6ab5",
   "metadata": {},
   "outputs": [
    {
     "name": "stdout",
     "output_type": "stream",
     "text": [
      "최소값 :  8\n",
      "최대값 :  56\n",
      "전체 합 :  202\n",
      "8의 위치는? :  2\n",
      "8\n"
     ]
    }
   ],
   "source": [
    "# 리스트 원소 중 최대값, 최소값 찾기 max min\n",
    "spending_6mon = [25, 36, 8, 53, 24, 56]\n",
    "print('최소값 : ', min(spending_6mon))\n",
    "print('최대값 : ', max(spending_6mon))\n",
    "# 리스트 원소 전체의 합 : sum\n",
    "print('전체 합 : ', sum(spending_6mon))\n",
    "# 리스트안의 원소의 위치를 찾기 index\n",
    "print('8의 위치는? : ', spending_6mon.index(8))\n",
    "print(spending_6mon[2])"
   ]
  }
 ],
 "metadata": {
  "kernelspec": {
   "display_name": "Python 3 (ipykernel)",
   "language": "python",
   "name": "python3"
  },
  "language_info": {
   "codemirror_mode": {
    "name": "ipython",
    "version": 3
   },
   "file_extension": ".py",
   "mimetype": "text/x-python",
   "name": "python",
   "nbconvert_exporter": "python",
   "pygments_lexer": "ipython3",
   "version": "3.11.7"
  }
 },
 "nbformat": 4,
 "nbformat_minor": 5
}
