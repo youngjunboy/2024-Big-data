{
 "cells": [
  {
   "cell_type": "markdown",
   "id": "c5aeaaa9",
   "metadata": {},
   "source": [
    "# 30917_홍영준_0403_Q"
   ]
  },
  {
   "cell_type": "markdown",
   "id": "0dbee24d",
   "metadata": {},
   "source": [
    "# 6068 : [기초-조건/선택실행구조] 점수 입력받아 평가 출력하기(설명)(py)\n",
    "점수(정수, 0 ~ 100)를 입력받아 평가를 출력해보자.\n",
    "\n",
    "평가 기준\n",
    "점수 범위 : 평가\n",
    " 90 ~ 100 : A\n",
    " 70 ~   89 : B\n",
    " 40 ~   69 : C\n",
    "   0 ~   39 : D\n",
    "로 평가되어야 한다.\n",
    "\n",
    "예시\n",
    "...\n",
    "if n>=90 :\n",
    "  print('A')\n",
    "else :\n",
    "  if n>=70 :\n",
    "    print('B')\n",
    "  else :\n",
    "    if n>=40 :\n",
    "      print('C')\n",
    "    else :\n",
    "      print('D') \n",
    "...\n",
    "\n",
    "참고\n",
    "여러 조건들을 순서대로 비교하면서 처리하기 위해서 조건문을 여러 번 중첩할 수 있다.\n",
    "\n",
    "if 조건식1 :\n",
    "  ...\n",
    "else :\n",
    "  if 조건식2 :\n",
    "    ...\n",
    "  else :\n",
    "    if 조건식3 :\n",
    "      ...\n",
    "    else :\n",
    "      ...\n",
    "...\n",
    "와 같이 조건/선택 실행 구조를 겹쳐 작성하면 순서대로 조건을 검사할 수 있다.\n",
    "어떤 조건이 참이면 그 부분의 내용을 실행하고 전체 조건/선택 구조를 빠져나가게 된다.\n",
    "\n",
    "if 조건식1 : \n",
    "  ... \n",
    "elif 조건식2 : \n",
    "  ... \n",
    "elif 조건식3 : \n",
    "  ... \n",
    "else : \n",
    "  ...\n",
    "도 똑같은 기능을 한다. elif는 else if 의 짧은 약어라고 생각해도 된다.\n",
    "elif 를 사용하면 if ... else ... 구조를 겹쳐 사용할 때처럼, 여러 번 안 쪽으로 들여쓰기 하지 않아도 된다.\n"
   ]
  },
  {
   "cell_type": "code",
   "execution_count": 4,
   "id": "d042a724",
   "metadata": {},
   "outputs": [
    {
     "name": "stdout",
     "output_type": "stream",
     "text": [
      "63\n",
      "C\n"
     ]
    }
   ],
   "source": [
    "a = int(input())\n",
    "if a>=90:\n",
    "    print(\"A\")\n",
    "elif a>=70:\n",
    "    print(\"B\")\n",
    "elif a>=40:\n",
    "    print(\"C\")\n",
    "elif a>=0:\n",
    "    print(\"D\")"
   ]
  },
  {
   "cell_type": "markdown",
   "id": "59bfa858",
   "metadata": {},
   "source": [
    "# 6069 : [기초-조건/선택실행구조] 평가 입력받아 다르게 출력하기(py)"
   ]
  },
  {
   "cell_type": "code",
   "execution_count": 7,
   "id": "b95d7592",
   "metadata": {},
   "outputs": [
    {
     "name": "stdout",
     "output_type": "stream",
     "text": [
      "D\n",
      "slowly~\n"
     ]
    }
   ],
   "source": [
    "a = input()\n",
    "if a=='A':\n",
    "    print(\"best!!!\")\n",
    "elif a=='B':\n",
    "    print(\"good!!\")\n",
    "elif a=='C':\n",
    "    print(\"run!\")\n",
    "elif a=='D':\n",
    "    print(\"slowly~\")\n",
    "else:\n",
    "    print(\"what?\")"
   ]
  },
  {
   "cell_type": "markdown",
   "id": "ea8394d3",
   "metadata": {},
   "source": [
    "# 6070 : [기초-조건/선택실행구조] 월 입력받아 계절 출력하기(설명)(py)\n",
    "월이 입력될 때 계절 이름이 출력되도록 해보자.\n",
    "\n",
    "월 : 계절 이름\n",
    "12, 1, 2 : winter\n",
    "  3, 4, 5 : spring\n",
    "  6, 7, 8 : summer\n",
    "  9, 10, 11 : fall\n",
    "\n",
    "예시\n",
    "...\n",
    "if n//3==1 :\n",
    "  print(\"spring\")\n",
    "...\n",
    "\n",
    "참고\n",
    "때때로 수들의 특징을 관찰하고 이용하면 매우 간단히 해결할 수도 있다."
   ]
  },
  {
   "cell_type": "code",
   "execution_count": 8,
   "id": "c4b461f7",
   "metadata": {},
   "outputs": [
    {
     "name": "stdout",
     "output_type": "stream",
     "text": [
      "12\n",
      "winter\n"
     ]
    }
   ],
   "source": [
    "n = int(input())\n",
    "if n // 3==1:\n",
    "    print('spring')\n",
    "elif n // 3==2:\n",
    "    print('summer')\n",
    "elif n // 3==3:\n",
    "    print('fall')\n",
    "else:\n",
    "    print('winter')"
   ]
  },
  {
   "cell_type": "markdown",
   "id": "b5d236ef",
   "metadata": {},
   "source": [
    "# 6071 : [기초-반복실행구조] 0 입력될 때까지 무한 출력하기(설명)(py)\n",
    "임의의 정수가 줄을 바꿔 계속 입력된다.\n",
    "-2147483648 ~ +2147483647, 단 개수는 알 수 없다.\n",
    "\n",
    "0이 아니면 입력된 정수를 출력하고, 0이 입력되면 출력을 중단해보자.\n",
    "\n",
    "예시\n",
    "...\n",
    "n = 1      #처음 조건 검사를 통과하기 위해 0 아닌 값을 임의로 저장\n",
    "while n!=0 :\n",
    "  n = int(input())\n",
    "  if n!=0 :\n",
    "    print(n)\n",
    "...\n",
    "\n",
    "참고\n",
    "if 조건식 :\n",
    "  ...\n",
    "  ...\n",
    "\n",
    "\n",
    "구조를 사용하면,\n",
    "주어진 조건식의 평가 결과가 True 인 경우에만, 들여쓰기로 구분된 코드블록이 실행된다.\n",
    "\n",
    "if 를 while 로 바꾸면?\n",
    "\n",
    "while 조건식 :\n",
    "  ...\n",
    "  ...\n",
    "\n",
    "와 같은 방법으로 반복해서 실행시킬 수 있다.\n",
    "\n",
    "실행되는 과정은\n",
    "1. 조건식을 평가한다.\n",
    "2. True 인 경우 코드블록을 실행한다.\n",
    "3. 다시 조건식을 평가한다.\n",
    "4. True 인 경우 코드블록을 실행한다.\n",
    "...\n",
    "... 조건식의 평가 값이 False 인 경우 반복을 중단하고, 그 다음 명령을 실행한다.\n",
    "\n",
    "조건식의 평가 결과가 True 동안만 반복 실행된다. \n",
    "\n",
    "반복실행구조 안에 다른 조건/선택실행구조를 넣을 수도 있고...\n",
    "조건/선택실행구조 안에 다른 반복실행구조를 넣을 수도 있다."
   ]
  },
  {
   "cell_type": "code",
   "execution_count": 37,
   "id": "ea178585",
   "metadata": {},
   "outputs": [
    {
     "name": "stdout",
     "output_type": "stream",
     "text": [
      "3\n",
      "3\n",
      "4\n",
      "4\n",
      "6\n",
      "6\n",
      "0\n"
     ]
    }
   ],
   "source": [
    "n = 1\n",
    "while n!=0:\n",
    "    n = int(input())\n",
    "    if n != 0:\n",
    "        print(n)"
   ]
  },
  {
   "cell_type": "markdown",
   "id": "1f1b5b0e",
   "metadata": {},
   "source": [
    "# 6072 : [기초-반복실행구조] 정수 1개 입력받아 카운트다운 출력하기1(설명)(py)\n",
    "정수(1 ~ 100) 1개가 입력되었을 때 카운트다운을 출력해보자.\n",
    "\n",
    "while 조건식 :\n",
    "  ...\n",
    "  ...\n",
    "반복 실행구조를 사용해 보자.\n",
    "\n",
    "예시\n",
    "...\n",
    "while n!=0 :\n",
    "  print(n)\n",
    "  n = n-1\n",
    "...\n",
    "\n",
    "참고\n",
    "n = n-1  #n에 저장되어있던 값에서 1만큼 뺀 후, 그 값을 다시 n에 저장시킨다.\n",
    "n -= 1 과 같이 짧게 작성할 수도 있다. n -= 1 은 n = n-1 과 같은 의미이다.\n",
    "이렇게 산술연산자(+, -, *, / ... )와 대입 연산자(=)를 함께 쓰는 것을 복합대입연산자라고도 부른다.\n",
    "같은 방법으로 +=, *=, /=, //=, %=, &=, |=, ^=, >>=, <<=, **= 등과 같이 짧게 작성할 수 있다.\n",
    "\n",
    "처음에 조건식을 검사하고, 그 다음에 실행하고, 그 다음에 값을 바꾸고...\n",
    "다시 조건식을 검사하고, 실행하고, 값을 바꾸고...\n"
   ]
  },
  {
   "cell_type": "code",
   "execution_count": 41,
   "id": "4df9330d",
   "metadata": {},
   "outputs": [
    {
     "name": "stdout",
     "output_type": "stream",
     "text": [
      "7\n",
      "7\n",
      "6\n",
      "5\n",
      "4\n",
      "3\n",
      "2\n",
      "1\n"
     ]
    }
   ],
   "source": [
    "n = int(input())\n",
    "while n!=0:\n",
    "    print(n)\n",
    "    n = n-1"
   ]
  }
 ],
 "metadata": {
  "kernelspec": {
   "display_name": "Python 3 (ipykernel)",
   "language": "python",
   "name": "python3"
  },
  "language_info": {
   "codemirror_mode": {
    "name": "ipython",
    "version": 3
   },
   "file_extension": ".py",
   "mimetype": "text/x-python",
   "name": "python",
   "nbconvert_exporter": "python",
   "pygments_lexer": "ipython3",
   "version": "3.10.9"
  }
 },
 "nbformat": 4,
 "nbformat_minor": 5
}
