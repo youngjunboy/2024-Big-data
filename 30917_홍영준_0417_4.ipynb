{
 "cells": [
  {
   "cell_type": "markdown",
   "id": "31a3ceae-5880-4ebb-aa07-5268a723833a",
   "metadata": {},
   "source": [
    "# 30917_홍영준_0417_4"
   ]
  },
  {
   "cell_type": "markdown",
   "id": "7d285730-4203-427f-91fb-ef9b6cc0b125",
   "metadata": {},
   "source": [
    "# 1. 1부터 1000까지 숫자 중에서 2의 배수이거나 3의 배수면 더하는 프로그램"
   ]
  },
  {
   "cell_type": "markdown",
   "id": "7641190b-1e76-49df-a60a-25ff48bed4eb",
   "metadata": {},
   "source": [
    "## for 문"
   ]
  },
  {
   "cell_type": "code",
   "execution_count": 17,
   "id": "07806185-d2c0-42ca-8306-5e37a03d1699",
   "metadata": {},
   "outputs": [
    {
     "name": "stdout",
     "output_type": "stream",
     "text": [
      "1부터 1000까지 2의배수와 3의배수의 합은? 334167\n"
     ]
    }
   ],
   "source": [
    "sum = 0   # 결과를 저장할 변수 초기화\n",
    "for i in range(1,1001):   # 1, 1000 까지 반복\n",
    "    if i%2==0 or i%3==0:   # 2의 배수이거나 3의 배수일 때\n",
    "        sum += i   # 2의 배수, 3의 배수를 sum 변수에 더해나감\n",
    "print(f'1부터 1000까지 2의배수와 3의배수의 합은? {sum}')   # sum변수를 print하여 결과 출력"
   ]
  },
  {
   "cell_type": "markdown",
   "id": "92506270-605c-41c0-ad02-46e9aae9b7eb",
   "metadata": {},
   "source": [
    "## while 문"
   ]
  },
  {
   "cell_type": "code",
   "execution_count": 18,
   "id": "eb2c1b46-680d-45b2-a4ae-d17b15808233",
   "metadata": {},
   "outputs": [
    {
     "name": "stdout",
     "output_type": "stream",
     "text": [
      "1부터 1000까지 2의배수와 3의배수의 합은? 334167\n"
     ]
    }
   ],
   "source": [
    "sum = 0   # 결과를 저장할 변수 초기화\n",
    "num = 1   # 시작숫자 설정\n",
    "while num <= 1000:   # num(1)부터 1000까지 반복\n",
    "    if num % 2 == 0 or num % 3 == 0:   # 2의 배수이거나 3의 배수일 때\n",
    "        sum += num   # 2의 배수, 3의 배수를 sum 변수에 더해나감\n",
    "    num += 1   # num 변수에 1을 더함\n",
    "print(f'1부터 1000까지 2의배수와 3의배수의 합은? {sum}')   # sum변수를 print하여 결과 출력"
   ]
  },
  {
   "cell_type": "markdown",
   "id": "9619a7bf-43e6-4a9d-89aa-0347e493e318",
   "metadata": {},
   "source": [
    "# 2. 구구단을 외자~~~"
   ]
  },
  {
   "cell_type": "code",
   "execution_count": 21,
   "id": "e745af60-e907-4958-8022-ffc2e6f01d87",
   "metadata": {},
   "outputs": [
    {
     "name": "stdout",
     "output_type": "stream",
     "text": [
      "구구단을 외자! 구구단을 외자!\n",
      "5 X 6 = ?\n"
     ]
    },
    {
     "name": "stdin",
     "output_type": "stream",
     "text": [
      " 35\n"
     ]
    },
    {
     "name": "stdout",
     "output_type": "stream",
     "text": [
      "땡!!\n",
      "3 X 6 = ?\n"
     ]
    },
    {
     "name": "stdin",
     "output_type": "stream",
     "text": [
      " 18\n"
     ]
    },
    {
     "name": "stdout",
     "output_type": "stream",
     "text": [
      "정답!\n",
      "7 X 4 = ?\n"
     ]
    },
    {
     "name": "stdin",
     "output_type": "stream",
     "text": [
      " 17\n"
     ]
    },
    {
     "name": "stdout",
     "output_type": "stream",
     "text": [
      "땡!!\n",
      "6 X 9 = ?\n"
     ]
    },
    {
     "name": "stdin",
     "output_type": "stream",
     "text": [
      " 45\n"
     ]
    },
    {
     "name": "stdout",
     "output_type": "stream",
     "text": [
      "땡!!\n",
      "8 X 2 = ?\n"
     ]
    },
    {
     "name": "stdin",
     "output_type": "stream",
     "text": [
      " 16\n"
     ]
    },
    {
     "name": "stdout",
     "output_type": "stream",
     "text": [
      "정답!\n",
      "8 X 6 = ?\n"
     ]
    },
    {
     "name": "stdin",
     "output_type": "stream",
     "text": [
      " 48\n"
     ]
    },
    {
     "name": "stdout",
     "output_type": "stream",
     "text": [
      "정답!\n",
      "5 X 2 = ?\n"
     ]
    },
    {
     "name": "stdin",
     "output_type": "stream",
     "text": [
      " 83\n"
     ]
    },
    {
     "name": "stdout",
     "output_type": "stream",
     "text": [
      "땡!!\n",
      "8 X 4 = ?\n"
     ]
    },
    {
     "name": "stdin",
     "output_type": "stream",
     "text": [
      " 84\n"
     ]
    },
    {
     "name": "stdout",
     "output_type": "stream",
     "text": [
      "땡!!\n",
      "2 X 1 = ?\n"
     ]
    },
    {
     "name": "stdin",
     "output_type": "stream",
     "text": [
      " 2\n"
     ]
    },
    {
     "name": "stdout",
     "output_type": "stream",
     "text": [
      "정답!\n",
      "8 X 5 = ?\n"
     ]
    },
    {
     "name": "stdin",
     "output_type": "stream",
     "text": [
      " 40\n"
     ]
    },
    {
     "name": "stdout",
     "output_type": "stream",
     "text": [
      "정답!\n",
      "맞은 횟수 : 5, 틀린 횟수 : 5\n",
      "맞은 횟수와 틀린 횟수가 같네요. 조금 더 노력해 보세요!\n"
     ]
    }
   ],
   "source": [
    "import random\n",
    "print('구구단을 외자! 구구단을 외자!')\n",
    "t_cnt = 0\n",
    "f_cnt = 0\n",
    "for i in range(10):\n",
    "    a = random.randint(2,9)\n",
    "    b = random.randint(1,9)\n",
    "    print('{} X {} = ?' .format(a,b))\n",
    "    answer = int(input(''))\n",
    "    if a*b == answer :\n",
    "        print(\"정답!\")\n",
    "        t_cnt = t_cnt + 1\n",
    "    else:\n",
    "        print(\"땡!!\")\n",
    "        f_cnt = f_cnt + 1\n",
    "print(\"맞은 횟수 : {}, 틀린 횟수 : {}\" .format(t_cnt, f_cnt))\n",
    "if t_cnt>f_cnt:\n",
    "    print(\"맞은 횟수가 더 많네요. 수고하셨습니다.\")\n",
    "elif t_cnt<f_cnt:\n",
    "    print(\"틀린 횟수가 더 많네요. 열심히 노력해 보세요!!\")\n",
    "else:\n",
    "    print(\"맞은 횟수와 틀린 횟수가 같네요. 조금 더 노력해 보세요!\")"
   ]
  }
 ],
 "metadata": {
  "kernelspec": {
   "display_name": "Python 3 (ipykernel)",
   "language": "python",
   "name": "python3"
  },
  "language_info": {
   "codemirror_mode": {
    "name": "ipython",
    "version": 3
   },
   "file_extension": ".py",
   "mimetype": "text/x-python",
   "name": "python",
   "nbconvert_exporter": "python",
   "pygments_lexer": "ipython3",
   "version": "3.11.7"
  }
 },
 "nbformat": 4,
 "nbformat_minor": 5
}
