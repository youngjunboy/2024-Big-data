{
 "cells": [
  {
   "cell_type": "markdown",
   "id": "0a88759c-8529-43fd-a769-c7667c9f5d63",
   "metadata": {},
   "source": [
    "# 30917_홍영준_0404_Q"
   ]
  },
  {
   "cell_type": "markdown",
   "id": "71fc16de-c1d8-4801-998d-5b4652a3ac06",
   "metadata": {},
   "source": [
    "# 6073 : [기초-반복실행구조] 정수 1개 입력받아 카운트다운 출력하기2(py)\n",
    "정수(1 ~ 100) 1개가 입력되었을 때 카운트다운을 출력해보자.\r\n",
    "\r\n",
    "while 조건식 :\r\n",
    "  ...\r\n",
    "  ...\r\n",
    "\r\n",
    "반복 실행구조를 사용해 보자.\r\n",
    "\r\n",
    "참고\r\n",
    "조건검사, 출력, 감소의 순서와 타이밍을 잘 생각해보자."
   ]
  },
  {
   "cell_type": "code",
   "execution_count": 10,
   "id": "afebaf08-8074-4dd3-bfd2-16b23e327ddd",
   "metadata": {},
   "outputs": [
    {
     "name": "stdin",
     "output_type": "stream",
     "text": [
      " 5\n"
     ]
    },
    {
     "name": "stdout",
     "output_type": "stream",
     "text": [
      "4\n",
      "3\n",
      "2\n",
      "1\n",
      "0\n"
     ]
    }
   ],
   "source": [
    "n = int(input())\n",
    "while n != 0:\n",
    "    n = n-1\n",
    "    print(n)"
   ]
  },
  {
   "cell_type": "markdown",
   "id": "3c31e158-77e8-4b38-af86-b9e6a39d1371",
   "metadata": {},
   "source": [
    "# 6074 : [기초-반복실행구조] 문자 1개 입력받아 알파벳 출력하기(설명)(py)\n",
    "영문 소문자(a ~ z) 1개가 입력되었을 때,\r\n",
    "a부터 그 문자까지의 알파벳을 순서대로 출력해보자.\r\n",
    "\r\n",
    "예시\r\n",
    "c = ord(input())\r\n",
    "t = ord('a')\r\n",
    "while t<=c :\r\n",
    "  print(chr(t), end=' ')\r\n",
    "  t += 1\r\n",
    "\r\n",
    "참고\r\n",
    "알파벳 문자 a의 정수값은 ord('a')로 알아낼 수 있다.\r\n",
    "chr(정수값)을 이용하면 유니코드 문자로 출력할 수 있다.\r\n",
    "print(..., end=' ') 와 같이 작성하면 값 출력 후 공백문자 ' '를 출력한다. 즉, 마지막에 줄을 바꾸지 않고 빈칸만 띄운다.\r\n",
    "(end='\\n'로 작성하거나 생략하면, 값을 출력한 후 마지막(end)에 줄바꿈(newline)이 된다.)\r\n"
   ]
  },
  {
   "cell_type": "code",
   "execution_count": 14,
   "id": "5577bd09-7b45-421c-b4e2-c88258b66beb",
   "metadata": {},
   "outputs": [
    {
     "name": "stdin",
     "output_type": "stream",
     "text": [
      " h\n"
     ]
    },
    {
     "name": "stdout",
     "output_type": "stream",
     "text": [
      "a b c d e f g h "
     ]
    }
   ],
   "source": [
    "c= ord(input())\n",
    "t = ord('a')\n",
    "while t<=c:\n",
    "    print(chr(t), end=' ')\n",
    "    t+=1"
   ]
  },
  {
   "cell_type": "markdown",
   "id": "b56f6d0a-6cdd-4189-b6a4-d6ece3715225",
   "metadata": {},
   "source": [
    "# 6075 : [기초-반복실행구조] 정수 1개 입력받아 그 수까지 출력하기1(py)\n",
    "정수(0 ~ 100) 1개를 입력받아 0부터 그 수까지 순서대로 출력해보자."
   ]
  },
  {
   "cell_type": "code",
   "execution_count": 18,
   "id": "28c3e0fb-30bc-4d55-8a38-76aac4d7d4ef",
   "metadata": {},
   "outputs": [
    {
     "name": "stdin",
     "output_type": "stream",
     "text": [
      " 7\n"
     ]
    },
    {
     "name": "stdout",
     "output_type": "stream",
     "text": [
      "0\n",
      "1\n",
      "2\n",
      "3\n",
      "4\n",
      "5\n",
      "6\n",
      "7\n"
     ]
    }
   ],
   "source": [
    "n = int(input())\n",
    "for i in range(n+1):\n",
    "    print(i)"
   ]
  },
  {
   "cell_type": "markdown",
   "id": "d30d7077-3178-46b7-877b-ab0b704282cf",
   "metadata": {},
   "source": [
    "# 6076 : [기초-반복실행구조] 정수 1개 입력받아 그 수까지 출력하기2(설명)(py)\n",
    "정수(0 ~ 100) 1개를 입력받아 0부터 그 수까지 순서대로 출력해보자.\r\n",
    "\r\n",
    "예시\r\n",
    "n = int(input())\r\n",
    "for i in range(n+1) :\r\n",
    "  print(i)\r\n",
    "\r\n",
    "참고\r\n",
    "range(n) 은 0, 1, 2, ... , n-2, n-1 까지의 수열을 의미한다.\r\n",
    "예를 들어 range(3) 은 0, 1, 2 인 수열을 의미한다.\r\n",
    "\r\n",
    "for i in range(n) :    #range(n)에 들어있는(in) 각각의 수에 대해서(for) 순서대로 i에 저장해 가면서...\r\n",
    "이때의 for는 각각의 값에 대하여... 라는 for each 의 의미를 가진다고 생각할 수 있다.\r\n",
    "\r\n",
    "range(끝)\r\n",
    "range(시작, 끝)\r\n",
    "range(시작, 끝, 증감)\r\n",
    "형태로 수열을 표현할 수 있다. 시작 수는 포함이고, 끝 수는 포함되지 않는다. [시작, 끝)\r\n",
    "증감할 수를 작성하지 않으면 +1이 된다.\r\n",
    "\r\n",
    "반복 실행구조에 반복 횟수를 기록/저장하는 변수로 i를 자주 사용하는데,\r\n",
    "i 는 반복자(iterator)를 나타내는 i라고 생각할 수 있다. i, j, k ... 알파벳 순으로 사용하기도 한다."
   ]
  },
  {
   "cell_type": "code",
   "execution_count": 19,
   "id": "40165edb-86c2-48eb-a126-c36d995c842d",
   "metadata": {},
   "outputs": [
    {
     "name": "stdin",
     "output_type": "stream",
     "text": [
      " 5\n"
     ]
    },
    {
     "name": "stdout",
     "output_type": "stream",
     "text": [
      "0\n",
      "1\n",
      "2\n",
      "3\n",
      "4\n",
      "5\n"
     ]
    }
   ],
   "source": [
    "n = int(input())\n",
    "for i in range(n+1):\n",
    "    print(i)"
   ]
  },
  {
   "cell_type": "markdown",
   "id": "29ca8d89-db1f-4ec5-89b0-a4d720958ce6",
   "metadata": {},
   "source": [
    "# 6077 : [기초-종합] 짝수 합 구하기(설명)(py)\n",
    "정수(1 ~ 100) 1개를 입력받아 1부터 그 수까지 짝수의 합을 구해보자.\r\n",
    "\r\n",
    "예시\r\n",
    "#다음 코드는 홀 수만 더해 출력한다.\r\n",
    "n = int(input())\r\n",
    "s = 0\r\n",
    "for i in range(1, n+1) :\r\n",
    "  if i%2==1 :\r\n",
    "    s += i\r\n",
    "\r\n",
    "print(s)\r\n",
    "\r\n",
    "참고\r\n",
    "while 이나 for 반복실행구조를 이용할 수 있다.\r\n",
    "다른 방법이나 while 반복실행구조를 이용해서도 성공시켜 보자."
   ]
  },
  {
   "cell_type": "code",
   "execution_count": 20,
   "id": "ca60efa1-9a19-46ec-8fcf-545f5b38cb9b",
   "metadata": {},
   "outputs": [
    {
     "name": "stdin",
     "output_type": "stream",
     "text": [
      " 13\n"
     ]
    },
    {
     "name": "stdout",
     "output_type": "stream",
     "text": [
      "42\n"
     ]
    }
   ],
   "source": [
    "n = int(input())\n",
    "sum = 0\n",
    "for i in range(n+1):\n",
    "    if i%2==0:\n",
    "        sum+=i\n",
    "print(sum)"
   ]
  }
 ],
 "metadata": {
  "kernelspec": {
   "display_name": "Python 3 (ipykernel)",
   "language": "python",
   "name": "python3"
  },
  "language_info": {
   "codemirror_mode": {
    "name": "ipython",
    "version": 3
   },
   "file_extension": ".py",
   "mimetype": "text/x-python",
   "name": "python",
   "nbconvert_exporter": "python",
   "pygments_lexer": "ipython3",
   "version": "3.11.7"
  }
 },
 "nbformat": 4,
 "nbformat_minor": 5
}
