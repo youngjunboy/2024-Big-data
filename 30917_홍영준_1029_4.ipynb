{
 "cells": [
  {
   "cell_type": "markdown",
   "id": "0483cc3c",
   "metadata": {},
   "source": [
    "# 30917_홍영준_1029_4"
   ]
  },
  {
   "cell_type": "markdown",
   "id": "206cb068",
   "metadata": {},
   "source": [
    "## 1143 : 비트 연산자(AND)\n",
    "\n",
    "두 수를 입력받아 비트단위로 AND연산한 후 결과를 출력하시오.\n",
    "\n",
    "참고)\n",
    "\n",
    "비트연산자 & 는 주어진 2개의 값을 2진법으로 변환한 뒤, 비트별로 AND 연산을 수행한 뒤 결과를 출력한다.\n",
    "\n",
    "이러한 비트 연산을 AND 연산이라고도 부르고, &로 표시한다.\n",
    "\n",
    "7 : 0000 0111\n",
    "\n",
    "4 : 0000 0100\n",
    "\n",
    "7&4 : 0000 0100  --> 10진수 : 4"
   ]
  },
  {
   "cell_type": "code",
   "execution_count": 10,
   "id": "d3479f55",
   "metadata": {},
   "outputs": [
    {
     "name": "stdout",
     "output_type": "stream",
     "text": [
      "3 5\n",
      "1\n"
     ]
    }
   ],
   "source": [
    "a, b = map(int, input().split())\n",
    "print(a&b)"
   ]
  },
  {
   "cell_type": "markdown",
   "id": "de4ac1c0",
   "metadata": {},
   "source": [
    "## 1144 : 비트 연산자(OR)\n",
    "\n",
    "두 수를 입력받아 비트단위로 OR연산한 후 결과를 출력하시오.\n",
    "\n",
    "참고)\n",
    "\n",
    "비트연산자 | 은 주어진 2개의 값을 2진법으로 변환한 뒤, 비트별로 OR 연산을 수행한 뒤 결과를 출력한다.\n",
    "\n",
    "이러한 비트 연산을 OR 연산이라고도 부르고, |로 표시한다.\n",
    "\n",
    "예)\n",
    "\n",
    "7 : 0000 0111\n",
    "\n",
    "4 : 0000 0100\n",
    "\n",
    "7|4 : 0000 0111"
   ]
  },
  {
   "cell_type": "code",
   "execution_count": 11,
   "id": "24abda2a",
   "metadata": {},
   "outputs": [
    {
     "name": "stdout",
     "output_type": "stream",
     "text": [
      "3 5\n",
      "7\n"
     ]
    }
   ],
   "source": [
    "a, b = map(int, input().split())\n",
    "print(a|b)"
   ]
  },
  {
   "cell_type": "markdown",
   "id": "f1ed4a20",
   "metadata": {},
   "source": [
    "## 1147 : 비트 연산자(<<)\n",
    "\n",
    "정수 a, x를 입력받아 a의 값을 x만큼 SHIFT(<<) 연산한 후 결과를 출력하시오.\n",
    "\n",
    "참고)\n",
    "\n",
    "비트 이동연산자 << 은 주어진 a를 구성하고 있는 비트를 왼쪽으로 x번 이동한 후 결과를 보여준다.\n",
    "\n",
    "이러한 비트 연산을 SHIFT 연산이라고도 부르고, <<로 표시한다.\n",
    "\n",
    "예)\n",
    "\n",
    "4<<1 : 0000 0100 ---> 0000 1000 (10진수:8)\n",
    "\n",
    "4<<2 : 0000 0100 ---> 0001 0000 (10진수:16)"
   ]
  },
  {
   "cell_type": "code",
   "execution_count": 13,
   "id": "7769874a",
   "metadata": {
    "scrolled": true
   },
   "outputs": [
    {
     "name": "stdout",
     "output_type": "stream",
     "text": [
      "3 8\n",
      "768\n"
     ]
    }
   ],
   "source": [
    "a, x = map(int, input().split())\n",
    "print(a<<x)"
   ]
  },
  {
   "cell_type": "markdown",
   "id": "1b92151d",
   "metadata": {},
   "source": [
    "## 1148 : 비트 연산자(>>)\n",
    "\n",
    "정수 a, x를 입력받아 a의 값을 x만큼 SHIFT(>>) 연산한 후 결과를 출력하시오.\n",
    "\n",
    "참고)\n",
    "\n",
    "비트연산자 >> 은 주어진 a값을 오른쪽으로 x번 이동한 후 결과를 출력한다.\n",
    "\n",
    "이러한 비트 연산을 SHIFT 연산이라고도 부르고, >>로 표시한다.\n",
    "\n",
    "예)\n",
    "\n",
    "4>>1 : 0000 0100 ---> 0000 0010 (10진수:2)\n",
    "\n",
    "7>>2 : 0000 0111 ---> 0000 0001 (10진수:1)"
   ]
  },
  {
   "cell_type": "code",
   "execution_count": 14,
   "id": "724dd0b4",
   "metadata": {},
   "outputs": [
    {
     "name": "stdout",
     "output_type": "stream",
     "text": [
      "3 8\n",
      "0\n"
     ]
    }
   ],
   "source": [
    "a, x = map(int, input().split())\n",
    "print(a>>x)"
   ]
  },
  {
   "cell_type": "markdown",
   "id": "495d58af",
   "metadata": {},
   "source": [
    "## 1149 : 두 수 중 큰 수\n",
    "\n",
    "두 정수 중 큰 정수를 출력한다."
   ]
  },
  {
   "cell_type": "code",
   "execution_count": 15,
   "id": "0811cd1e",
   "metadata": {},
   "outputs": [
    {
     "name": "stdout",
     "output_type": "stream",
     "text": [
      "3 5\n",
      "5\n"
     ]
    }
   ],
   "source": [
    "x1, x2 = map(int, input().split())\n",
    "if x1 > x2:\n",
    "    print(x1)\n",
    "elif x2 > x1:\n",
    "    print(x2)\n",
    "else:\n",
    "    print(x1,x2)"
   ]
  },
  {
   "cell_type": "markdown",
   "id": "4ccb0a5d",
   "metadata": {},
   "source": [
    "## 1150 : 세 수 중 가장 작은 수\n",
    "\n",
    "세 정수가 주어지면 그 중 가장 작은 수를 출력한다."
   ]
  },
  {
   "cell_type": "code",
   "execution_count": 30,
   "id": "0c220382",
   "metadata": {},
   "outputs": [
    {
     "name": "stdout",
     "output_type": "stream",
     "text": [
      "2 9 3\n",
      "2\n"
     ]
    }
   ],
   "source": [
    "import random\n",
    "c1, c2, c3 = map(int, input().split())\n",
    "\n",
    "box = [c1, c2, c3]\n",
    "\n",
    "small = c1\n",
    "\n",
    "for i in range(len(box)):\n",
    "    if box[i] < small:\n",
    "        small = box[i]\n",
    "        \n",
    "print(small)"
   ]
  },
  {
   "cell_type": "code",
   "execution_count": null,
   "id": "ae244cfd",
   "metadata": {},
   "outputs": [],
   "source": []
  }
 ],
 "metadata": {
  "kernelspec": {
   "display_name": "Python 3 (ipykernel)",
   "language": "python",
   "name": "python3"
  },
  "language_info": {
   "codemirror_mode": {
    "name": "ipython",
    "version": 3
   },
   "file_extension": ".py",
   "mimetype": "text/x-python",
   "name": "python",
   "nbconvert_exporter": "python",
   "pygments_lexer": "ipython3",
   "version": "3.9.7"
  }
 },
 "nbformat": 4,
 "nbformat_minor": 5
}
