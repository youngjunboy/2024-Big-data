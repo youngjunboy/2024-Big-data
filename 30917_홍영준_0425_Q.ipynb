{
 "cells": [
  {
   "cell_type": "markdown",
   "id": "32fc3088-82e7-4174-903c-d91721cfd46e",
   "metadata": {},
   "source": [
    "# 30917_홍영준_0425_Q"
   ]
  },
  {
   "cell_type": "markdown",
   "id": "18647344-7ebb-42d6-a69d-98302cbf1568",
   "metadata": {},
   "source": [
    "# 6084 : [기초-종합] 소리 파일 저장용량 계산하기(py)\n",
    "소리가 컴퓨터에 저장될 때에는 디지털 데이터화 되어 저장된다.\r\n",
    "\r\n",
    "마이크를 통해 1초에 적게는 수십 번, 많게는 수만 번 소리의 강약을 체크하고,\r\n",
    "한 번씩 체크할 때 마다 그 값을 정수값으로 바꾸어 저장하는 방식으로 소리를 파일로 저장할 수 있다.\r\n",
    "\r\n",
    "값을 저장할 때에는 비트를 사용하는 정도에 따라 세세한 녹음 정도를 결정할 수 있고,\r\n",
    "좌우(스테레오) 채널로 저장하면 2배… 5.1채널이면 6배의 저장공간이 필요하고,\r\n",
    "녹음 시간이 길면 그 만큼 더 많은 저장공간이 필요하다.\r\n",
    "\r\n",
    "1초 동안 마이크로 소리강약을 체크하는 횟수를 h\r\n",
    "(헤르쯔, Hz 는 1초에 몇 번? 체크하는가를 의미한다.)\r\n",
    "\r\n",
    "한 번 체크한 값을 저장할 때 사용하는 비트수를 b\r\n",
    "(2비트를 사용하면 0 또는 1 두 가지, 16비트를 사용하면 65536가지..)\r\n",
    "\r\n",
    "좌우 등 소리를 저장할 트랙 개수인 채널 개수를 c\r\n",
    "(모노는 1개, 스테레오는 2개의 트랙으로 저장함을 의미한다.)\r\n",
    "\r\n",
    "녹음할 시간(초) s가 주어질 때,\r\n",
    "\r\n",
    "필요한 저장 용량을 계산하는 프로그램을 작성해보자.\r\n",
    "\r\n",
    "실제로, 일반적인 CD 음질(44.1KHz, 16bit, 스테레오)로 1초 동안 저장하려면\r\n",
    "44100 * 16 * 2 * 1 bit의 저장공간이 필요한데,\r\n",
    "44100*16*2*1/8/1024/1024 로 계산하면 약 0.168 MB 정도가 필요하다.\r\n",
    "\r\n",
    "이렇게 녹음하는 방식을 PCM(Pulse Code Modulation) 방법이라고 하는데,\r\n",
    "압축하지 않은 순수한(raw) 소리 데이터 파일은 대표적으로 *.wav 가 있다.\r\n",
    "\r\n",
    "**\r\n",
    "      8 bit(비트)           = 1byte(바이트)       # 8bit=1Byte\r\n",
    "1024 Byte(210 byte) = 1KB(킬로 바이트)  # 1024Byte=1KB\r\n",
    "1024 KB(210 KB)      = 1MB(메가 바이트)\r\n",
    "1024 MB(210 MB)     = 1GB(기가 바이트)\r\n",
    "1024 GB(210 GB)      = 1TB(테라 바이트)"
   ]
  },
  {
   "cell_type": "code",
   "execution_count": 21,
   "id": "f182dff0-de7e-4006-8f45-767e0a61fa2c",
   "metadata": {},
   "outputs": [
    {
     "name": "stdin",
     "output_type": "stream",
     "text": [
      " 44100 16 2 10\n"
     ]
    },
    {
     "name": "stdout",
     "output_type": "stream",
     "text": [
      "1.7 MB\n"
     ]
    }
   ],
   "source": [
    "h, b, c, s = map(int, input().split())\n",
    "n = h*b*c*s\n",
    "m = n/(8*1024*1024)\n",
    "print(format(m,'.1f'),'MB')"
   ]
  },
  {
   "cell_type": "markdown",
   "id": "c2deb13c-bd68-4240-a6da-07b3890d2896",
   "metadata": {},
   "source": [
    "# 6085 : [기초-종합] 그림 파일 저장용량 계산하기(py)\n",
    "이미지가 컴퓨터에 저장될 때에도 디지털 데이터화 되어 저장된다.\r\n",
    "\r\n",
    "가장 기본적인 방법으로는 그림을 구성하는 한 점(pixel, 픽셀)의 색상을\r\n",
    "빨강(r), 초록(g), 파랑(b)의 3가지의 빛의 세기 값으로 따로 변환하여 저장하는 것인데,\r\n",
    "\r\n",
    "예를 들어 r, g, b 각 색에 대해서 8비트(0~255, 256가지 가능)씩을 사용한다고 하면,\r\n",
    "\r\n",
    "한 점의 색상은 3가지 r, g, b의 8비트+8비트+8비트로 총 24비트로 표현해서\r\n",
    "총 2^24 가지의 서로 다른 빛의 색깔을 사용할 수 있는 것이다.\r\n",
    "\r\n",
    "그렇게 저장하는 점을 모아 하나의 큰 이미지를 저장할 수 있게 되는데,\r\n",
    "1024 * 768 사이즈에 각 점에 대해 24비트로 저장하면 그 이미지를 저장하기 위한\r\n",
    "저장 용량을 계산할 수 있다.\r\n",
    "\r\n",
    "이렇게 이미지의 원래(raw) 데이터를 압축하지 않고 그대로 저장하는 대표적인 이미지 파일이\r\n",
    "*.bmp 파일이며, 비트로 그림을 구성한다고 하여 비트맵 방식 또는 래스터 방식이라고 한다.\r\n",
    "\r\n",
    "이미지의 가로 해상도 w, 세로 해상도 h, 한 픽셀을 저장하기 위한 비트 b 가 주어질 때,\r\n",
    "압축하지 않고 저장하기 위해 필요한 저장 용량을 계산하는 프로그램을 작성해 보자.\r\n",
    "\r\n",
    "예를 들어\r\n",
    "일반적인 1024 * 768 사이즈(해상도)의 각점에 대해\r\n",
    "24비트(rgb 각각 8비트씩 3개)로 저장하려면\r\n",
    "1024 * 768 * 24 bit의 저장공간이 필요한데,\r\n",
    "1024*768*24/8/1024/1024 로 계산하면 약 2.25 MB 정도가 필요하다.\r\n",
    "\r\n",
    "실제 그런지 확인하고 싶다면, 간단한 그림 편집/수정 프로그램을 통해 확인할 수 있다.\r\n",
    "\r\n",
    "**\r\n",
    "      8 bit(비트)           = 1byte(바이트)     #       8bit=1Byte\r\n",
    "1024 Byte(210 byte) = 1KB(킬로 바이트)  # 1024Byte=1KB\r\n",
    "1024 KB(210 KB)      = 1MB(메가 바이트)\r\n",
    "1024 MB(210 MB)     = 1GB(기가 바이트)\r\n",
    "1024 GB(210 GB)      = 1TB(테라 바이트)"
   ]
  },
  {
   "cell_type": "code",
   "execution_count": 23,
   "id": "3dde3766-81da-4e3d-a316-3197ac0fa943",
   "metadata": {},
   "outputs": [
    {
     "name": "stdin",
     "output_type": "stream",
     "text": [
      " 1024 768 24\n"
     ]
    },
    {
     "name": "stdout",
     "output_type": "stream",
     "text": [
      "2.25 MB\n"
     ]
    }
   ],
   "source": [
    "w, h, b = map(int, input().split())\n",
    "n = w*h*b\n",
    "m = n/(8*1024*1024)\n",
    "print(format(m,'.2f'),'MB')"
   ]
  },
  {
   "cell_type": "markdown",
   "id": "9766d025-cedd-43b2-bf2a-5deff947c325",
   "metadata": {},
   "source": [
    "# 6086 : [기초-종합] 거기까지! 이제 그만~(설명)(py)\n",
    "1, 2, 3 ... 을 순서대로 계속 더해 합을 만드는데,\r\n",
    "그 합이 입력한 정수보다 작을 동안만 계속 더하는 프로그램을 작성해보자.\r\n",
    "\r\n",
    "즉, 1부터 n까지 정수를 하나씩 더해 합을 만드는데,\r\n",
    "어디까지 더해야 입력한 수보다 같거나 커지는지 알아보고자 하는 문제이다.\r\n",
    "\r\n",
    "하지만, 이번에는 그 때 까지의 합을 출력해야 한다.\r\n",
    "\r\n",
    "예를 들어, 57을 입력하면\r\n",
    "1+2+3+...+8+9+10=55에서 그 다음 수인 11을 더해 66이 될 때,\r\n",
    "그 값 66이 출력되어야 한다.\r\n",
    "\r\n",
    "예시\r\n",
    "...\r\n",
    "while True :\r\n",
    "  s += c\r\n",
    "  c += 1\r\n",
    "  if s>=n :\r\n",
    "    break\r\n",
    "\r\n",
    "print(s)\r\n",
    "\r\n",
    "참고\r\n",
    "조건문이나 반복문의 코드블록 안에서 break 가 실행되면,\r\n",
    "반복실행을 중단(break)하고, 가장 가까운 반복 블록의 밖으로 빠져나간다.\r\n"
   ]
  },
  {
   "cell_type": "code",
   "execution_count": 36,
   "id": "e25b47b2-45b6-43a3-bcb7-14362eebff49",
   "metadata": {},
   "outputs": [
    {
     "name": "stdin",
     "output_type": "stream",
     "text": [
      " 57\n"
     ]
    },
    {
     "name": "stdout",
     "output_type": "stream",
     "text": [
      "66\n"
     ]
    }
   ],
   "source": [
    "n = int(input())\n",
    "i = 0\n",
    "hap = 0\n",
    "while True :\n",
    "    hap += i\n",
    "    i += 1\n",
    "    if hap >= n :\n",
    "        break\n",
    "        \n",
    "print(hap)"
   ]
  }
 ],
 "metadata": {
  "kernelspec": {
   "display_name": "Python 3 (ipykernel)",
   "language": "python",
   "name": "python3"
  },
  "language_info": {
   "codemirror_mode": {
    "name": "ipython",
    "version": 3
   },
   "file_extension": ".py",
   "mimetype": "text/x-python",
   "name": "python",
   "nbconvert_exporter": "python",
   "pygments_lexer": "ipython3",
   "version": "3.11.7"
  }
 },
 "nbformat": 4,
 "nbformat_minor": 5
}
