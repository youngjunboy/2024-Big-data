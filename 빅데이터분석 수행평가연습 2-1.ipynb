{
 "cells": [
  {
   "cell_type": "markdown",
   "id": "595e1241-6ecc-4957-88cf-1d3eba6214ce",
   "metadata": {},
   "source": [
    "# 영어단어장 만들기 프로그램"
   ]
  },
  {
   "cell_type": "code",
   "execution_count": 19,
   "id": "5c14199d-9069-4c97-bc9c-e599c29faa59",
   "metadata": {},
   "outputs": [
    {
     "name": "stdin",
     "output_type": "stream",
     "text": [
      " 바나나,banana\n",
      " 사과,apple\n",
      " 키위,kiwi\n",
      " \n"
     ]
    },
    {
     "data": {
      "text/plain": [
       "{'바나나': 'banana', '사과': 'apple', '키위': 'kiwi'}"
      ]
     },
     "execution_count": 19,
     "metadata": {},
     "output_type": "execute_result"
    }
   ],
   "source": [
    "eng = {}\n",
    "\n",
    "while True :\n",
    "    n = input()\n",
    "    if n == '':\n",
    "        break\n",
    "    one = n.split(',')[0]\n",
    "    two = n.split(',')[1]\n",
    "    eng[one] = two\n",
    "eng"
   ]
  },
  {
   "cell_type": "markdown",
   "id": "7bdb8c7b-8367-4de2-8934-1da44d021fe5",
   "metadata": {},
   "source": [
    "# 할인된 금액 계산 프로그램"
   ]
  },
  {
   "cell_type": "code",
   "execution_count": 25,
   "id": "a27fcf8f-31a6-4a3c-a26b-c7f8d363d1e2",
   "metadata": {},
   "outputs": [
    {
     "name": "stdin",
     "output_type": "stream",
     "text": [
      " 320000\n"
     ]
    },
    {
     "name": "stdout",
     "output_type": "stream",
     "text": [
      "\n",
      "금액 : 320000원\n",
      "할인율 : 10%\n",
      "할인금액 : 32000.0원\n",
      "지불금액 : 288000.0\n",
      "\n"
     ]
    }
   ],
   "source": [
    "cash = int(input())\n",
    "\n",
    "if cash >= 300000:\n",
    "    dc = 10\n",
    "elif cash >= 200000:\n",
    "    dc = 7\n",
    "elif cash >= 100000:\n",
    "    dc = 5\n",
    "else:\n",
    "    dc = 0\n",
    "print(f'''\n",
    "금액 : {cash}원\n",
    "할인율 : {dc}%\n",
    "할인금액 : {cash * (dc/100)}원\n",
    "지불금액 : {cash - cash * (dc/100)}\n",
    "''')"
   ]
  },
  {
   "cell_type": "markdown",
   "id": "c8fbe20f-d506-48d2-ac26-c0c078a68289",
   "metadata": {},
   "source": [
    "# 사칙연산 프로그램"
   ]
  },
  {
   "cell_type": "code",
   "execution_count": 11,
   "id": "57319680-15ee-49ad-980e-42cf21c7feaf",
   "metadata": {},
   "outputs": [
    {
     "name": "stdin",
     "output_type": "stream",
     "text": [
      "숫자1 :  8\n",
      "숫자2 :  6\n",
      "연산기호 :  *\n"
     ]
    },
    {
     "name": "stdout",
     "output_type": "stream",
     "text": [
      "곱셈 : 8 * 6 = 48\n"
     ]
    }
   ],
   "source": [
    "num1 = int(input('숫자1 : '))\n",
    "num2 = int(input('숫자2 : '))\n",
    "op = input('연산기호 : ')\n",
    "\n",
    "if op == '+':\n",
    "    print(f'덧셈 : {num1} + {num2} = {num1+num2}')\n",
    "elif op == '-':\n",
    "    print(f'뺄셈 : {num1} - {num2} = {num1-num2}')\n",
    "elif op == '*':\n",
    "    print(f'곱셈 : {num1} * {num2} = {num1*num2}')\n",
    "elif op == '/':\n",
    "    print(f'나눗셈 : {num1} / {num2} = {num1/num2}')\n",
    "else:\n",
    "    print('잘못 입력하셨습니다.')"
   ]
  },
  {
   "cell_type": "markdown",
   "id": "a3f24a04-0516-4ca3-b07e-07ed0e07fbeb",
   "metadata": {},
   "source": [
    "# up&dwon 숫자 맞추기 게임 프로그램"
   ]
  },
  {
   "cell_type": "code",
   "execution_count": 28,
   "id": "53da0a9f-1506-4835-b426-84f7dd1fdc61",
   "metadata": {},
   "outputs": [
    {
     "name": "stdin",
     "output_type": "stream",
     "text": [
      "Attempt 1. 예상 숫자를 입력하세요 (1~100) :  73\n"
     ]
    },
    {
     "name": "stdout",
     "output_type": "stream",
     "text": [
      "Down\n"
     ]
    },
    {
     "name": "stdin",
     "output_type": "stream",
     "text": [
      "Attempt 2. 예상 숫자를 입력하세요 (1~100) :  45\n"
     ]
    },
    {
     "name": "stdout",
     "output_type": "stream",
     "text": [
      "Down\n"
     ]
    },
    {
     "name": "stdin",
     "output_type": "stream",
     "text": [
      "Attempt 3. 예상 숫자를 입력하세요 (1~100) :  22\n"
     ]
    },
    {
     "name": "stdout",
     "output_type": "stream",
     "text": [
      "Down\n"
     ]
    },
    {
     "name": "stdin",
     "output_type": "stream",
     "text": [
      "Attempt 4. 예상 숫자를 입력하세요 (1~100) :  10\n"
     ]
    },
    {
     "name": "stdout",
     "output_type": "stream",
     "text": [
      "Up\n"
     ]
    },
    {
     "name": "stdin",
     "output_type": "stream",
     "text": [
      "Attempt 5. 예상 숫자를 입력하세요 (1~100) :  17\n"
     ]
    },
    {
     "name": "stdout",
     "output_type": "stream",
     "text": [
      "Up\n",
      "횟수 초과입니다. 정답은 19였습니다\n"
     ]
    }
   ],
   "source": [
    "import random\n",
    "def guess_number_game(max_attempts=5):\n",
    "    cnt = 0\n",
    "    num = random.randint(1, 100)\n",
    "\n",
    "    while cnt < max_attempts:\n",
    "        cnt += 1\n",
    "        answer = int(input(f'Attempt {cnt}. 예상 숫자를 입력하세요 (1~100) : '))\n",
    "        if answer == num:\n",
    "            print('정답 입니다!')\n",
    "            print(f'{cnt}번 만에 맞추셨습니다.')\n",
    "            return\n",
    "\n",
    "        if answer < num:\n",
    "            print('Up')\n",
    "        else:\n",
    "            print('Down')\n",
    "\n",
    "    print(f'횟수 초과입니다. 정답은 {num}였습니다')\n",
    "\n",
    "guess_number_game()"
   ]
  },
  {
   "cell_type": "markdown",
   "id": "b8dbc3bf-0903-4539-a4eb-dc5ab334cf44",
   "metadata": {},
   "source": [
    "# 아이디/비밀번호 프로그램"
   ]
  },
  {
   "cell_type": "code",
   "execution_count": 26,
   "id": "86d679e5-4ad8-40d9-94be-3dd6ec6ca59a",
   "metadata": {},
   "outputs": [
    {
     "name": "stdin",
     "output_type": "stream",
     "text": [
      "id :  youngjun\n",
      "pwd :  101\n"
     ]
    },
    {
     "name": "stdout",
     "output_type": "stream",
     "text": [
      "비밀번호를 확인하세요.\n"
     ]
    },
    {
     "name": "stdin",
     "output_type": "stream",
     "text": [
      "id :  100\n",
      "pwd :  100\n"
     ]
    },
    {
     "name": "stdout",
     "output_type": "stream",
     "text": [
      "아이디를 확인하세요.\n"
     ]
    },
    {
     "name": "stdin",
     "output_type": "stream",
     "text": [
      "id :  youngjun\n",
      "pwd :  100\n"
     ]
    }
   ],
   "source": [
    "id = 'youngjun'\n",
    "pwd = '100'\n",
    "\n",
    "while True:\n",
    "    input_id = input('id : ')\n",
    "    input_pwd = input('pwd : ')\n",
    "\n",
    "    if id == input_id and pwd == input_pwd:\n",
    "        break\n",
    "    if id != input_id:\n",
    "        print('아이디를 확인하세요.')\n",
    "    if pwd != input_pwd:\n",
    "        print('비밀번호를 확인하세요.')"
   ]
  }
 ],
 "metadata": {
  "kernelspec": {
   "display_name": "Python 3 (ipykernel)",
   "language": "python",
   "name": "python3"
  },
  "language_info": {
   "codemirror_mode": {
    "name": "ipython",
    "version": 3
   },
   "file_extension": ".py",
   "mimetype": "text/x-python",
   "name": "python",
   "nbconvert_exporter": "python",
   "pygments_lexer": "ipython3",
   "version": "3.11.7"
  }
 },
 "nbformat": 4,
 "nbformat_minor": 5
}
