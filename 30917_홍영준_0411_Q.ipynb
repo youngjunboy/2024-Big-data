{
 "cells": [
  {
   "cell_type": "markdown",
   "id": "e3004dcb-7f3d-494f-a3f9-5f8b1718a2e1",
   "metadata": {},
   "source": [
    "# 6079 : [기초-종합] 언제까지 더해야 할까?(py)\n",
    "1, 2, 3 ... 을 계속 더해 나갈 때,\r\n",
    "그 합이 입력한 정수(0 ~ 1000)보다 같거나 작을 때까지만\r\n",
    "계속 더하는 프로그램을 작성해보자.\r\n",
    "\r\n",
    "즉, 1부터 n까지 정수를 계속 더해 나간다고 할 때,\r\n",
    "어디까지 더해야 입력한 수보다 같거나 커지는 지를 알아보고자하는 제이다.\r\n"
   ]
  },
  {
   "cell_type": "code",
   "execution_count": 27,
   "id": "8ed7e90e-e885-48fe-ab8f-5de34372319e",
   "metadata": {},
   "outputs": [
    {
     "name": "stdin",
     "output_type": "stream",
     "text": [
      " 55\n"
     ]
    },
    {
     "name": "stdout",
     "output_type": "stream",
     "text": [
      "10\n"
     ]
    }
   ],
   "source": [
    "n = int(input())\n",
    "s = 0\n",
    "r=0\n",
    "for i in range(1,n+1):\n",
    "    if s<n:\n",
    "        s = i+s\n",
    "        r = i\n",
    "print(r)"
   ]
  },
  {
   "cell_type": "markdown",
   "id": "3357faca-07da-4515-872b-6d040e50f0cc",
   "metadata": {},
   "source": [
    "# 6080 : [기초-종합] 주사위 2개 던지기(설명)(py)\n",
    "1부터 n까지, 1부터 m까지 숫자가 적힌 서로 다른 주사위 2개를 던졌을 때,\r\n",
    "나올 수 있는 모든 경우를 출력해보자.\r\n",
    "\r\n",
    "예시\r\n",
    "...\r\n",
    "for i in range(1, n+1) :\r\n",
    "  for j in range(1, m+1) :\r\n",
    "    print(i, j)\r\n",
    "...\r\n",
    "\r\n",
    "참고\r\n",
    "위 코드는\r\n",
    "바깥쪽의 i 값이 1부터 n까지 순서대로 바뀌는 각각의 동안에\r\n",
    "안쪽의 j 값이 다시 1부터 m까지 변하며 출력되는 코드이다.\r\n",
    "\r\n",
    "조건선택 실행구조 안에 다른 조건선택 실행구조를 넣어 처리할 수 있는 것과 마찬가지로\r\n",
    "반복 실행구조 안에 다른 반복 실행구조를 넣어 처리할 수 있다.\r\n",
    "\r\n",
    "원하는 형태로 실행 구조를 결합하거나 중첩시킬 수 있다."
   ]
  },
  {
   "cell_type": "code",
   "execution_count": 47,
   "id": "a6bb2f10-38e4-481f-9c29-7a74e6d138a6",
   "metadata": {},
   "outputs": [
    {
     "name": "stdin",
     "output_type": "stream",
     "text": [
      " 2 3\n"
     ]
    },
    {
     "name": "stdout",
     "output_type": "stream",
     "text": [
      "1 1\n",
      "1 2\n",
      "1 3\n",
      "2 1\n",
      "2 2\n",
      "2 3\n"
     ]
    }
   ],
   "source": [
    "n,m = map(int,input().split())\n",
    "for i in range(1,n+1):\n",
    "    for j in range(1,m+1):\n",
    "        print(i,j)"
   ]
  }
 ],
 "metadata": {
  "kernelspec": {
   "display_name": "Python 3 (ipykernel)",
   "language": "python",
   "name": "python3"
  },
  "language_info": {
   "codemirror_mode": {
    "name": "ipython",
    "version": 3
   },
   "file_extension": ".py",
   "mimetype": "text/x-python",
   "name": "python",
   "nbconvert_exporter": "python",
   "pygments_lexer": "ipython3",
   "version": "3.11.7"
  }
 },
 "nbformat": 4,
 "nbformat_minor": 5
}
