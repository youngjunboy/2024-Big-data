{
 "cells": [
  {
   "cell_type": "markdown",
   "id": "3fd25f75-b8ab-4188-9b91-d3ba9d47d596",
   "metadata": {},
   "source": [
    "# 30917_홍영준_0822_Q"
   ]
  },
  {
   "cell_type": "markdown",
   "id": "87b0d5da-9f87-4cad-8718-19716310f4df",
   "metadata": {},
   "source": [
    "# 1115 : 두 정수의 덧셈"
   ]
  },
  {
   "cell_type": "code",
   "execution_count": 2,
   "id": "3746fe30-c7f5-4b46-bc79-c359e5fe0bd2",
   "metadata": {},
   "outputs": [
    {
     "name": "stdin",
     "output_type": "stream",
     "text": [
      " 11111 22222\n"
     ]
    },
    {
     "name": "stdout",
     "output_type": "stream",
     "text": [
      "33333\n"
     ]
    }
   ],
   "source": [
    "a, b = map(int,input().split())\n",
    "print(a+b)"
   ]
  },
  {
   "cell_type": "markdown",
   "id": "d4011fe2-dc0e-4df2-b3c9-c0aef7b91828",
   "metadata": {},
   "source": [
    "# 1116 : 사칙연산 계산기"
   ]
  },
  {
   "cell_type": "code",
   "execution_count": 12,
   "id": "aaeb7427-d8dd-496d-bbed-a90672d17b04",
   "metadata": {},
   "outputs": [
    {
     "name": "stdin",
     "output_type": "stream",
     "text": [
      " 4 9\n"
     ]
    },
    {
     "name": "stdout",
     "output_type": "stream",
     "text": [
      "4+9=13\n",
      "4-9=-5\n",
      "4*9=36\n",
      "4/9=0\n"
     ]
    }
   ],
   "source": [
    "a, b = map(int,input().split())\n",
    "print(f'{a}+{b}={a+b}')\n",
    "print(f'{a}-{b}={a-b}')\n",
    "print(f'{a}*{b}={a*b}')\n",
    "print(f'{a}/{b}={a//b}')"
   ]
  },
  {
   "cell_type": "markdown",
   "id": "b1180386-1e6a-46da-8688-9b650e1e1875",
   "metadata": {},
   "source": [
    "# 1117 : 두 실수의 곱"
   ]
  },
  {
   "cell_type": "code",
   "execution_count": 19,
   "id": "e1f44f57-3b31-4f97-a805-d606ca8f6052",
   "metadata": {},
   "outputs": [
    {
     "name": "stdin",
     "output_type": "stream",
     "text": [
      " 2.22 3.41\n"
     ]
    },
    {
     "name": "stdout",
     "output_type": "stream",
     "text": [
      "7.57\n"
     ]
    }
   ],
   "source": [
    "a, b = map(float,input().split())\n",
    "print(round(a*b,2))"
   ]
  },
  {
   "cell_type": "markdown",
   "id": "67e9ea95-8e84-4f41-962a-1dd7b52d730f",
   "metadata": {},
   "source": [
    "# 1118 : 삼각형의 넓이 구하기"
   ]
  },
  {
   "cell_type": "code",
   "execution_count": 21,
   "id": "f7bcccba-e12c-4a3b-bd6f-5f9293182c79",
   "metadata": {},
   "outputs": [
    {
     "name": "stdin",
     "output_type": "stream",
     "text": [
      " 4 7\n"
     ]
    },
    {
     "name": "stdout",
     "output_type": "stream",
     "text": [
      "14.0\n"
     ]
    }
   ],
   "source": [
    "# a = 밑변, b = 높이\n",
    "# 공식 = 밑변 * 높이 / 2 \n",
    "a, b = map(int,input().split())\n",
    "print(a*b/2)"
   ]
  },
  {
   "cell_type": "markdown",
   "id": "1c8193e7-d4b9-4027-b2a4-639161d3c647",
   "metadata": {},
   "source": [
    "# 1119 : 일을 시간으로 변환"
   ]
  },
  {
   "cell_type": "code",
   "execution_count": 23,
   "id": "bc8ca9b8-7d4a-4c63-8352-5aef2c98ac7f",
   "metadata": {},
   "outputs": [
    {
     "name": "stdin",
     "output_type": "stream",
     "text": [
      " 2\n"
     ]
    },
    {
     "name": "stdout",
     "output_type": "stream",
     "text": [
      "48\n"
     ]
    }
   ],
   "source": [
    "a = int(input())\n",
    "print(a*24)"
   ]
  },
  {
   "cell_type": "markdown",
   "id": "48857583-f669-413c-b4a9-23456b373116",
   "metadata": {},
   "source": [
    "# 1120 : 세 수의 평균"
   ]
  },
  {
   "cell_type": "code",
   "execution_count": 36,
   "id": "3061ffaa-32d7-451b-bbba-47672c029d17",
   "metadata": {},
   "outputs": [
    {
     "name": "stdin",
     "output_type": "stream",
     "text": [
      " 3 5 6\n"
     ]
    },
    {
     "name": "stdout",
     "output_type": "stream",
     "text": [
      "4.67\n"
     ]
    }
   ],
   "source": [
    "a, b, c = map(int,input().split())\n",
    "print(f'{(a+b+c)/3:.2f}') # 소수점 둘째 자리까지 출력"
   ]
  },
  {
   "cell_type": "code",
   "execution_count": null,
   "id": "4858740b-a2c5-44b9-89b1-e2854359b1c5",
   "metadata": {},
   "outputs": [],
   "source": []
  }
 ],
 "metadata": {
  "kernelspec": {
   "display_name": "Python 3 (ipykernel)",
   "language": "python",
   "name": "python3"
  },
  "language_info": {
   "codemirror_mode": {
    "name": "ipython",
    "version": 3
   },
   "file_extension": ".py",
   "mimetype": "text/x-python",
   "name": "python",
   "nbconvert_exporter": "python",
   "pygments_lexer": "ipython3",
   "version": "3.11.7"
  }
 },
 "nbformat": 4,
 "nbformat_minor": 5
}
