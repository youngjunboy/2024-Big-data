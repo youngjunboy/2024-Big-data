{
 "cells": [
  {
   "cell_type": "markdown",
   "id": "584ba65e-129b-4250-8c7b-d0866d3b1e34",
   "metadata": {},
   "source": [
    "# 30917_홍영준_0408_Q"
   ]
  },
  {
   "cell_type": "markdown",
   "id": "c13546b9-34fe-4eb8-89a9-6c3f8ff3d8aa",
   "metadata": {},
   "source": [
    "# 6078 : [기초-종합] 원하는 문자가 입력될 때까지 반복 출력하기(py)\n",
    "영문 소문자 'q'가 입력될 때까지\r\n",
    "입력한 문자를 계속 출력하는 프로그램을 작성해보자\r\n"
   ]
  },
  {
   "cell_type": "code",
   "execution_count": 21,
   "id": "24e3dd40-b281-44ba-b26f-4c463531af01",
   "metadata": {},
   "outputs": [
    {
     "name": "stdin",
     "output_type": "stream",
     "text": [
      " h\n"
     ]
    },
    {
     "name": "stdout",
     "output_type": "stream",
     "text": [
      "h\n"
     ]
    },
    {
     "name": "stdin",
     "output_type": "stream",
     "text": [
      " y\n"
     ]
    },
    {
     "name": "stdout",
     "output_type": "stream",
     "text": [
      "y\n"
     ]
    },
    {
     "name": "stdin",
     "output_type": "stream",
     "text": [
      " j\n"
     ]
    },
    {
     "name": "stdout",
     "output_type": "stream",
     "text": [
      "j\n"
     ]
    },
    {
     "name": "stdin",
     "output_type": "stream",
     "text": [
      " q\n"
     ]
    },
    {
     "name": "stdout",
     "output_type": "stream",
     "text": [
      "q\n"
     ]
    }
   ],
   "source": [
    "while True:\n",
    "    n = input()\n",
    "    print(n)\n",
    "    if n == 'q':\n",
    "        break;"
   ]
  },
  {
   "cell_type": "markdown",
   "id": "9e01bdd0-eec8-4f68-8918-a2f97d87c583",
   "metadata": {},
   "source": [
    "# 6079 : [기초-종합] 언제까지 더해야 할까?(py)\n",
    "1, 2, 3 ... 을 계속 더해 나갈 때,\r\n",
    "그 합이 입력한 정수(0 ~ 1000)보다 같거나 작을 때까지만\r\n",
    "계속 더하는 프로그램을 작성해보자.\r\n",
    "\r\n",
    "즉, 1부터 n까지 정수를 계속 더해 나간다고 할 때,\r\n",
    "어디까지 더해야 입력한 수보다 같거나 커지는 지를 알아보고자하는 문제이다."
   ]
  },
  {
   "cell_type": "code",
   "execution_count": 49,
   "id": "65b08151-5f72-4cfc-af81-861e0ea746a3",
   "metadata": {},
   "outputs": [
    {
     "name": "stdin",
     "output_type": "stream",
     "text": [
      " 13\n"
     ]
    }
   ],
   "source": [
    "n = int(input())\n",
    "a = 0\n",
    "while n>a:\n",
    "    if a<n:\n",
    "        a+=1\n",
    "    else:\n",
    "        break\n",
    "    "
   ]
  },
  {
   "cell_type": "code",
   "execution_count": null,
   "id": "766902ff-81ba-4153-ad84-5fe67b0e275f",
   "metadata": {},
   "outputs": [],
   "source": []
  }
 ],
 "metadata": {
  "kernelspec": {
   "display_name": "Python 3 (ipykernel)",
   "language": "python",
   "name": "python3"
  },
  "language_info": {
   "codemirror_mode": {
    "name": "ipython",
    "version": 3
   },
   "file_extension": ".py",
   "mimetype": "text/x-python",
   "name": "python",
   "nbconvert_exporter": "python",
   "pygments_lexer": "ipython3",
   "version": "3.11.7"
  }
 },
 "nbformat": 4,
 "nbformat_minor": 5
}
