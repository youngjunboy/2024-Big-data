{
 "cells": [
  {
   "cell_type": "markdown",
   "id": "3fb10b2a-5d11-412d-ba4c-1bd34425f095",
   "metadata": {},
   "source": [
    "# 30917_홍영준_0318_1"
   ]
  },
  {
   "cell_type": "markdown",
   "id": "83bc3de2-20ee-4c16-b982-cc2f3e88a984",
   "metadata": {},
   "source": [
    "> 실행결과\n",
    "```\n",
    "세 정수의 최댓값을 구합니다.\n",
    "\n",
    "정수 a 값을 입력하세요 : 1\n",
    "정수 b 값을 입력하세요 : 3\n",
    "정수 c 값을 입력하세요 : 2\n",
    "```"
   ]
  },
  {
   "cell_type": "code",
   "execution_count": 18,
   "id": "2bde4f83-1620-47a3-b299-116c8041acfa",
   "metadata": {},
   "outputs": [
    {
     "name": "stdout",
     "output_type": "stream",
     "text": [
      "세 정수의 최댓값을 구합니다.\n"
     ]
    },
    {
     "name": "stdin",
     "output_type": "stream",
     "text": [
      "정수 a의 값을 입력하세요 :  98\n",
      "정수 b 값을 입력하세요 :  186\n",
      "정수 c의 값을 입력하세요 :  370\n"
     ]
    },
    {
     "name": "stdout",
     "output_type": "stream",
     "text": [
      "최대값은 370입니다.\n"
     ]
    }
   ],
   "source": [
    "# 세 정수를 입력받아 최댓값 구하기\n",
    "\n",
    "print('세 정수의 최댓값을 구합니다.')\n",
    "\n",
    "a = int(input('정수 a의 값을 입력하세요 : '))\n",
    "b = int(input('정수 b 값을 입력하세요 : '))\n",
    "c = int(input('정수 c의 값을 입력하세요 : '))\n",
    "\n",
    "# 최대값을 구하는 알고리즘\n",
    "max = a\n",
    "\n",
    "if b > max : max = b\n",
    "if c > max : max = c\n",
    "\n",
    "# if a<b:\n",
    "#     max = b\n",
    "# elif b<c:\n",
    "#     max = c\n",
    "\n",
    "print(f'최대값은 {max}입니다.')"
   ]
  },
  {
   "cell_type": "markdown",
   "id": "9511fd19-d664-4980-9093-fb2f56a57b47",
   "metadata": {},
   "source": [
    "> 실행결과\n",
    "```\n",
    "정수를 입력하세요 : 17\n",
    "이 수는 양수입니다.\n",
    "정수를 입력하세요 : -5\n",
    "이 수는 음수입니다.\n",
    "정수를 입력하세요 : 0\n",
    "이 수는 0입니다."
   ]
  },
  {
   "cell_type": "code",
   "execution_count": 19,
   "id": "8d677589-4e7e-4b67-bc93-6f648564d576",
   "metadata": {},
   "outputs": [
    {
     "name": "stdin",
     "output_type": "stream",
     "text": [
      "정수를 입력하세요 49\n"
     ]
    },
    {
     "name": "stdout",
     "output_type": "stream",
     "text": [
      "이 수는 양수입니다.\n"
     ]
    },
    {
     "name": "stdin",
     "output_type": "stream",
     "text": [
      "정수를 입력하세요 -3\n"
     ]
    },
    {
     "name": "stdout",
     "output_type": "stream",
     "text": [
      "이 수는 음수입니다.\n"
     ]
    },
    {
     "name": "stdin",
     "output_type": "stream",
     "text": [
      "정수를 입력하세요 0\n"
     ]
    },
    {
     "name": "stdout",
     "output_type": "stream",
     "text": [
      "이 수는 0입니다.\n"
     ]
    }
   ],
   "source": [
    "for i in range(3):\n",
    "    a = int(input('정수를 입력하세요'))\n",
    "    if a>0:\n",
    "        print('이 수는 양수입니다.')\n",
    "    elif a<0:\n",
    "        print('이 수는 음수입니다.')\n",
    "    else:\n",
    "        print('이 수는 0입니다.')"
   ]
  },
  {
   "cell_type": "markdown",
   "id": "cc4349b1-9ca8-490e-8d76-71379f22ac1e",
   "metadata": {},
   "source": [
    "> 실행 결과\n",
    "```\n",
    "1부터 n까지 정수의 합을 구합니다.\n",
    "n값을 입력하세요 : 5\n",
    "1부터 5까지 정수의 합은 15입니다."
   ]
  },
  {
   "cell_type": "code",
   "execution_count": 31,
   "id": "97dbb66c-5b68-4f4b-829d-70d029a84ee3",
   "metadata": {},
   "outputs": [
    {
     "name": "stdout",
     "output_type": "stream",
     "text": [
      "1부터 n까지 정수의 합을 구합니다.\n"
     ]
    },
    {
     "name": "stdin",
     "output_type": "stream",
     "text": [
      "n값을 입력하세요 :  8\n"
     ]
    },
    {
     "name": "stdout",
     "output_type": "stream",
     "text": [
      "1부터 8까지 정수의 합은 36입니다.\n"
     ]
    }
   ],
   "source": [
    "# while문 이용\n",
    "# 1부터 n까지 정수의 합 구하기\n",
    "\n",
    "print(\"1부터 n까지 정수의 합을 구합니다.\")\n",
    "n = int(input(\"n값을 입력하세요 : \"))\n",
    "\n",
    "sum = 0 # 초기화\n",
    "i = 1\n",
    "while i <= n :\n",
    "    sum += i # sum = sum + i\n",
    "    i += 1 # i = i + 1\n",
    "\n",
    "#출력\n",
    "print(f'1부터 {n}까지 정수의 합은 {sum}입니다.')"
   ]
  },
  {
   "cell_type": "code",
   "execution_count": null,
   "id": "91fb6e74-1065-4769-8497-dc086e4a01b5",
   "metadata": {},
   "outputs": [],
   "source": []
  }
 ],
 "metadata": {
  "kernelspec": {
   "display_name": "Python 3 (ipykernel)",
   "language": "python",
   "name": "python3"
  },
  "language_info": {
   "codemirror_mode": {
    "name": "ipython",
    "version": 3
   },
   "file_extension": ".py",
   "mimetype": "text/x-python",
   "name": "python",
   "nbconvert_exporter": "python",
   "pygments_lexer": "ipython3",
   "version": "3.11.7"
  }
 },
 "nbformat": 4,
 "nbformat_minor": 5
}
