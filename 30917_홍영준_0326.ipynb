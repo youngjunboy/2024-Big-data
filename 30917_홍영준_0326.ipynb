{
 "cells": [
  {
   "cell_type": "markdown",
   "id": "450cda94-4703-4ccc-b2a8-840ae6c9b8d3",
   "metadata": {},
   "source": [
    "# 30917_홍영준_0326"
   ]
  },
  {
   "cell_type": "code",
   "execution_count": 17,
   "id": "5e40cb47-6a90-4849-b461-f889a44c1358",
   "metadata": {},
   "outputs": [
    {
     "name": "stdout",
     "output_type": "stream",
     "text": [
      "1 2 3 4 5 6 7 9 10 11 12 "
     ]
    }
   ],
   "source": [
    "# 1~12까지 출력할 때 8을 건너뛰고 출력\n",
    "# for문과 continue\n",
    "\n",
    "for i in range(1,13):\n",
    "    if i==8:\n",
    "        continue\n",
    "    print(i, end=' ')"
   ]
  },
  {
   "cell_type": "code",
   "execution_count": 19,
   "id": "bddd8f80-8fef-4dac-ac69-26928acec30c",
   "metadata": {},
   "outputs": [
    {
     "name": "stdout",
     "output_type": "stream",
     "text": [
      "1 2 3 4 5 6 7 9 10 11 12 "
     ]
    }
   ],
   "source": [
    "# 조금 더 간단하게\n",
    "\n",
    "for i in list(range(1,8)) + list(range(9,13)):\n",
    "    print(i, end=' ')"
   ]
  },
  {
   "cell_type": "markdown",
   "id": "3d694472-5c38-4a34-8328-c8a957b382bf",
   "metadata": {},
   "source": [
    "# 코딩엔 정답이 없다!!"
   ]
  },
  {
   "cell_type": "code",
   "execution_count": 40,
   "id": "2c11a356-274d-4f08-bd02-042b27fea6b1",
   "metadata": {},
   "outputs": [
    {
     "name": "stdout",
     "output_type": "stream",
     "text": [
      "---------------------------\n",
      "1 2 3 4 5 6 7 8 9 \n",
      "2 4 6 8 10 12 14 16 18 \n",
      "3 6 9 12 15 18 21 24 27 \n",
      "4 8 12 16 20 24 28 32 36 \n",
      "5 10 15 20 25 30 35 40 45 \n",
      "6 12 18 24 30 36 42 48 54 \n",
      "7 14 21 28 35 42 49 56 63 \n",
      "8 16 24 32 40 48 56 64 72 \n",
      "9 18 27 36 45 54 63 72 81 \n",
      "---------------------------\n"
     ]
    }
   ],
   "source": [
    "print('---' * 9)\n",
    "for i in range(1,10):\n",
    "    for a in range(1,10):\n",
    "        print(a*i,end = ' ')\n",
    "    print()\n",
    "print('---' * 9)"
   ]
  },
  {
   "cell_type": "code",
   "execution_count": 63,
   "id": "9ed4e728-24ea-4880-a421-a6a6e4c7ddd2",
   "metadata": {},
   "outputs": [
    {
     "name": "stdout",
     "output_type": "stream",
     "text": [
      "왼쪽 아래가 직각인 이등변 삼각형을 출력합니다.\n"
     ]
    },
    {
     "name": "stdin",
     "output_type": "stream",
     "text": [
      "짧은 변의 길이를 입력하세요 :  14\n"
     ]
    },
    {
     "name": "stdout",
     "output_type": "stream",
     "text": [
      "* \n",
      "\n",
      "* * \n",
      "\n",
      "* * * \n",
      "\n",
      "* * * * \n",
      "\n",
      "* * * * * \n",
      "\n",
      "* * * * * * \n",
      "\n",
      "* * * * * * * \n",
      "\n",
      "* * * * * * * * \n",
      "\n",
      "* * * * * * * * * \n",
      "\n",
      "* * * * * * * * * * \n",
      "\n",
      "* * * * * * * * * * * \n",
      "\n",
      "* * * * * * * * * * * * \n",
      "\n",
      "* * * * * * * * * * * * * \n",
      "\n",
      "* * * * * * * * * * * * * * \n",
      "\n"
     ]
    }
   ],
   "source": [
    "print('왼쪽 아래가 직각인 이등변 삼각형을 출력합니다.')\n",
    "n = int(input('짧은 변의 길이를 입력하세요 : '))\n",
    "\n",
    "for i in range(n):\n",
    "    for a in range(i+1):\n",
    "        print('*',end=' ')\n",
    "    print('\\n')"
   ]
  },
  {
   "cell_type": "code",
   "execution_count": 67,
   "id": "36ed3381-5110-4a10-95db-bf997fd34cac",
   "metadata": {},
   "outputs": [
    {
     "name": "stdout",
     "output_type": "stream",
     "text": [
      "왼쪽 아래가 직각인 이등변 삼각형을 출력합니다.\n"
     ]
    },
    {
     "name": "stdin",
     "output_type": "stream",
     "text": [
      "짧은 변의 길이를 입력하세요 :  14\n"
     ]
    },
    {
     "name": "stdout",
     "output_type": "stream",
     "text": [
      "                          * \n",
      "                        * * \n",
      "                      * * * \n",
      "                    * * * * \n",
      "                  * * * * * \n",
      "                * * * * * * \n",
      "              * * * * * * * \n",
      "            * * * * * * * * \n",
      "          * * * * * * * * * \n",
      "        * * * * * * * * * * \n",
      "      * * * * * * * * * * * \n",
      "    * * * * * * * * * * * * \n",
      "  * * * * * * * * * * * * * \n",
      "* * * * * * * * * * * * * * \n"
     ]
    }
   ],
   "source": [
    "print('왼쪽 아래가 직각인 이등변 삼각형을 출력합니다.')\n",
    "n = int(input('짧은 변의 길이를 입력하세요 : '))\n",
    "\n",
    "for i in range(n):\n",
    "    for a in range(n-i-1):\n",
    "        print(' ',end=' ')\n",
    "    for a in range(i+1):\n",
    "        print('*',end=' ')\n",
    "    print()"
   ]
  },
  {
   "cell_type": "code",
   "execution_count": null,
   "id": "93f1d194-ac44-4cc6-9270-e571c53f92c9",
   "metadata": {},
   "outputs": [],
   "source": []
  }
 ],
 "metadata": {
  "kernelspec": {
   "display_name": "Python 3 (ipykernel)",
   "language": "python",
   "name": "python3"
  },
  "language_info": {
   "codemirror_mode": {
    "name": "ipython",
    "version": 3
   },
   "file_extension": ".py",
   "mimetype": "text/x-python",
   "name": "python",
   "nbconvert_exporter": "python",
   "pygments_lexer": "ipython3",
   "version": "3.11.7"
  }
 },
 "nbformat": 4,
 "nbformat_minor": 5
}
