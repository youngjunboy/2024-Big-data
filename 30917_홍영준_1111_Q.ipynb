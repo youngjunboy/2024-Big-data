{
 "cells": [
  {
   "cell_type": "markdown",
   "id": "ee1d61ed",
   "metadata": {},
   "source": [
    "# 1161 : 홀수와 짝수 그리고 더하기"
   ]
  },
  {
   "cell_type": "code",
   "execution_count": 27,
   "id": "10a684e6",
   "metadata": {},
   "outputs": [
    {
     "name": "stdout",
     "output_type": "stream",
     "text": [
      "홀수+짝수=홀수\n"
     ]
    }
   ],
   "source": [
    "def hol(a,b):\n",
    "    if a%2 == 0 and b%2 == 0:\n",
    "        print('짝수+짝수=짝수')\n",
    "    if a%2 == 1 and b%2 == 1:\n",
    "        print('홀수+홀수=짝수')\n",
    "    if a%2 == 0 and b%2 == 1:\n",
    "        print('짝수+홀수=홀수')\n",
    "    if a%2 == 1 and b%2 == 0:\n",
    "        print('홀수+짝수=홀수')\n",
    "    \n",
    "hol(11,22)"
   ]
  },
  {
   "cell_type": "code",
   "execution_count": 30,
   "id": "4be7a915",
   "metadata": {},
   "outputs": [
    {
     "name": "stdout",
     "output_type": "stream",
     "text": [
      "8 11\n",
      "짝수+홀수=홀수\n"
     ]
    }
   ],
   "source": [
    "a, b = map(int, input().split())\n",
    "\n",
    "if a%2 == 0 and b%2 == 0:\n",
    "    print('짝수+짝수=짝수')\n",
    "if a%2 == 1 and b%2 == 1:\n",
    "    print('홀수+홀수=짝수')\n",
    "if a%2 == 0 and b%2 == 1:\n",
    "    print('짝수+홀수=홀수')\n",
    "if a%2 == 1 and b%2 == 0:\n",
    "    print('홀수+짝수=홀수')"
   ]
  },
  {
   "cell_type": "markdown",
   "id": "7d689744",
   "metadata": {},
   "source": [
    "# 1162 : 당신의 사주를 봐 드립니다 1\n",
    "### 태어난 해, 월, 일을 입력받아 사주팔자를 보는 프로그램을 작성하시오.\n",
    "### 사주를 보는 방법)\n",
    "### 세 수(년,월,일)가 주어지면,  (년 - 월 + 일)에 마지막 숫자가 0이면 \"대박\"을 출력, 그렇지 않으면 \"그럭저럭\"을 출력하세요."
   ]
  },
  {
   "cell_type": "code",
   "execution_count": 43,
   "id": "f1c6a133",
   "metadata": {},
   "outputs": [
    {
     "name": "stdout",
     "output_type": "stream",
     "text": [
      "206 10 30\n",
      "그럭저럭\n"
     ]
    }
   ],
   "source": [
    "y, m, d = map(int, input().split())\n",
    "n = y-m+d\n",
    "if n%10==0:\n",
    "    print('대박')\n",
    "else :\n",
    "    print('그럭저럭')"
   ]
  },
  {
   "cell_type": "markdown",
   "id": "dd27bd46",
   "metadata": {},
   "source": [
    "# 1163 : 당신의 사주를 봐 드립니다 2\n",
    "### 태어난 해, 월, 일을 입력받아 사주팔자를 보는 프로그램을 작성하시오.\n",
    "### 사주를 보는 방법)\n",
    "### 세 수(년,월,일)가 주어지면,  (년 + 월 + 일)에 100의 자리 숫자가 짝수이면 \"대박\"을 출력, 그렇지 않으면 \"그럭저럭\"을 출력하세요."
   ]
  },
  {
   "cell_type": "code",
   "execution_count": 51,
   "id": "95083dd9",
   "metadata": {},
   "outputs": [
    {
     "name": "stdout",
     "output_type": "stream",
     "text": [
      "2006 10 30\n",
      "대박\n"
     ]
    }
   ],
   "source": [
    "y, m, d = map(int, input().split())\n",
    "n = (y+m+d) % 1000 // 100\n",
    "if n%2==0:\n",
    "    print('대박')\n",
    "else :\n",
    "    print('그럭저럭')"
   ]
  },
  {
   "cell_type": "code",
   "execution_count": null,
   "id": "0b6daa99",
   "metadata": {},
   "outputs": [],
   "source": []
  }
 ],
 "metadata": {
  "kernelspec": {
   "display_name": "Python 3 (ipykernel)",
   "language": "python",
   "name": "python3"
  },
  "language_info": {
   "codemirror_mode": {
    "name": "ipython",
    "version": 3
   },
   "file_extension": ".py",
   "mimetype": "text/x-python",
   "name": "python",
   "nbconvert_exporter": "python",
   "pygments_lexer": "ipython3",
   "version": "3.9.7"
  }
 },
 "nbformat": 4,
 "nbformat_minor": 5
}
