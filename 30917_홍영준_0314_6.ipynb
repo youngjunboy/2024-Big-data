{
 "cells": [
  {
   "cell_type": "markdown",
   "id": "43eb1420-a83e-4928-a74f-6fad35a024b2",
   "metadata": {},
   "source": [
    "# 30917_홍영준_0314_6"
   ]
  },
  {
   "cell_type": "markdown",
   "id": "828f3570-3c69-4c53-a59e-1868cf591b36",
   "metadata": {},
   "source": [
    "# 3.1 데이터를 저장하는 공간 : 변수"
   ]
  },
  {
   "cell_type": "markdown",
   "id": "ea982cda-b30d-4416-be76-c61cad468c61",
   "metadata": {},
   "source": [
    "## 3.1.1 변수란"
   ]
  },
  {
   "cell_type": "code",
   "execution_count": 2,
   "id": "59257334-ad40-44e5-bcee-ab4f033de870",
   "metadata": {},
   "outputs": [],
   "source": [
    "a = 10"
   ]
  },
  {
   "cell_type": "code",
   "execution_count": 3,
   "id": "d84d3843-ffcc-42cb-9d52-d24d475f1d67",
   "metadata": {},
   "outputs": [],
   "source": [
    "a = 20"
   ]
  },
  {
   "cell_type": "code",
   "execution_count": 4,
   "id": "3acaa1ec-db12-40df-b655-654b1fd6dcd6",
   "metadata": {},
   "outputs": [
    {
     "name": "stdout",
     "output_type": "stream",
     "text": [
      "20\n"
     ]
    }
   ],
   "source": [
    "print(a)"
   ]
  },
  {
   "cell_type": "markdown",
   "id": "f9895e36-b092-47ae-bb68-2d1ea59dd46f",
   "metadata": {},
   "source": [
    "## 3.1.2 변수에 값을 저장하고 사용하기"
   ]
  },
  {
   "cell_type": "code",
   "execution_count": 5,
   "id": "3be52792-ef5d-4009-b288-3c06c0e1e592",
   "metadata": {},
   "outputs": [
    {
     "name": "stdout",
     "output_type": "stream",
     "text": [
      "a\n",
      "10\n"
     ]
    }
   ],
   "source": [
    "a = 10\n",
    "print('a')\n",
    "print(a)"
   ]
  },
  {
   "cell_type": "code",
   "execution_count": 9,
   "id": "e8f54bcb-572f-4bc8-9a13-d95e0a36fc78",
   "metadata": {},
   "outputs": [
    {
     "name": "stdout",
     "output_type": "stream",
     "text": [
      "3\n"
     ]
    }
   ],
   "source": [
    "가나다 = 3\n",
    "print(가나다)"
   ]
  },
  {
   "cell_type": "code",
   "execution_count": 18,
   "id": "1d78366f-54fd-4b55-8b76-833ac280d0a9",
   "metadata": {},
   "outputs": [
    {
     "name": "stdout",
     "output_type": "stream",
     "text": [
      "성일정보\n",
      "성일 정보\n"
     ]
    }
   ],
   "source": [
    "b = '성일'\n",
    "c = '정보'\n",
    "print(b+c)\n",
    "print(b,c)"
   ]
  },
  {
   "cell_type": "code",
   "execution_count": 27,
   "id": "8af54913-ff5a-4002-8c7e-5c6d1e07b2be",
   "metadata": {},
   "outputs": [
    {
     "name": "stdout",
     "output_type": "stream",
     "text": [
      "유리 키는  175.5  , 나이는  21  , 취미는  programing  입니다!\n"
     ]
    }
   ],
   "source": [
    "name = '유리'\n",
    "height = 175.5\n",
    "age = 21\n",
    "hobby = 'programing'\n",
    "print(name, '키는 ',height ,' , 나이는 ', age, ' , 취미는 ',hobby ,' 입니다!')"
   ]
  },
  {
   "cell_type": "code",
   "execution_count": 31,
   "id": "5b79f3c8-0b0a-4080-8fac-7bfd17ac5cc8",
   "metadata": {},
   "outputs": [
    {
     "name": "stdout",
     "output_type": "stream",
     "text": [
      "제임스 키는  186  , 나이는  24  , 취미는  요리하기  입니다!\n",
      "제임스 키는 186, 나이는 24, 취미는 요리하기 입니다!\n",
      "제임스 키는 186, 나이는 24, 취미는 요리하기 입니다!\n"
     ]
    }
   ],
   "source": [
    "name = '제임스'\n",
    "height = 186\n",
    "age = 24\n",
    "hobby = '요리하기'\n",
    "print(name, '키는 ',height ,' , 나이는 ', age, ' , 취미는 ',hobby ,' 입니다!')\n",
    "print('{} 키는 {}, 나이는 {}, 취미는 {} 입니다!'.format(name,height,age,hobby))\n",
    "print(f'{name} 키는 {height}, 나이는 {age}, 취미는 {hobby} 입니다!')"
   ]
  },
  {
   "cell_type": "markdown",
   "id": "fc3ffb71-2f22-4eff-9109-4a7d3e575313",
   "metadata": {},
   "source": [
    "> 원의 넓이 구해봅시다.\n",
    "``\n",
    "공식 : 파이 * 반지름 ** 2\n",
    "p = 3.141592\n",
    "r = 5\n",
    "``"
   ]
  },
  {
   "cell_type": "code",
   "execution_count": 46,
   "id": "ab214f36-4faa-4587-bc34-daec0beb040f",
   "metadata": {},
   "outputs": [
    {
     "name": "stdout",
     "output_type": "stream",
     "text": [
      "원의 넓이 =  78.5398\n",
      "원의 넓이 = 78.5398\n"
     ]
    }
   ],
   "source": [
    "p = 3.141592\n",
    "r = 5\n",
    "result = p * r **2\n",
    "print('원의 넓이 = ', p * r ** 2)\n",
    "print('원의 넓이 =', result)"
   ]
  },
  {
   "cell_type": "code",
   "execution_count": null,
   "id": "503681bf-c272-4aa3-84c7-a8ed0cdf1c48",
   "metadata": {},
   "outputs": [],
   "source": []
  }
 ],
 "metadata": {
  "kernelspec": {
   "display_name": "Python 3 (ipykernel)",
   "language": "python",
   "name": "python3"
  },
  "language_info": {
   "codemirror_mode": {
    "name": "ipython",
    "version": 3
   },
   "file_extension": ".py",
   "mimetype": "text/x-python",
   "name": "python",
   "nbconvert_exporter": "python",
   "pygments_lexer": "ipython3",
   "version": "3.11.7"
  }
 },
 "nbformat": 4,
 "nbformat_minor": 5
}
