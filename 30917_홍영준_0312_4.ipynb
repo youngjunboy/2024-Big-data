{
 "cells": [
  {
   "cell_type": "markdown",
   "id": "43c1f7fb-bdda-44da-b0c2-2be78c2ec651",
   "metadata": {},
   "source": [
    "# 30917_홍영준_0312_4"
   ]
  },
  {
   "cell_type": "markdown",
   "id": "79557033-95da-46aa-9bd3-05070f4388c8",
   "metadata": {},
   "source": [
    "# 2.3  데이터를 넣는 입력 명렁어\n",
    "## 2.3.2  입력 명령어 input()"
   ]
  },
  {
   "cell_type": "code",
   "execution_count": 1,
   "id": "15b0ae50-a42d-4d41-973b-45715669bd93",
   "metadata": {},
   "outputs": [
    {
     "name": "stdin",
     "output_type": "stream",
     "text": [
      " 성일정보\n"
     ]
    },
    {
     "data": {
      "text/plain": [
       "'성일정보'"
      ]
     },
     "execution_count": 1,
     "metadata": {},
     "output_type": "execute_result"
    }
   ],
   "source": [
    "input()"
   ]
  },
  {
   "cell_type": "code",
   "execution_count": 4,
   "id": "c5719c0a-7c5e-40c7-8022-581ba7249b9f",
   "metadata": {},
   "outputs": [
    {
     "name": "stdin",
     "output_type": "stream",
     "text": [
      "이름 :  홍영준\n"
     ]
    },
    {
     "data": {
      "text/plain": [
       "'홍영준'"
      ]
     },
     "execution_count": 4,
     "metadata": {},
     "output_type": "execute_result"
    }
   ],
   "source": [
    "input(\"이름 : \")"
   ]
  },
  {
   "cell_type": "markdown",
   "id": "bd2ad5bb-3da9-4ae6-b882-3f01dc176ae5",
   "metadata": {},
   "source": [
    "```\n",
    "출력형태\n",
    "\n",
    "    아이디 :\n",
    "    비밀번호 :\n",
    "```"
   ]
  },
  {
   "cell_type": "code",
   "execution_count": 6,
   "id": "7c4269b2-0b74-4256-9561-7a0721d5ecab",
   "metadata": {},
   "outputs": [
    {
     "name": "stdin",
     "output_type": "stream",
     "text": [
      "아이디 :  young\n",
      "비밀번호 :  jun\n"
     ]
    },
    {
     "data": {
      "text/plain": [
       "'jun'"
      ]
     },
     "execution_count": 6,
     "metadata": {},
     "output_type": "execute_result"
    }
   ],
   "source": [
    "input(\"아이디 : \")\n",
    "input(\"비밀번호 : \")"
   ]
  },
  {
   "cell_type": "markdown",
   "id": "40db3c26-db1d-4a44-8ea3-d7d872993599",
   "metadata": {},
   "source": [
    "> 다음을 출력해 봅시다\n",
    "```\n",
    "\n",
    "학번을 입력하세요 ----> 30917\n",
    "```"
   ]
  },
  {
   "cell_type": "code",
   "execution_count": 7,
   "id": "4ae821c9-aeb9-4b18-a7b4-d7b6456431f2",
   "metadata": {},
   "outputs": [
    {
     "name": "stdin",
     "output_type": "stream",
     "text": [
      "학번을 입력하세요 30917\n"
     ]
    },
    {
     "data": {
      "text/plain": [
       "'30917'"
      ]
     },
     "execution_count": 7,
     "metadata": {},
     "output_type": "execute_result"
    }
   ],
   "source": [
    "input(\"학번을 입력하세요\")"
   ]
  },
  {
   "cell_type": "markdown",
   "id": "8014caab-c55e-47cc-9157-c27678d53b43",
   "metadata": {},
   "source": [
    "```\n",
    "\n",
    "---회원가입---\n",
    "\n",
    "아이디 : hong\n",
    "가입을 환영합니다~!\n",
    "```"
   ]
  },
  {
   "cell_type": "code",
   "execution_count": 10,
   "id": "c2da525f-a494-4dd4-bcce-fb89500aecc9",
   "metadata": {},
   "outputs": [
    {
     "name": "stdout",
     "output_type": "stream",
     "text": [
      "---회원가입---\n"
     ]
    },
    {
     "name": "stdin",
     "output_type": "stream",
     "text": [
      "아이디 :  hong\n"
     ]
    },
    {
     "name": "stdout",
     "output_type": "stream",
     "text": [
      "가입을 환영합니다~!\n"
     ]
    }
   ],
   "source": [
    "print(\"---회원가입---\")\n",
    "input(\"아이디 : \")\n",
    "print(\"가입을 환영합니다~!\")"
   ]
  },
  {
   "cell_type": "markdown",
   "id": "a602a999-5f57-48b4-a0d4-83d2ff041164",
   "metadata": {},
   "source": [
    "> 출력해 봅시다\n",
    ">\n",
    "> ```\n",
    "> 닉네임을 입력해주세요 -- > 영준\n",
    "> 영준님 안녕하세요!"
   ]
  },
  {
   "cell_type": "code",
   "execution_count": 14,
   "id": "de327cc2-5f9a-44be-85d3-357dd341acaf",
   "metadata": {},
   "outputs": [
    {
     "name": "stdin",
     "output_type": "stream",
     "text": [
      "닉네임을 입력해주세요 -- >  영준\n"
     ]
    },
    {
     "name": "stdout",
     "output_type": "stream",
     "text": [
      "영준님 안녕하세요!\n"
     ]
    }
   ],
   "source": [
    "print(input(\"닉네임을 입력해주세요 -- > \") + \"님 안녕하세요!\")"
   ]
  },
  {
   "cell_type": "code",
   "execution_count": null,
   "id": "aacbc974-d530-4828-8b37-45884d6b2bc0",
   "metadata": {},
   "outputs": [],
   "source": []
  }
 ],
 "metadata": {
  "kernelspec": {
   "display_name": "Python 3 (ipykernel)",
   "language": "python",
   "name": "python3"
  },
  "language_info": {
   "codemirror_mode": {
    "name": "ipython",
    "version": 3
   },
   "file_extension": ".py",
   "mimetype": "text/x-python",
   "name": "python",
   "nbconvert_exporter": "python",
   "pygments_lexer": "ipython3",
   "version": "3.11.7"
  }
 },
 "nbformat": 4,
 "nbformat_minor": 5
}
