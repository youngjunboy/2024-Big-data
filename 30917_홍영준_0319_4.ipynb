{
 "cells": [
  {
   "cell_type": "markdown",
   "id": "81ace1e0-a6f0-4a98-8969-ae5791280570",
   "metadata": {},
   "source": [
    "# 30917_홍영준_0319_4"
   ]
  },
  {
   "cell_type": "markdown",
   "id": "7062293b-6782-4b64-9a6a-4f2fa43321a0",
   "metadata": {},
   "source": [
    "# 1"
   ]
  },
  {
   "cell_type": "code",
   "execution_count": 3,
   "id": "e54626d7-0e29-4abd-b134-4dd707afc28e",
   "metadata": {},
   "outputs": [
    {
     "name": "stdout",
     "output_type": "stream",
     "text": [
      "1부터 n까지 정수의 합을 구합니다.\n"
     ]
    },
    {
     "name": "stdin",
     "output_type": "stream",
     "text": [
      "n값을 입력하세요 :  7504\n"
     ]
    },
    {
     "name": "stdout",
     "output_type": "stream",
     "text": [
      "1부터 7504까지 정수의 합은 28158760입니다.\n"
     ]
    }
   ],
   "source": [
    "print(\"1부터 n까지 정수의 합을 구합니다.\")\n",
    "n = int(input(\"n값을 입력하세요 : \"))\n",
    "\n",
    "# 변수를 만들고 초기화\n",
    "sum = 0\n",
    "i = 1\n",
    "\n",
    "while i <= n: # i가 n보다 작거나 같은 동안 반복\n",
    "    sum+=i\n",
    "    i+=1\n",
    "print(f'1부터 {n}까지 정수의 합은 {sum}입니다.')"
   ]
  },
  {
   "cell_type": "markdown",
   "id": "b898477a-58b9-478f-903f-b9e87727eea4",
   "metadata": {},
   "source": [
    "# 2"
   ]
  },
  {
   "cell_type": "code",
   "execution_count": 9,
   "id": "2c4db4f3-d173-4bb6-aa73-230e21f5ef11",
   "metadata": {},
   "outputs": [
    {
     "name": "stdout",
     "output_type": "stream",
     "text": [
      "1부터 n까지 정수의 합을 구합니다.\n"
     ]
    },
    {
     "name": "stdin",
     "output_type": "stream",
     "text": [
      "n값을 입력하세요 :  49\n"
     ]
    },
    {
     "name": "stdout",
     "output_type": "stream",
     "text": [
      "1부터 49까지 정수의 합은 1225입니다.\n"
     ]
    }
   ],
   "source": [
    "# for문으로 만들어보기\n",
    "\n",
    "print(\"1부터 n까지 정수의 합을 구합니다.\")\n",
    "n = int(input(\"n값을 입력하세요 : \"))\n",
    "\n",
    "# 변수를 만들고 초기화\n",
    "sum = 0\n",
    "i = 1\n",
    "\n",
    "# for i in range(n):\n",
    "#     sum += i\n",
    "#     i+=1\n",
    "\n",
    "for i in range(1, n+1):\n",
    "    sum += i\n",
    "\n",
    "print(f'1부터 {n}까지 정수의 합은 {sum}입니다.')"
   ]
  },
  {
   "cell_type": "markdown",
   "id": "68cc5145-9a5d-42bf-863e-a8763a45677e",
   "metadata": {},
   "source": [
    "# 3"
   ]
  },
  {
   "cell_type": "code",
   "execution_count": 16,
   "id": "200f27c5-c589-46fd-b1b9-949afa6bf5ad",
   "metadata": {},
   "outputs": [
    {
     "name": "stdout",
     "output_type": "stream",
     "text": [
      "a부터 b까지의 정수의 합을 구합니다.\n"
     ]
    },
    {
     "name": "stdin",
     "output_type": "stream",
     "text": [
      "정수 a를 입력하세요 :  9\n",
      "정수 b를 입력하세요 :  5\n"
     ]
    },
    {
     "name": "stdout",
     "output_type": "stream",
     "text": [
      "5부터 9 까지의 정수의 합은 20입니다.\n"
     ]
    }
   ],
   "source": [
    "print('a부터 b까지의 정수의 합을 구합니다.')\n",
    "a = int(input('정수 a를 입력하세요 : '))\n",
    "b = int(input('정수 b를 입력하세요 : '))\n",
    "\n",
    "sum = 0\n",
    "\n",
    "if a > b:\n",
    "    a,b = b,a # a,b를 오름차순으로 정렬\n",
    "\n",
    "for i in range(a,b):\n",
    "    sum+=a\n",
    "\n",
    "print(f'{a}부터 {b} 까지의 정수의 합은 {sum}입니다.')"
   ]
  },
  {
   "cell_type": "markdown",
   "id": "fddd0e05-ecb5-4f19-9269-f1aa77b411ba",
   "metadata": {},
   "source": [
    "# 4"
   ]
  },
  {
   "cell_type": "code",
   "execution_count": 18,
   "id": "d85f5ff6-a0d6-49f4-b295-7b03728008c8",
   "metadata": {},
   "outputs": [
    {
     "name": "stdout",
     "output_type": "stream",
     "text": [
      "a부터 b까지의 정수의 합을 구합니다.\n"
     ]
    },
    {
     "name": "stdin",
     "output_type": "stream",
     "text": [
      "a값을 입력하세요 :  1\n",
      "b값을 입력하세요 :  134\n"
     ]
    },
    {
     "name": "stdout",
     "output_type": "stream",
     "text": [
      "1 + 2 + 3 + 4 + 5 + 6 + 7 + 8 + 9 + 10 + 11 + 12 + 13 + 14 + 15 + 16 + 17 + 18 + 19 + 20 + 21 + 22 + 23 + 24 + 25 + 26 + 27 + 28 + 29 + 30 + 31 + 32 + 33 + 34 + 35 + 36 + 37 + 38 + 39 + 40 + 41 + 42 + 43 + 44 + 45 + 46 + 47 + 48 + 49 + 50 + 51 + 52 + 53 + 54 + 55 + 56 + 57 + 58 + 59 + 60 + 61 + 62 + 63 + 64 + 65 + 66 + 67 + 68 + 69 + 70 + 71 + 72 + 73 + 74 + 75 + 76 + 77 + 78 + 79 + 80 + 81 + 82 + 83 + 84 + 85 + 86 + 87 + 88 + 89 + 90 + 91 + 92 + 93 + 94 + 95 + 96 + 97 + 98 + 99 + 100 + 101 + 102 + 103 + 104 + 105 + 106 + 107 + 108 + 109 + 110 + 111 + 112 + 113 + 114 + 115 + 116 + 117 + 118 + 119 + 120 + 121 + 122 + 123 + 124 + 125 + 126 + 127 + 128 + 129 + 130 + 131 + 132 + 133 + 134 = 9045\n"
     ]
    }
   ],
   "source": [
    "print('a부터 b까지의 정수의 합을 구합니다.')\n",
    "a = int(input('a값을 입력하세요 : '))\n",
    "b = int(input('b값을 입력하세요 : '))\n",
    "\n",
    "if a > b:\n",
    "    a,b = b,a\n",
    "\n",
    "sum = 0\n",
    "\n",
    "for i in range(a, b+1):\n",
    "    if i < b: # i가 b보다 작으면 합을 구하는 과정을 출력\n",
    "        print(f'{i} + ',end = '')\n",
    "    else:\n",
    "        print(f'{i} = ',end = '')\n",
    "    sum += i\n",
    "\n",
    "print(sum)"
   ]
  }
 ],
 "metadata": {
  "kernelspec": {
   "display_name": "Python 3 (ipykernel)",
   "language": "python",
   "name": "python3"
  },
  "language_info": {
   "codemirror_mode": {
    "name": "ipython",
    "version": 3
   },
   "file_extension": ".py",
   "mimetype": "text/x-python",
   "name": "python",
   "nbconvert_exporter": "python",
   "pygments_lexer": "ipython3",
   "version": "3.11.7"
  }
 },
 "nbformat": 4,
 "nbformat_minor": 5
}
