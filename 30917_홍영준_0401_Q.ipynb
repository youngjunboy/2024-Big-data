{
 "cells": [
  {
   "cell_type": "markdown",
   "id": "cb492361-828d-4eb9-bedf-8d6703364f6f",
   "metadata": {},
   "source": [
    "# 6063 : [기초-3항연산] 정수 2개 입력받아 큰 값 출력하기(설명)(py)\n",
    "입력된 두 정수(a, b) 중 큰 값을 출력하는 프로그램을 작성해보자.\r\n",
    "단, 3항 연산을 사용한다.\r\n",
    "\r\n",
    "예시\r\n",
    "a, b = input().split()\r\n",
    "a = int(a)  #변수 a에 저장되어있는 값을 정수로 바꾸어 다시 변수 a에 저장\r\n",
    "b = int(b)\r\n",
    "c = (a if (a>=b) else b)\r\n",
    "print(int(c))\r\n",
    "\r\n",
    "참고\r\n",
    "3개의 요소로 이루어지는 3항 연산은\r\n",
    "\"x if C else y\" 의 형태로 작성이 된다.\r\n",
    "- C : True 또는 False 를 평가할 조건식(conditional expression) 또는 값\r\n",
    "- x : C의 평가 결과가 True 일 때 사용할 값\r\n",
    "- y : C의 평가 결과가 True 가 아닐 때 사용할 값\r\n",
    "\r\n",
    "조건식 또는 값이 True 이면 x 값이 사용되고, True가 아니면 y 값이 사용되도록 하는 코드이다.\r\n",
    "\r\n",
    "예를 들어\r\n",
    "0 if 123>456 else 1\r\n",
    "과 같은 표현식의 평가값은 123 > 456 의 비교연산 결과가 False 이므로 1이 된다.\r\n",
    "\r\n",
    "예시 코드에서\r\n",
    "a>=b 의 결과가 True(참) 이면 (a if (a>=b) else b)의 결과는 a가 되고,\r\n",
    "a>=b 의 결과가 False(거짓)이면 (a if (a>=b) else b)의 결과는 b가 된다."
   ]
  },
  {
   "cell_type": "code",
   "execution_count": 13,
   "id": "e8129349-774f-49db-a991-69f38e4cb304",
   "metadata": {},
   "outputs": [
    {
     "name": "stdin",
     "output_type": "stream",
     "text": [
      " 3 6\n"
     ]
    },
    {
     "name": "stdout",
     "output_type": "stream",
     "text": [
      "6\n"
     ]
    }
   ],
   "source": [
    "a, b = input().split()\n",
    "a = int(a)\n",
    "b = int(b)\n",
    "c = (a if (a>b) else b)\n",
    "print(int(c))"
   ]
  },
  {
   "cell_type": "markdown",
   "id": "909f6a09-69fb-4ac6-8596-e295dccaf4f0",
   "metadata": {},
   "source": [
    "# 6064 : [기초-3항연산] 정수 3개 입력받아 가장 작은 값 출력하기(설명)(py)\n",
    "입력된 세 정수 a, b, c 중 가장 작은 값을 출력하는 프로그램을 작성해보자.\r\n",
    "단, 3항 연산을 사용한다.\r\n",
    "\r\n",
    "참고\r\n",
    "프로그래밍언어 소스코드 작성시 모든 요소들은\r\n",
    "\"순서에 따라 한 단계씩 실행\"\r\n",
    "\"미리 정해진 순서에 따라 하나씩 연산 수행\"\r\n",
    "\"그 때까지 연산된 결과를 이용해 다시 순서에 따라 하나씩 연산\"\r\n",
    "...\r\n",
    "등의 원리가 적용된다.\r\n",
    "\r\n",
    "따라서 3항 연산을 중첩해(괄호로 묶는 등..) 이용하면 여러 값들을 순서대로 비교해 가장 큰/작은 값을 계산할 수 있다.\r\n",
    "\r\n",
    "예를 들어\r\n",
    "(a if a>b else b) if ((a if a>b else b)>c) else c\r\n",
    "와 같은 계산식은 a, b, c 의 값 중 가장 큰 값으로 계산된다.\r\n",
    "\r\n",
    "잘 이해가 되지 않는다면 어떤 순서에 따라 계산될 지 생각해보고\r\n",
    "여러 가지 연산자가 동시에 사용된 식이 있을 때, 어떤 우선순위에 따라 순서대로 계산이 되는지 찾아보도록 한다.\r\n",
    "“연산자 우선순위”를 검색하면 우선순위와 결합방향이 나온다.\r\n",
    "예를 들어 변수에 어떤 값을 대입하는 대입(assign) 연산자 = 의 우선순위는 가장 낮고, 오른쪽에서 왼쪽의 결합방향을 가진다.\r\n",
    "\r\n",
    "** 3항 연산은 자주 사용되지는 않지만,\r\n",
    "복잡한 계산식이나 조건 처리, 비교 구조를 간단히 표현할 수 있게 해준다."
   ]
  },
  {
   "cell_type": "code",
   "execution_count": 18,
   "id": "0ecd7fee-a403-45a2-9625-c3364e61ed23",
   "metadata": {},
   "outputs": [
    {
     "name": "stdin",
     "output_type": "stream",
     "text": [
      " 4 7 9\n"
     ]
    },
    {
     "name": "stdout",
     "output_type": "stream",
     "text": [
      "4\n"
     ]
    }
   ],
   "source": [
    "a, b, c = input().split()\n",
    "a = int(a)\n",
    "b = int(b)\n",
    "c = int(c)\n",
    "d = (a if (a<b) else b) if(a if a<b else b<c) else c\n",
    "print(d)"
   ]
  },
  {
   "cell_type": "markdown",
   "id": "7b21fad9-5849-4162-beea-fc5375620e73",
   "metadata": {},
   "source": [
    "# 6065 : [기초-조건/선택실행구조] 정수 3개 입력받아 짝수만 출력하기(설명)(py)\n",
    "3개의 정수(a, b, c)가 입력되었을 때, 짝수만 출력해보자.\r\n",
    "\r\n",
    "예시\r\n",
    "a, b, c = input().split()\r\n",
    "\r\n",
    "a = int(a)\r\n",
    "b = int(b)\r\n",
    "c = int(c)\r\n",
    "\r\n",
    "if a%2==0 :  #논리적으로 한 단위로 처리해야하는 경우 콜론(:)을 찍고, 들여쓰기로 작성 한다.\r\n",
    "  print(a)\r\n",
    "\r\n",
    "if b%2==0 :\r\n",
    "  print(b) \r\n",
    "\r\n",
    "if c%2==0 :\r\n",
    "  print(c) \r\n",
    "\r\n",
    "참고 \r\n",
    "if 조건식 :\r\n",
    "  실행1  #조건식의 평가값이 True 인 경우 실행시킬 명령을 들여쓰기를 이용해 순서대로 작성한다.\r\n",
    "  실행2\r\n",
    "실행3  #들여쓰기를 하지 않은 부분은 조건식에 상관이 없음 \r\n",
    "\r\n",
    "python 에서는 논리적 실행단위인 코드블록(code block)을 표현하기 위해 들여쓰기를 사용한다.\r\n",
    "들여쓰기 방법은 탭(tab), 공백(space) 4개 등 여러 가지 방법을 사용할 수 있지만\r\n",
    "한 소스코드 내에서 들여쓰기 길이와 방법은 똑같아야 한다.\r\n",
    "\r\n",
    "a%2==0 은 (a%2)가 먼저 계산된 후 그 결과를 정수 0과 비교한 결과값이다.\r\n",
    "a를 2로 나눈 나머지가 0, 즉 짝수이면 True 가 되고, 아니면 False 로 계산된다.\r\n",
    "따라서,\r\n",
    "if a%2==0 : #a가 짝수라면 ... \r\n",
    "와 같은 의미가 된다. 짝수가 아니라면 들여쓰기로 작성된 부분들은 실행되지 않는다.\r\n"
   ]
  },
  {
   "cell_type": "code",
   "execution_count": 49,
   "id": "19241e7d-e1a7-4248-9666-10bcbd78df0f",
   "metadata": {},
   "outputs": [
    {
     "name": "stdin",
     "output_type": "stream",
     "text": [
      " 2 5 8\n"
     ]
    },
    {
     "name": "stdout",
     "output_type": "stream",
     "text": [
      "2\n",
      "8\n"
     ]
    }
   ],
   "source": [
    "a, b, c = map(int,input().split())\n",
    "\n",
    "a = int(a)\n",
    "b = int(b)\n",
    "c = int(c)\n",
    "\n",
    "if a%2==0 :\n",
    "  print(a)\n",
    "\n",
    "if b%2==0 :\n",
    "  print(b) \n",
    "\n",
    "if c%2==0 :\n",
    "  print(c) "
   ]
  },
  {
   "cell_type": "markdown",
   "id": "3ce94b9a-41fe-4f1b-bf16-13aa8f9f59f3",
   "metadata": {},
   "source": [
    "# 6066 : [기초-조건/선택실행구조] 정수 3개 입력받아 짝/홀 출력하기(설명)(py)\n",
    "3개의 정수(a, b, c)가 입력되었을 때, 짝(even)/홀(odd)을 출력해보자.\r\n",
    "\r\n",
    "예시\r\n",
    "...\r\n",
    "if a%2==0 :\r\n",
    "  print(\"even\")\r\n",
    "else :\r\n",
    "  print(\"odd\") \r\n",
    "...\r\n",
    "\r\n",
    "참고 \r\n",
    "if 조건식 :  #조건식을 평가해서...\r\n",
    "  실행1      #True 인 경우 실행시킬 명령들...\r\n",
    "  실행2\r\n",
    "else :        \r\n",
    "  실행3      #False 인 경우 실행시킬 명령들...\r\n",
    "  실행4\r\n",
    "실행5       #조건식과 상관없는 다음 명령\r\n",
    "...\r\n",
    "\r\n",
    "else 는 if 없이 혼자 사용되지 않는다.\r\n",
    "또한, else 다음에는 조건식이 없는 이유는? True(참)가 아니면 False(거짓)이기 때문에... \r\n",
    "조건식의 평가 결과는 True 아니면 False 로 계산되기 때문이다.\r\n",
    "\r\n",
    "python 에서는 들여쓰기를 기준으로 코드블록을 구분하므로, 들여쓰기를 정확하게 해주어야 한다.\r\n"
   ]
  },
  {
   "cell_type": "markdown",
   "id": "ab975286-cdd9-49b9-af61-4dc6ee44185c",
   "metadata": {},
   "source": [
    "# 6066 : [기초-조건/선택실행구조] 정수 3개 입력받아 짝/홀 출력하기(설명)(py)\n",
    "3개의 정수(a, b, c)가 입력되었을 때, 짝(even)/홀(odd)을 출력해보자.\r\n",
    "\r\n",
    "예시\r\n",
    "...\r\n",
    "if a%2==0 :\r\n",
    "  print(\"even\")\r\n",
    "else :\r\n",
    "  print(\"odd\") \r\n",
    "...\r\n",
    "\r\n",
    "참고 \r\n",
    "if 조건식 :  #조건식을 평가해서...\r\n",
    "  실행1      #True 인 경우 실행시킬 명령들...\r\n",
    "  실행2\r\n",
    "else :        \r\n",
    "  실행3      #False 인 경우 실행시킬 명령들...\r\n",
    "  실행4\r\n",
    "실행5       #조건식과 상관없는 다음 명령\r\n",
    "...\r\n",
    "\r\n",
    "else 는 if 없이 혼자 사용되지 않는다.\r\n",
    "또한, else 다음에는 조건식이 없는 이유는? True(참)가 아니면 False(거짓)이기 때문에... \r\n",
    "조건식의 평가 결과는 True 아니면 False 로 계산되기 때문이다.\r\n",
    "\r\n",
    "python 에서는 들여쓰기를 기준으로 코드블록을 구분하므로, 들여쓰기를 정확하게 해주어야 한다."
   ]
  },
  {
   "cell_type": "code",
   "execution_count": 51,
   "id": "670db56c-c79a-4007-8d82-aab4741c50d3",
   "metadata": {},
   "outputs": [
    {
     "name": "stdin",
     "output_type": "stream",
     "text": [
      " 6 11 16\n"
     ]
    },
    {
     "name": "stdout",
     "output_type": "stream",
     "text": [
      "even\n",
      "odd\n",
      "even\n"
     ]
    }
   ],
   "source": [
    "a, b, c = map(int,input().split())\n",
    "if a%2==0:\n",
    "    print('even')\n",
    "else:\n",
    "    print('odd')\n",
    "if b%2==0:\n",
    "    print('even')\n",
    "else:\n",
    "    print('odd')\n",
    "if c%2==0:\n",
    "    print('even')\n",
    "else:\n",
    "    print('odd')"
   ]
  },
  {
   "cell_type": "markdown",
   "id": "7322d3a3-f400-4c60-8817-b2475126d5ad",
   "metadata": {},
   "source": [
    "# 6067 : [기초-조건/선택실행구조] 정수 1개 입력받아 분류하기(설명)(py)\n",
    "0이 아닌 정수 1개가 입력되었을 때, 음(-)/양(+)과 짝(even)/홀(odd)을 구분해 분류해보자.\r\n",
    "음수이면서 짝수이면, A\r\n",
    "음수이면서 홀수이면, B\r\n",
    "양수이면서 짝수이면, C\r\n",
    "양수이면서 홀수이면, D\r\n",
    "를 출력한다.\r\n",
    "\r\n",
    "예시\r\n",
    "...\r\n",
    "if n<0 :\r\n",
    "  if n%2==0 :\r\n",
    "    print('A')      #주의 : 변수 A와 문자열 'A' / \"A\" 는 의미가 완전히 다르다. \r\n",
    "  else :\r\n",
    "    print('B')\r\n",
    "else :\r\n",
    "  if n%2==0 :\r\n",
    "    print('C')\r\n",
    "  else :\r\n",
    "    print('D')\r\n",
    "...\r\n",
    "\r\n",
    "참고\r\n",
    "조건/선택 실행구조 안에 다시 조건/선택 실행구조를 \"중첩\"할 수가 있다.\r\n",
    "\r\n",
    "또한, 중첩된 조건은\r\n",
    "...\r\n",
    "if (n<0) and (n%2==0) :\r\n",
    "    print('A')\r\n",
    "...\r\n",
    "와 같이 논리연산자(not, and, or)를 이용해 합쳐 표현할 수도 있다.\r\n",
    "비교연산(<, >, <=, >=, ==, !=) 의 계산 결과는 True 또는 False 의 불(boolean) 값이고,\r\n",
    "불 값들 사이의 논리연산(not, and, or)의 결과도 True 또는 False 의 불 값이다."
   ]
  },
  {
   "cell_type": "code",
   "execution_count": 52,
   "id": "e643c201-abae-4663-a0f6-e7d963f4e00a",
   "metadata": {},
   "outputs": [
    {
     "name": "stdin",
     "output_type": "stream",
     "text": [
      " 5\n"
     ]
    },
    {
     "name": "stdout",
     "output_type": "stream",
     "text": [
      "D\n"
     ]
    }
   ],
   "source": [
    "a = int(input())\n",
    "if a<0:\n",
    "    if a%2==0:\n",
    "        print('A')\n",
    "    else:\n",
    "        print('B')\n",
    "if a>0:\n",
    "    if a%2==0:\n",
    "        print('C')\n",
    "    else:\n",
    "        print('D')"
   ]
  },
  {
   "cell_type": "code",
   "execution_count": null,
   "id": "1fe743d6-6fc5-48b3-b49a-909e1b35bc71",
   "metadata": {},
   "outputs": [],
   "source": []
  }
 ],
 "metadata": {
  "kernelspec": {
   "display_name": "Python 3 (ipykernel)",
   "language": "python",
   "name": "python3"
  },
  "language_info": {
   "codemirror_mode": {
    "name": "ipython",
    "version": 3
   },
   "file_extension": ".py",
   "mimetype": "text/x-python",
   "name": "python",
   "nbconvert_exporter": "python",
   "pygments_lexer": "ipython3",
   "version": "3.11.7"
  }
 },
 "nbformat": 4,
 "nbformat_minor": 5
}
