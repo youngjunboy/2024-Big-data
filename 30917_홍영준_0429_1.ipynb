{
 "cells": [
  {
   "cell_type": "markdown",
   "id": "99de04dd-2c61-4fbb-aaa7-326f75506bc6",
   "metadata": {},
   "source": [
    "# 30917_홍영준_0429_1"
   ]
  },
  {
   "cell_type": "code",
   "execution_count": 1,
   "id": "f7f7b399-0cad-4f44-81a4-e5eac94e4de2",
   "metadata": {},
   "outputs": [],
   "source": [
    "spending = [25,36,8,53,24,56]"
   ]
  },
  {
   "cell_type": "code",
   "execution_count": 2,
   "id": "6128c4d2-5208-4f0c-9d25-ce78e91712f2",
   "metadata": {},
   "outputs": [
    {
     "data": {
      "text/plain": [
       "[25, 36, 8, 53, 24, 56]"
      ]
     },
     "execution_count": 2,
     "metadata": {},
     "output_type": "execute_result"
    }
   ],
   "source": [
    "spending"
   ]
  },
  {
   "cell_type": "code",
   "execution_count": 3,
   "id": "ad6c5064-e14f-4739-ab11-8874099e3410",
   "metadata": {},
   "outputs": [
    {
     "data": {
      "text/plain": [
       "list"
      ]
     },
     "execution_count": 3,
     "metadata": {},
     "output_type": "execute_result"
    }
   ],
   "source": [
    "type(spending)"
   ]
  },
  {
   "cell_type": "code",
   "execution_count": 4,
   "id": "b42680a9-13f8-4d7d-b718-8821645d597e",
   "metadata": {},
   "outputs": [
    {
     "name": "stdout",
     "output_type": "stream",
     "text": [
      "<class 'list'> [25, 36, 8, 53, 24, 56, 38, 79, 94, 20, 40, 25]\n",
      "<class 'list'> [25, 36, 8, 53, 24, 56]\n"
     ]
    }
   ],
   "source": [
    "# 일년 지출\n",
    "spending_year = [25,36,8,53,24,56,38,79,94,20,40,25]\n",
    "print(type(spending_year), spending_year)\n",
    "\n",
    "# 상반기 지출\n",
    "spending_6mon = [25,36,8,53,24,56]\n",
    "print(type(spending_6mon), spending_6mon)"
   ]
  },
  {
   "cell_type": "code",
   "execution_count": 12,
   "id": "b8219e81-0cc8-48c8-951a-63e6ff018747",
   "metadata": {},
   "outputs": [
    {
     "name": "stdout",
     "output_type": "stream",
     "text": [
      "좋아하는 음식의 개수 :  6\n",
      "좋아하는 음식 순위 :  ['피자', '치킨', '떡볶이', '스테이크', '딸기', '파스타']\n",
      "가장 좋아하는 음식 :  피자\n",
      "마지막으로 좋아하는 음식 :  파스타\n",
      "피자\n",
      "치킨\n",
      "떡볶이\n",
      "스테이크\n",
      "딸기\n",
      "파스타\n"
     ]
    }
   ],
   "source": [
    "# 가장 좋아하는 음식을 순서대로 저장한 리스트\n",
    "food = ['피자','치킨','떡볶이','스테이크','딸기','파스타']\n",
    "print('좋아하는 음식의 개수 : ', len(food))   # 개수 len\n",
    "print('좋아하는 음식 순위 : ', food)\n",
    "print('가장 좋아하는 음식 : ', food[0])\n",
    "print('마지막으로 좋아하는 음식 : ', food[-1])\n",
    "for i in food:\n",
    "    print(i)"
   ]
  },
  {
   "cell_type": "code",
   "execution_count": 23,
   "id": "7857c317-fdec-40db-8199-0a4d0b47a1d9",
   "metadata": {},
   "outputs": [
    {
     "name": "stdout",
     "output_type": "stream",
     "text": [
      "좋아하는 음식을 순위별로 출력하세요.\n",
      "1등 : 피자\n",
      "2등 : 치킨\n",
      "3등 : 떡볶이\n",
      "4등 : 스테이크\n",
      "5등 : 딸기\n",
      "6등 : 파스타\n"
     ]
    }
   ],
   "source": [
    "# 가장 좋아하는 음식을 순서대로 저장한 리스트\n",
    "food = ['피자','치킨','떡볶이','스테이크','딸기','파스타','회','햄버거']\n",
    "print('좋아하는 음식을 순위별로 출력하세요.')\n",
    "for i in range(0,6):\n",
    "    print(f'{i+1}등 : {food[i]}')"
   ]
  },
  {
   "cell_type": "code",
   "execution_count": 24,
   "id": "4a6e6c76-1506-4302-9cff-84d6e2f15610",
   "metadata": {},
   "outputs": [
    {
     "data": {
      "text/plain": [
       "['피자', '치킨', '떡볶이', '스테이크', '딸기', '파스타', '회', '햄버거', '초밥']"
      ]
     },
     "execution_count": 24,
     "metadata": {},
     "output_type": "execute_result"
    }
   ],
   "source": [
    "# food에 초밥을 추가해 주면\n",
    "food.append('초밥')\n",
    "food"
   ]
  },
  {
   "cell_type": "code",
   "execution_count": 26,
   "id": "eae35044-fddc-4db5-badd-5fe354812b53",
   "metadata": {},
   "outputs": [
    {
     "name": "stdout",
     "output_type": "stream",
     "text": [
      "해야할 일을 차례대로 입력해 주세요.\n"
     ]
    },
    {
     "name": "stdin",
     "output_type": "stream",
     "text": [
      " 운동하기\n",
      " 공부하기\n",
      " 영화보기\n",
      " 잠자기\n",
      " 밥먹기\n"
     ]
    },
    {
     "name": "stdout",
     "output_type": "stream",
     "text": [
      "['운동하기', '공부하기', '영화보기', '잠자기', '밥먹기']\n"
     ]
    }
   ],
   "source": [
    "to_do = []\n",
    "print('해야할 일을 차례대로 입력해 주세요.')\n",
    "\n",
    "for i in range(5):\n",
    "    to_do.append(input())\n",
    "\n",
    "print(to_do)"
   ]
  },
  {
   "cell_type": "code",
   "execution_count": 27,
   "id": "6470ba7e-3506-4b0b-a712-d37f3d03a931",
   "metadata": {},
   "outputs": [
    {
     "data": {
      "text/plain": [
       "['운동하기', '영화보기', '잠자기', '밥먹기']"
      ]
     },
     "execution_count": 27,
     "metadata": {},
     "output_type": "execute_result"
    }
   ],
   "source": [
    "# 리스트에서 지우는 명령어 remove\n",
    "to_do.remove('공부하기')\n",
    "to_do"
   ]
  },
  {
   "cell_type": "code",
   "execution_count": 33,
   "id": "750d9c04-6515-489b-bb67-75afc43f468c",
   "metadata": {},
   "outputs": [
    {
     "name": "stdout",
     "output_type": "stream",
     "text": [
      "연도 :  2024\n",
      "월 :  04\n",
      "일 :  29\n"
     ]
    }
   ],
   "source": [
    "date = '2024-04-29'\n",
    "\n",
    "print('연도 : ', date[:4])\n",
    "print('월 : ', date[5:7])\n",
    "print('일 : ', date[8:12])"
   ]
  }
 ],
 "metadata": {
  "kernelspec": {
   "display_name": "Python 3 (ipykernel)",
   "language": "python",
   "name": "python3"
  },
  "language_info": {
   "codemirror_mode": {
    "name": "ipython",
    "version": 3
   },
   "file_extension": ".py",
   "mimetype": "text/x-python",
   "name": "python",
   "nbconvert_exporter": "python",
   "pygments_lexer": "ipython3",
   "version": "3.11.7"
  }
 },
 "nbformat": 4,
 "nbformat_minor": 5
}
