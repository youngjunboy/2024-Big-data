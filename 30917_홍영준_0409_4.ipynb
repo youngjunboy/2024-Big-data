{
 "cells": [
  {
   "cell_type": "markdown",
   "id": "196c8c20-9c00-4088-ac19-370d21ba95db",
   "metadata": {},
   "source": [
    "# 30917_홍영준_0409_4"
   ]
  },
  {
   "cell_type": "markdown",
   "id": "4af09c52-cb37-4699-97e5-1c50d687077c",
   "metadata": {},
   "source": [
    "## 조건문으로 간단한 프로그램 만들기"
   ]
  },
  {
   "cell_type": "code",
   "execution_count": 5,
   "id": "f37c633f-2d7f-43cd-b5d7-4964a1eaad7e",
   "metadata": {},
   "outputs": [
    {
     "name": "stdin",
     "output_type": "stream",
     "text": [
      "나이를 입력하세요 :  21\n"
     ]
    },
    {
     "name": "stdout",
     "output_type": "stream",
     "text": [
      "성인 이므로 가격은 15000원 입니다\n"
     ]
    }
   ],
   "source": [
    "# 목용탕에 가면 미성년자는 6000원 성인 15000원\n",
    "# 나이를 입력 받아서 구분하는 프로그램을 만들어 보자\n",
    "\n",
    "age = int(input(\"나이를 입력하세요 : \"))\n",
    "price = 0\n",
    "\n",
    "if age<20:\n",
    "    price = 6000\n",
    "    print(f'미성년자 이므로 가격은 {price}원 입니다')\n",
    "else:\n",
    "    price = 15000\n",
    "    print(f'성인 이므로 가격은 {price}원 입니다')"
   ]
  },
  {
   "cell_type": "code",
   "execution_count": 14,
   "id": "0d27c3a7-cb42-456a-826f-96c907594b77",
   "metadata": {},
   "outputs": [
    {
     "name": "stdin",
     "output_type": "stream",
     "text": [
      "나이를 입력하세요 :  19\n"
     ]
    },
    {
     "name": "stdout",
     "output_type": "stream",
     "text": [
      "미성년자 이므로 가격은 6000원 입니다\n"
     ]
    },
    {
     "name": "stdin",
     "output_type": "stream",
     "text": [
      "금액을 투입해 주세요 -->  7890\n"
     ]
    },
    {
     "name": "stdout",
     "output_type": "stream",
     "text": [
      "결제완료 되었습니다. 거스름돈은 1890원 입니다. 행복한 하루 되세요!\n"
     ]
    }
   ],
   "source": [
    "# 나이 구분\n",
    "# 금액 구분\n",
    "\n",
    "# 1단계\n",
    "age = int(input('나이를 입력하세요 : '))\n",
    "if age >= 20:\n",
    "    print('성인 이므로 가격은 15000원 입니다')\n",
    "    price = 15000\n",
    "else:\n",
    "    print('미성년자 이므로 가격은 6000원 입니다')\n",
    "    price = 6000\n",
    "\n",
    "# 2단계 투입금액을 입력받아 입장료와 비교하기\n",
    "price_input = int(input(\"금액을 투입해 주세요 --> \"))\n",
    "\n",
    "if price == price_input:\n",
    "    print(\"결제완료 되었습니다. 행복한 하루 되세요!\")\n",
    "elif price_input > price:\n",
    "    money = price_input - price\n",
    "    print(f\"결제완료 되었습니다. 거스름돈은 {money}원 입니다. 행복한 하루 되세요!\")\n",
    "else:\n",
    "    money = price - price_input\n",
    "    print(f\"금액이 부족합니다. 계속 이용하실려면 {money}원이 더 필요합니다.\")"
   ]
  },
  {
   "cell_type": "markdown",
   "id": "b72d7f9e-3cad-4a6c-834a-c22259eef643",
   "metadata": {},
   "source": [
    "```\n",
    "\n",
    "어떤 메뉴가 궁금하신가요? 라면\n",
    "기본라면 : 3500원\n",
    "떡라면 : 4000원\n",
    "만두라면 : 4000원\n",
    "\n",
    "어떤 메뉴가 궁금하신가요? 김밥\n",
    "야채김밥 : 3000원\n",
    "참치김밥 : 4000원\n",
    "꼬마김밥 : 2000원\n",
    "\n",
    "```"
   ]
  },
  {
   "cell_type": "code",
   "execution_count": 15,
   "id": "926ea38a-8534-4967-8b6a-232ca707b507",
   "metadata": {},
   "outputs": [
    {
     "name": "stdin",
     "output_type": "stream",
     "text": [
      "어떤 메뉴가 궁금하신가요? 라면\n"
     ]
    },
    {
     "name": "stdout",
     "output_type": "stream",
     "text": [
      "기본라면 : 3500원\n",
      "떡라면 : 4000원\n",
      "만두라면 : 4000원\n"
     ]
    }
   ],
   "source": [
    "menu = input(\"어떤 메뉴가 궁금하신가요?\")\n",
    "if menu == \"라면\":\n",
    "    print(\"기본라면 : 3500원\")\n",
    "    print(\"떡라면 : 4000원\")\n",
    "    print(\"만두라면 : 4000원\")\n",
    "elif menu == \"김밥\":\n",
    "    print(\"야채김밥 : 3000원\")\n",
    "    print(\"참치김밥 : 4000원\")\n",
    "    print(\"꼬마김밥 : 2000원\")\n",
    "else:\n",
    "    print(\"메뉴가 존재하지 않습니다.\")"
   ]
  },
  {
   "cell_type": "code",
   "execution_count": null,
   "id": "3f6b4fb5-2592-4d7d-9115-99a111258235",
   "metadata": {},
   "outputs": [],
   "source": []
  }
 ],
 "metadata": {
  "kernelspec": {
   "display_name": "Python 3 (ipykernel)",
   "language": "python",
   "name": "python3"
  },
  "language_info": {
   "codemirror_mode": {
    "name": "ipython",
    "version": 3
   },
   "file_extension": ".py",
   "mimetype": "text/x-python",
   "name": "python",
   "nbconvert_exporter": "python",
   "pygments_lexer": "ipython3",
   "version": "3.11.7"
  }
 },
 "nbformat": 4,
 "nbformat_minor": 5
}
