{
 "cells": [
  {
   "cell_type": "markdown",
   "id": "9e5662ba-e012-4f42-9a18-918f423eb92b",
   "metadata": {},
   "source": [
    "# 빅데이터분석 수행평가연습 2-3"
   ]
  },
  {
   "cell_type": "markdown",
   "id": "0b382511-1722-4ebc-a2ab-6be0cb848633",
   "metadata": {},
   "source": [
    "# up&down"
   ]
  },
  {
   "cell_type": "code",
   "execution_count": 5,
   "id": "70a0f225-7f16-4561-8777-642a1c36f9c0",
   "metadata": {},
   "outputs": [
    {
     "name": "stdin",
     "output_type": "stream",
     "text": [
      " 53\n"
     ]
    },
    {
     "name": "stdout",
     "output_type": "stream",
     "text": [
      "Down\n"
     ]
    },
    {
     "name": "stdin",
     "output_type": "stream",
     "text": [
      " 30\n"
     ]
    },
    {
     "name": "stdout",
     "output_type": "stream",
     "text": [
      "Down\n"
     ]
    },
    {
     "name": "stdin",
     "output_type": "stream",
     "text": [
      " 15\n"
     ]
    },
    {
     "name": "stdout",
     "output_type": "stream",
     "text": [
      "정답\n"
     ]
    }
   ],
   "source": [
    "import random\n",
    "def guess_number_game(max_attempts=5):\n",
    "    cnt = 0\n",
    "    num = random.randint(1,100)\n",
    "    while cnt < max_attempts:\n",
    "        cnt += 1\n",
    "        answer = int(input())\n",
    "        if answer == num:\n",
    "            print('정답')\n",
    "            return\n",
    "            \n",
    "        if answer > num:\n",
    "            print('Down')\n",
    "        else:\n",
    "            print('Up')\n",
    "            \n",
    "    print(f'답은 {num}이였습니다. ')\n",
    "\n",
    "guess_number_game()"
   ]
  },
  {
   "cell_type": "markdown",
   "id": "c14de81b-243a-4e82-8588-e423048902a2",
   "metadata": {},
   "source": [
    "# 아이디 비밀번호"
   ]
  },
  {
   "cell_type": "code",
   "execution_count": 9,
   "id": "347ccf16-e0fc-46d9-b51c-e1cfe81d2e33",
   "metadata": {},
   "outputs": [
    {
     "name": "stdin",
     "output_type": "stream",
     "text": [
      "id :  g\n",
      "pwd :  0101\n"
     ]
    },
    {
     "name": "stdout",
     "output_type": "stream",
     "text": [
      "아이디 오류\n"
     ]
    },
    {
     "name": "stdin",
     "output_type": "stream",
     "text": [
      "id :  ghddudwns100\n",
      "pwd :  0\n"
     ]
    },
    {
     "name": "stdout",
     "output_type": "stream",
     "text": [
      "비밀번호 오류\n"
     ]
    },
    {
     "name": "stdin",
     "output_type": "stream",
     "text": [
      "id :  ghddudwns100\n",
      "pwd :  0101\n"
     ]
    }
   ],
   "source": [
    "id = 'ghddudwns100'\n",
    "pwd = '0101'\n",
    "\n",
    "while True:\n",
    "    input_id = input('id : ')\n",
    "    input_pwd = input('pwd : ')\n",
    "\n",
    "    if id == input_id and pwd == input_pwd:\n",
    "        break\n",
    "    if id != input_id:\n",
    "        print('아이디 오류')\n",
    "    if pwd != input_pwd:\n",
    "        print('비밀번호 오류')"
   ]
  }
 ],
 "metadata": {
  "kernelspec": {
   "display_name": "Python 3 (ipykernel)",
   "language": "python",
   "name": "python3"
  },
  "language_info": {
   "codemirror_mode": {
    "name": "ipython",
    "version": 3
   },
   "file_extension": ".py",
   "mimetype": "text/x-python",
   "name": "python",
   "nbconvert_exporter": "python",
   "pygments_lexer": "ipython3",
   "version": "3.11.7"
  }
 },
 "nbformat": 4,
 "nbformat_minor": 5
}
