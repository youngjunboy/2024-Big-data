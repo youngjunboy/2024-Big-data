{
 "cells": [
  {
   "cell_type": "markdown",
   "id": "6180ff93-8d99-4d94-9b36-71dfc8d4f02b",
   "metadata": {},
   "source": [
    "# 30917_홍영준_0521_4"
   ]
  },
  {
   "cell_type": "markdown",
   "id": "52b0972a-2a28-43d3-bc18-1267d512a999",
   "metadata": {},
   "source": [
    "# 딕셔너리 : 사전\n",
    "- 키와 값으로 구성됩니다.\n",
    "- {}를 이용합니다."
   ]
  },
  {
   "cell_type": "code",
   "execution_count": 1,
   "id": "f66992be-209b-4597-b004-77040f932c38",
   "metadata": {},
   "outputs": [
    {
     "name": "stdout",
     "output_type": "stream",
     "text": [
      "{'break': '깨어나다', 'bring': '가져오다', 'brush': '붓', 'brave': '용감한'}\n"
     ]
    }
   ],
   "source": [
    "eng = {'break':'깨어나다','bring':'가져오다','brush':'붓','brave':'용감한'}\n",
    "print(eng)"
   ]
  },
  {
   "cell_type": "code",
   "execution_count": 2,
   "id": "cbb14110-6976-448a-96bf-697bebacf1f0",
   "metadata": {},
   "outputs": [
    {
     "name": "stdout",
     "output_type": "stream",
     "text": [
      "깨어나다\n"
     ]
    }
   ],
   "source": [
    "print(eng['break'])"
   ]
  },
  {
   "cell_type": "code",
   "execution_count": 3,
   "id": "e35aceda-47e3-4869-a64f-c5e0c0f2c973",
   "metadata": {},
   "outputs": [
    {
     "name": "stdout",
     "output_type": "stream",
     "text": [
      "붓\n",
      "용감한\n"
     ]
    }
   ],
   "source": [
    "print(eng['brush'])\n",
    "print(eng['brave'])"
   ]
  },
  {
   "cell_type": "code",
   "execution_count": 4,
   "id": "f7f414dc-d604-48c0-bb5a-edbb80801ee2",
   "metadata": {},
   "outputs": [
    {
     "name": "stdin",
     "output_type": "stream",
     "text": [
      "어떤 메뉴를 드시겠습니까? 치즈라면\n"
     ]
    },
    {
     "name": "stdout",
     "output_type": "stream",
     "text": [
      "4000 원 입니다.\n"
     ]
    }
   ],
   "source": [
    "menu = {'김밥':2500,'참치김밥':3500,'라면':3000,'치즈라면':4000,}\n",
    "eat = input('어떤 메뉴를 드시겠습니까?')\n",
    "print(menu[eat],'원 입니다.')"
   ]
  },
  {
   "cell_type": "code",
   "execution_count": 5,
   "id": "672ab505-c493-4bab-96fc-1699c7504987",
   "metadata": {},
   "outputs": [
    {
     "name": "stdout",
     "output_type": "stream",
     "text": [
      "{'김밥': 2500, '참치김밥': 3500, '라면': 3500, '치즈라면': 4500}\n"
     ]
    }
   ],
   "source": [
    "menu['라면'] = 3500\n",
    "menu['치즈라면'] = 4500\n",
    "print(menu)"
   ]
  },
  {
   "cell_type": "code",
   "execution_count": 6,
   "id": "0ba3dc11-5913-4ae1-9e3a-3468866c0430",
   "metadata": {},
   "outputs": [
    {
     "name": "stdout",
     "output_type": "stream",
     "text": [
      "{'김밥': 3000, '참치김밥': 3500, '라면': 3500, '치즈라면': 4500}\n"
     ]
    }
   ],
   "source": [
    "menu['김밥'] += 500\n",
    "print(menu)"
   ]
  },
  {
   "cell_type": "code",
   "execution_count": 7,
   "id": "0abcc089-cd89-4123-9b73-a69f7ad94c27",
   "metadata": {},
   "outputs": [
    {
     "name": "stdout",
     "output_type": "stream",
     "text": [
      "{'김밥': 3000, '참치김밥': 3500, '라면': 3500, '치즈라면': 4500, '돈가스': 6000}\n"
     ]
    }
   ],
   "source": [
    "# 돈가스 추가하기, 가격 : 6000원\n",
    "menu['돈가스'] = 6000\n",
    "print(menu)"
   ]
  },
  {
   "cell_type": "code",
   "execution_count": 26,
   "id": "b232b7b0-b41f-43b8-a3a0-a969dea579f8",
   "metadata": {},
   "outputs": [
    {
     "name": "stdin",
     "output_type": "stream",
     "text": [
      "메뉴를 추가할게요! 쫀득치즈볼\n",
      "가격을 입력해주세요! 3500\n"
     ]
    },
    {
     "name": "stdout",
     "output_type": "stream",
     "text": [
      "{'참치김밥': 3500, '치즈라면': 4500, '돈가스': 6000, '쫀득치즈볼': 3500}\n"
     ]
    }
   ],
   "source": [
    "# 원하는 메뉴,가격을 입력받아서 메뉴판에 추가하기\n",
    "want_menu = input('메뉴를 추가할게요!')\n",
    "want_price = int(input('가격을 입력해주세요!'))\n",
    "menu[want_menu] = want_price \n",
    "print(menu)"
   ]
  },
  {
   "cell_type": "code",
   "execution_count": 28,
   "id": "466934f1-1b36-4f53-b49a-2111d2dd0414",
   "metadata": {},
   "outputs": [
    {
     "name": "stdout",
     "output_type": "stream",
     "text": [
      "{'참치김밥': 3500, '치즈라면': 4500, '쫀득치즈볼': 3500}\n"
     ]
    }
   ],
   "source": [
    "# 키-값을 삭제하기 del\n",
    "del menu['돈가스']\n",
    "print(menu)"
   ]
  },
  {
   "cell_type": "code",
   "execution_count": 10,
   "id": "804574f7-ba8f-455f-b698-5d6976ac64d3",
   "metadata": {},
   "outputs": [
    {
     "name": "stdin",
     "output_type": "stream",
     "text": [
      "어떤 메뉴를 삭제할까요?? 김밥\n"
     ]
    },
    {
     "name": "stdout",
     "output_type": "stream",
     "text": [
      "{'참치김밥': 3500, '치즈라면': 4500, '돈가스': 6000, '쫀득치즈볼': '3500'}\n"
     ]
    }
   ],
   "source": [
    "# 입력 받아서 삭제하기\n",
    "del_menu = input('어떤 메뉴를 삭제할까요??')\n",
    "del menu[del_menu]\n",
    "print(menu)"
   ]
  },
  {
   "cell_type": "code",
   "execution_count": 11,
   "id": "bae2a270-0ef0-4263-804e-c3c91ec68cf9",
   "metadata": {},
   "outputs": [
    {
     "name": "stdout",
     "output_type": "stream",
     "text": [
      "dict_keys(['참치김밥', '치즈라면', '돈가스', '쫀득치즈볼'])\n"
     ]
    }
   ],
   "source": [
    "# 딕셔너리의 키만 꺼내기 : keys()\n",
    "print(menu.keys())"
   ]
  },
  {
   "cell_type": "code",
   "execution_count": 12,
   "id": "84392ed7-d9fc-44ea-aa87-3c02d2b9e2b0",
   "metadata": {},
   "outputs": [
    {
     "name": "stdout",
     "output_type": "stream",
     "text": [
      "dict_values([3500, 4500, 6000, '3500'])\n"
     ]
    }
   ],
   "source": [
    "# 딕셔너리의 값만 꺼내기 : values()\n",
    "print(menu.values())"
   ]
  },
  {
   "cell_type": "code",
   "execution_count": 13,
   "id": "7300a54b-cdc7-44d1-99c4-7a0da6c4e338",
   "metadata": {},
   "outputs": [
    {
     "name": "stdout",
     "output_type": "stream",
     "text": [
      "['참치김밥', '치즈라면', '돈가스', '쫀득치즈볼']\n"
     ]
    }
   ],
   "source": [
    "# 추출한 키 값을 결괏값을 리스트로 바꾸기\n",
    "print(list(menu.keys()))"
   ]
  },
  {
   "cell_type": "code",
   "execution_count": 14,
   "id": "02882ad7-df9f-4811-ab9c-e81181423529",
   "metadata": {},
   "outputs": [
    {
     "name": "stdout",
     "output_type": "stream",
     "text": [
      "dict_items([('참치김밥', 3500), ('치즈라면', 4500), ('돈가스', 6000), ('쫀득치즈볼', '3500')])\n"
     ]
    }
   ],
   "source": [
    "# key + values = items\n",
    "\n",
    "print(menu.items())"
   ]
  },
  {
   "cell_type": "code",
   "execution_count": 15,
   "id": "da9d11d1-eb1f-4c41-8397-84ab8868fb8c",
   "metadata": {},
   "outputs": [
    {
     "name": "stdout",
     "output_type": "stream",
     "text": [
      "['치즈라면', '참치김밥', '쫀득치즈볼', '돈가스']\n",
      "[('돈가스', 6000), ('쫀득치즈볼', '3500'), ('참치김밥', 3500), ('치즈라면', 4500)]\n"
     ]
    }
   ],
   "source": [
    "# 키를 기준으로 딕셔너리 정렬하기 : sorted()\n",
    "# 키를 기준으로 딕셔너리 역순 정렬하기 : reverse = True\n",
    "# 키-값 쌍을 묶어서 딕셔너리 정렬하기 : sorted() items\n",
    "print(sorted(menu.keys(), reverse = True))\n",
    "print(sorted(menu.items()))"
   ]
  },
  {
   "cell_type": "code",
   "execution_count": 29,
   "id": "a5688637-64a8-49a4-977d-e98ee6acf882",
   "metadata": {},
   "outputs": [
    {
     "name": "stdout",
     "output_type": "stream",
     "text": [
      "[('치즈라면', 4500), ('참치김밥', 3500), ('쫀득치즈볼', 3500)]\n"
     ]
    }
   ],
   "source": [
    "# 값을 기준으로 키-값 쌍 정렬하기 : sorted()\n",
    "import operator\n",
    "\n",
    "print(sorted(menu.items(), key = operator.itemgetter(1), reverse = True))"
   ]
  },
  {
   "cell_type": "markdown",
   "id": "c870b0a3-054a-4bc2-b533-19612f75149d",
   "metadata": {},
   "source": [
    "# 조건문으로 딕셔너리 다루기"
   ]
  },
  {
   "cell_type": "code",
   "execution_count": 21,
   "id": "730946a5-ee30-4d03-a75f-8c355e19fd0a",
   "metadata": {},
   "outputs": [
    {
     "name": "stdout",
     "output_type": "stream",
     "text": [
      "{'도윤': 43, '하윤': 82, '시우': 76, '지유': 61, '주원': 94}\n"
     ]
    },
    {
     "name": "stdin",
     "output_type": "stream",
     "text": [
      "어떤 학생의 점수가 궁금하신가요? 시우\n"
     ]
    },
    {
     "name": "stdout",
     "output_type": "stream",
     "text": [
      "76 입니다.\n"
     ]
    }
   ],
   "source": [
    "midterm = {'도윤':43,'하윤':82,'시우':76,'지유':61,'주원':94}\n",
    "print(midterm)\n",
    "student_score = input('어떤 학생의 점수가 궁금하신가요?')\n",
    "\n",
    "# if 어떤학생인지 찾기\n",
    "if student_score in midterm.keys():\n",
    "    print(midterm[student_score],'입니다.')\n",
    "else:\n",
    "    print('해당 학생은 없습니다.')"
   ]
  },
  {
   "cell_type": "code",
   "execution_count": 22,
   "id": "8aa580e1-e6cb-48e6-ace5-8798fe52f74a",
   "metadata": {},
   "outputs": [
    {
     "name": "stdout",
     "output_type": "stream",
     "text": [
      "하윤 82\n",
      "시우 76\n",
      "주원 94\n"
     ]
    }
   ],
   "source": [
    "for k,v in midterm.items():\n",
    "    if v >= 70 :\n",
    "        print(k,v)"
   ]
  },
  {
   "cell_type": "code",
   "execution_count": null,
   "id": "7366b820-96f1-4f6c-9947-7baa2578a7b0",
   "metadata": {},
   "outputs": [],
   "source": []
  }
 ],
 "metadata": {
  "kernelspec": {
   "display_name": "Python 3 (ipykernel)",
   "language": "python",
   "name": "python3"
  },
  "language_info": {
   "codemirror_mode": {
    "name": "ipython",
    "version": 3
   },
   "file_extension": ".py",
   "mimetype": "text/x-python",
   "name": "python",
   "nbconvert_exporter": "python",
   "pygments_lexer": "ipython3",
   "version": "3.11.7"
  }
 },
 "nbformat": 4,
 "nbformat_minor": 5
}
