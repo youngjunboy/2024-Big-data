{
 "cells": [
  {
   "cell_type": "markdown",
   "id": "ed727063-f463-4d1d-9cae-dbad61210fee",
   "metadata": {},
   "source": [
    "# 30917_홍영준_0411_6"
   ]
  },
  {
   "cell_type": "code",
   "execution_count": 15,
   "id": "fbfc9880-c69c-4ddf-87bf-1c8b57bc76b3",
   "metadata": {},
   "outputs": [
    {
     "name": "stdin",
     "output_type": "stream",
     "text": [
      "점수 :  61\n"
     ]
    },
    {
     "name": "stdout",
     "output_type": "stream",
     "text": [
      "B등급\n"
     ]
    }
   ],
   "source": [
    "# 등급을 구분하는 프로그램\n",
    "# 80점 이상이면 A등급 40점 이상이면 B등급 나머지 C등급 출력\n",
    "# 0 ~ 100 사이 이외의 숫자는 \"잘못된 숫자를 입력했습니다.\"\n",
    "\n",
    "score =  int(input(\"점수 : \"))\n",
    "\n",
    "if score >= 80 and score <= 100:\n",
    "    print(\"A등급\")\n",
    "elif score >= 40 and score < 80:\n",
    "    print(\"B등급\")\n",
    "elif score < 40 and score > 0:\n",
    "    print(\"C등급\")\n",
    "else:\n",
    "    print(\"잘못된 숫자를 입력했습니다.\")"
   ]
  },
  {
   "cell_type": "markdown",
   "id": "e0b757bb-7011-4ec8-a8e1-bc15ab6ac723",
   "metadata": {},
   "source": [
    "# 5.1 범위 내에서 반복하기 : for\n",
    "# 5.1.1 반복문이란"
   ]
  },
  {
   "cell_type": "code",
   "execution_count": 17,
   "id": "a7076cae-2eb8-4661-bb6c-e6586b6092ec",
   "metadata": {},
   "outputs": [
    {
     "name": "stdout",
     "output_type": "stream",
     "text": [
      "안녕하세요.\n",
      "안녕하세요.\n",
      "안녕하세요.\n",
      "안녕하세요.\n",
      "안녕하세요.\n"
     ]
    }
   ],
   "source": [
    "for i in [1,2,3,4,5] :\n",
    "    print(\"안녕하세요.\")"
   ]
  },
  {
   "cell_type": "code",
   "execution_count": 19,
   "id": "fadc421b-904c-4bfc-b81a-ada6b52fa640",
   "metadata": {},
   "outputs": [
    {
     "name": "stdout",
     "output_type": "stream",
     "text": [
      "1\n",
      "3\n",
      "6\n",
      "10\n",
      "15\n",
      "21\n",
      "28\n",
      "36\n",
      "45\n",
      "55\n",
      "66\n",
      "78\n",
      "91\n",
      "105\n",
      "120\n",
      "136\n",
      "153\n",
      "171\n",
      "190\n",
      "210\n",
      "231\n",
      "253\n",
      "276\n",
      "300\n",
      "325\n",
      "351\n",
      "378\n",
      "406\n",
      "435\n",
      "465\n",
      "496\n",
      "528\n",
      "561\n",
      "595\n",
      "630\n",
      "666\n",
      "703\n",
      "741\n",
      "780\n",
      "820\n",
      "861\n",
      "903\n",
      "946\n",
      "990\n",
      "1035\n",
      "1081\n",
      "1128\n",
      "1176\n",
      "1225\n",
      "1275\n"
     ]
    }
   ],
   "source": [
    "result = 0\n",
    "for i in range(1,51):\n",
    "    result += i\n",
    "    print(result)"
   ]
  }
 ],
 "metadata": {
  "kernelspec": {
   "display_name": "Python 3 (ipykernel)",
   "language": "python",
   "name": "python3"
  },
  "language_info": {
   "codemirror_mode": {
    "name": "ipython",
    "version": 3
   },
   "file_extension": ".py",
   "mimetype": "text/x-python",
   "name": "python",
   "nbconvert_exporter": "python",
   "pygments_lexer": "ipython3",
   "version": "3.11.7"
  }
 },
 "nbformat": 4,
 "nbformat_minor": 5
}
