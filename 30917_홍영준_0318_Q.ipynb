{
 "cells": [
  {
   "cell_type": "markdown",
   "id": "ab95378f-0914-44ab-b1d0-8edaf0f995d4",
   "metadata": {},
   "source": [
    "# 6035 : [기초-산술연산] 실수 2개 입력받아 곱 계산하기(설명)(py)\n",
    "실수 2개(f1, f2)를 입력받아 곱을 출력하는 프로그램을 작성해보자.\r\n",
    "\r\n",
    "예시\r\n",
    "...\r\n",
    "m = f1 * f2\r\n",
    "print(m)\r\n",
    "\r\n",
    "참고\r\n",
    "수 * 수는 곱(multiplication)이 계산된다.\r\n",
    " "
   ]
  },
  {
   "cell_type": "code",
   "execution_count": 5,
   "id": "7d050963-8f48-4f3c-ac42-0b99d15ba419",
   "metadata": {},
   "outputs": [
    {
     "name": "stdin",
     "output_type": "stream",
     "text": [
      " 4.8 9.2\n"
     ]
    },
    {
     "name": "stdout",
     "output_type": "stream",
     "text": [
      "44.16\n"
     ]
    }
   ],
   "source": [
    "a,b = input().split()\n",
    "a=float(a)\n",
    "b=float(b)\n",
    "n = a * b\n",
    "print(n)"
   ]
  },
  {
   "cell_type": "markdown",
   "id": "1d27564d-5bb4-4148-a6f9-da760b03f796",
   "metadata": {},
   "source": [
    "# 6036 : [기초-산술연산] 단어 여러 번 출력하기(설명)(py)\n",
    "단어와 반복 횟수를 입력받아 여러 번 출력해보자.\r\n",
    "\r\n",
    "예시\r\n",
    "w, n = input().split()\r\n",
    "print(w*int(n))\r\n",
    "\r\n",
    "참고\r\n",
    "문자열 * 정수 또는 정수 * 문자열은 그 문자열을 여러 번 반복한 문자열을 만들어 준다."
   ]
  },
  {
   "cell_type": "code",
   "execution_count": 11,
   "id": "75429038-1f53-4e23-84eb-62696abb449d",
   "metadata": {},
   "outputs": [
    {
     "name": "stdin",
     "output_type": "stream",
     "text": [
      " youngjun 9\n"
     ]
    },
    {
     "name": "stdout",
     "output_type": "stream",
     "text": [
      "youngjunyoungjunyoungjunyoungjunyoungjunyoungjunyoungjunyoungjunyoungjun\n"
     ]
    }
   ],
   "source": [
    "w, n = input().split()\n",
    "print(w*int(n))"
   ]
  },
  {
   "cell_type": "markdown",
   "id": "9b932912-6b59-4218-b339-013b6d9788e9",
   "metadata": {},
   "source": [
    "# 6037 : [기초-산술연산] 문장 여러 번 출력하기(설명)(py)\n",
    "반복 횟수와 문장을 입력받아 여러 번 출력해보자.\r\n",
    "\r\n",
    "예시\r\n",
    "n = input()\r\n",
    "s = input()\r\n",
    "print(int(n)*s)\r\n",
    "\r\n",
    "참고\r\n",
    "문자열 * 정수 또는 정수 * 문자열은 그 문자열을 여러 번 반복한 문자열을 만들어 준다."
   ]
  },
  {
   "cell_type": "code",
   "execution_count": 12,
   "id": "f6462835-f6e4-419f-a81c-ad976e4831a6",
   "metadata": {},
   "outputs": [
    {
     "name": "stdin",
     "output_type": "stream",
     "text": [
      " 4\n",
      " hong\n"
     ]
    },
    {
     "name": "stdout",
     "output_type": "stream",
     "text": [
      "honghonghonghong\n"
     ]
    }
   ],
   "source": [
    "a = int(input())\n",
    "b = input()\n",
    "print(a*b)"
   ]
  },
  {
   "cell_type": "markdown",
   "id": "5f675040-4d23-431e-ac54-3e0860f9d022",
   "metadata": {},
   "source": [
    "# 6038 : [기초-산술연산] 정수 2개 입력받아 거듭제곱 계산하기(설명)(py)\n",
    "정수 2개(a, b)를 입력받아\r\n",
    "a를 b번 곱한 거듭제곱을 출력하는 프로그램을 작성해보자.\r\n",
    "\r\n",
    "예시\r\n",
    "...\r\n",
    "c = a**b\r\n",
    "print(c)\r\n",
    "\r\n",
    "참고\r\n",
    "python 언어에서는 거듭제곱을 계산하는 연산자(**)를 제공한다.\r\n",
    "일반적으로 수학 식에서 거듭제곱을 표현하는 사용하는 서컴플렉스/케릿 기호(^)는 프로그래밍언어에서 다른 의미로 쓰인다."
   ]
  },
  {
   "cell_type": "code",
   "execution_count": 15,
   "id": "ad97eb3a-b286-4058-9e8c-73a6b0584b3d",
   "metadata": {},
   "outputs": [
    {
     "name": "stdin",
     "output_type": "stream",
     "text": [
      " 3 12\n"
     ]
    },
    {
     "name": "stdout",
     "output_type": "stream",
     "text": [
      "531441\n"
     ]
    }
   ],
   "source": [
    "a,b = input().split()\n",
    "a = int(a)\n",
    "b = int(b)\n",
    "print(a**b)"
   ]
  },
  {
   "cell_type": "markdown",
   "id": "d952f760-6062-42a7-98b0-72c85aa7632a",
   "metadata": {},
   "source": [
    "# 6039 : [기초-산술연산] 실수 2개 입력받아 거듭제곱 계산하기(py)\n",
    "실수 2개(f1, f2)를 입력받아\r\n",
    "f1을 f2번 거듭제곱한 값을 출력하는 프로그램을 작성해보자.\r\n",
    "\r\n",
    "참고\r\n",
    "python 언어에서는 거듭제곱(exponentiation)을 계산하는 연산자(**)를 제공한다.\r\n",
    "일반적으로 수학 식에서 거듭제곱을 표현하는 사용하는 서컴플렉스/케릿 기호(^)는 프로그래밍언어에서 다른 의미로 쓰인다.\r\n",
    " "
   ]
  },
  {
   "cell_type": "code",
   "execution_count": 17,
   "id": "5e11933f-2fdd-407e-a76f-b5ea80c9f089",
   "metadata": {},
   "outputs": [
    {
     "name": "stdin",
     "output_type": "stream",
     "text": [
      " 4.0 9.0\n"
     ]
    },
    {
     "name": "stdout",
     "output_type": "stream",
     "text": [
      "262144.0\n"
     ]
    }
   ],
   "source": [
    "a,b = input().split()\n",
    "a = float(a)\n",
    "b = float(b)\n",
    "print(a**b)"
   ]
  },
  {
   "cell_type": "markdown",
   "id": "5613555c-aaa1-4bb1-bb9b-519ec478fa3a",
   "metadata": {},
   "source": [
    "# 6040 : [기초-산술연산] 정수 2개 입력받아 나눈 몫 계산하기(설명)(py)\n",
    "정수 2개(a, b) 를 입력받아 a를 b로 나눈 몫을 출력해보자.\r\n",
    "\r\n",
    "예시\r\n",
    "...\r\n",
    "print(a//b)\r\n",
    "\r\n",
    "참고\r\n",
    "python언어에서는 나눈 몫을 계산하는 연산자(//, floor division)를 제공한다.\r\n",
    "a//b 와 같이 작성하면, a를 b로 나눈 몫(quotient)을 계산해준다.\r\n",
    "프로그래밍언어에 따라 이렇게 몫을 계산해주는 연산자가 없는 경우도 있다.\r\n",
    "\r\n",
    "실수로 나눈 몫이 어떻게 계산될지도 생각해보자."
   ]
  },
  {
   "cell_type": "code",
   "execution_count": 21,
   "id": "0cb09ae6-d062-4100-acf5-af1b8cd7cfeb",
   "metadata": {},
   "outputs": [
    {
     "name": "stdin",
     "output_type": "stream",
     "text": [
      " 10 3\n"
     ]
    },
    {
     "name": "stdout",
     "output_type": "stream",
     "text": [
      "3\n"
     ]
    }
   ],
   "source": [
    "a, b = input().split()\n",
    "a = int(a)\n",
    "b = int(b)\n",
    "print(a//b)"
   ]
  },
  {
   "cell_type": "markdown",
   "id": "3234c5c0-a5e7-4cbf-9ff5-6d0aa1d26522",
   "metadata": {},
   "source": [
    "# 6041 : [기초-산술연산] 정수 2개 입력받아 나눈 나머지 계산하기(설명)(py)\n",
    "정수 2개(a, b) 를 입력받아 a를 b로 나눈 나머지를 출력해보자.\r\n",
    "\r\n",
    "예시\r\n",
    "...\r\n",
    "print(a%b)\r\n",
    "\r\n",
    "참고\r\n",
    "python 언어에서는 나눈 나머지를 계산하는 연산자(%, remainder)를 제공한다.\r\n",
    "a%b 와 같이 작성하면, a를 b로 나눈 나머지(remainder)를 계산해준다.\r\n",
    "나머지 연산(modulus, mod 연산)은 수학자 가우스가 생각해 낸 연산으로,\r\n",
    "어떤 수를 다른 수로 나누고 난 후 남는 나머지를 계산하는 연산이다.\r\n",
    "\r\n",
    "실수로 나눈 나머지가 어떻게 계산될지도 생각해보자."
   ]
  },
  {
   "cell_type": "code",
   "execution_count": 23,
   "id": "8d52da15-2a55-4b80-976c-ff3cfe96826c",
   "metadata": {},
   "outputs": [
    {
     "name": "stdin",
     "output_type": "stream",
     "text": [
      " 40 7\n"
     ]
    },
    {
     "name": "stdout",
     "output_type": "stream",
     "text": [
      "5\n"
     ]
    }
   ],
   "source": [
    "a, b = input().split()\n",
    "a = int(a)\n",
    "b = int(b)\n",
    "print(a%b)"
   ]
  },
  {
   "cell_type": "markdown",
   "id": "1af1fd82-92b4-4659-b43a-772549f121fd",
   "metadata": {},
   "source": [
    "# 6042 : [기초-값변환] 실수 1개 입력받아 소숫점이하 자리 변환하기(설명)(py)\n",
    "실수 1개를 입력받아\r\n",
    "소숫점 이하 두 번째 자리까지의 정확도로 반올림한 값을 출력해보자.\r\n",
    "\r\n",
    "\r\n",
    "예시\r\n",
    "\r\n",
    "a=input()\r\n",
    "a=float(a)\r\n",
    "print( format(a, \".2f\") )\r\n",
    "\r\n",
    "\r\n",
    "참고\r\n",
    "format(수, \".2f\") 를 사용하면 원하는 자리까지의 정확도로 반올림 된 실수 값을 만들어 준다. \r\n",
    "\r\n",
    "여기서 만들어진 값은 소수점 아래 3번째 자리에서 반올림한 값이다.\r\n",
    "\r\n",
    "컴퓨터 프로그래밍에서 실수 변환이나 실수를 사용하는 계산은\r\n",
    "정확하게 변환되거나 계산되는 것이 아니라, 거의 모두 근사값으로 계산되는 것이라고 할 수 있다. \r\n",
    "\r\n",
    "실수가 컴퓨터로 저장되기 위해서는 디지털방식으로 2진 정수화되어 저장되어야 하는데,\r\n",
    "그 과정에서 아주 작은 부분이 저장되지 않고 사라지는 잘림(truncation) 오차가 자주 발생하기 때문이다."
   ]
  },
  {
   "cell_type": "code",
   "execution_count": 27,
   "id": "20701e26-fd0a-418c-84a4-5266f0118423",
   "metadata": {},
   "outputs": [
    {
     "name": "stdin",
     "output_type": "stream",
     "text": [
      " 16.3785\n"
     ]
    },
    {
     "name": "stdout",
     "output_type": "stream",
     "text": [
      "16.38\n"
     ]
    }
   ],
   "source": [
    "a = input()\n",
    "a = float(a)\n",
    "print(format(a, \".2f\"))"
   ]
  },
  {
   "cell_type": "markdown",
   "id": "39a7b4e6-0b3d-493a-8023-2f4bb212ac5e",
   "metadata": {},
   "source": [
    "# 6043 : [기초-산술연산] 실수 2개 입력받아 나눈 결과 계산하기(py)\n",
    "실수 2개(f1, f2)를 입력받아\r\n",
    "f1 을 f2 로 나눈 값을 출력해보자. 이 때 소숫점 넷째자리에서 반올림하여 무조건 소숫점 셋째 자리까지 출력한다.\r\n",
    "\r\n",
    "\r\n",
    "참고\r\n",
    "python 언어에는 나눗셈(division)을 계산하는 연산자(/)가 있다.\r\n",
    "\r\n",
    "컴퓨터 프로그래밍에서 실수 변환이나 실수를 사용하는 계산은 \r\n",
    "정확하게 변환되거나 계산되는 것이 아니라, 거의 모두 근사값으로 계산되는 것이라고 할 수 있다.  \r\n",
    "\r\n",
    "실수가 컴퓨터로 저장되기 위해서는 디지털방식으로 2진 정수화되어 저장되어야 하는데, \r\n",
    "그 과정에서 아주 작은 부분이 저장되지 않고 사라지는 잘림(truncation) 오차가 자주 발생하기 때문이다.\r\n",
    "\r\n",
    "계산 결과값 중에서 믿을 수 있는 숫자의 개수를 의미하는, 유효숫자에 대해 찾아보자. \r\n",
    "과학실험에서 온도나 부피를 측정할 때에도 유효숫자는 중요하다. "
   ]
  },
  {
   "cell_type": "code",
   "execution_count": 28,
   "id": "1c1ce3ae-dec4-4948-9e6d-f61f61ab907b",
   "metadata": {},
   "outputs": [
    {
     "name": "stdin",
     "output_type": "stream",
     "text": [
      " 17.0 3.0\n"
     ]
    },
    {
     "name": "stdout",
     "output_type": "stream",
     "text": [
      "5.667\n"
     ]
    }
   ],
   "source": [
    "a, b = input().split()\n",
    "a = float(a)\n",
    "b = float(b)\n",
    "print(format(a/b, \".3f\"))"
   ]
  },
  {
   "cell_type": "markdown",
   "id": "5884bfa9-5f8f-4021-ae80-f6dc2cc1731e",
   "metadata": {},
   "source": [
    "# 6044 : [기초-산술연산] 정수 2개 입력받아 자동 계산하기(py)\n",
    "정수 2개(a, b)를 입력받아 합, 차, 곱, 몫, 나머지, 나눈 값을 자동으로 계산해보자.\r\n",
    "단, b는 0이 아니다."
   ]
  },
  {
   "cell_type": "code",
   "execution_count": 37,
   "id": "3e546cbf-2de8-4755-8bfc-2b3577d25043",
   "metadata": {},
   "outputs": [
    {
     "name": "stdin",
     "output_type": "stream",
     "text": [
      " 5 14\n"
     ]
    },
    {
     "name": "stdout",
     "output_type": "stream",
     "text": [
      "19\n",
      "-9\n",
      "70\n",
      "0\n",
      "5\n",
      "0.36\n"
     ]
    }
   ],
   "source": [
    "a, b = input().split()\n",
    "a = int(a)\n",
    "b = int(b)\n",
    "print(a+b)\n",
    "print(a-b)\n",
    "print(a*b)\n",
    "print(a//b)\n",
    "print(a%b)\n",
    "print(format(a/b, \".2f\"))"
   ]
  },
  {
   "cell_type": "markdown",
   "id": "4ac0a6bc-ab83-4d0f-a42d-6c9ec27aca21",
   "metadata": {},
   "source": [
    "# 6045 : [기초-산술연산] 정수 3개 입력받아 합과 평균 출력하기(설명)(py)\n",
    "정수 3개를 입력받아 합과 평균을 출력해보자.\r\n",
    "\r\n",
    "참고\r\n",
    "공백으로 구분된 한 줄로 값들을 입력받기 위해서는\r\n",
    "a, b, c = input().split()\r\n",
    "과 같은 방법이 가능하고,\r\n",
    "\r\n",
    "공백으로 구분해 두 값을 출력하기 위해서는\r\n",
    "print(d, e)\r\n",
    "와 같은 방법이 가능하다.\r\n",
    "\r\n",
    "잘라낸 값들은 그 값의 특성(정수, 실수, 문자, 문자열 ...)에 따라 명확하게 변환시킨 후 사용하는 것이 좋다.\r\n",
    "\r\n",
    "python 프로그래밍을 처음 배울 때 좋은 습관(단계)\r\n",
    "1. 입력된 문자열을 정확하게 잘라낸다.(공백, 줄바꿈, 구분문자 등에 따라 정확하게 잘라낸다.)\r\n",
    "2. 잘라낸 데이터들을 데이터형에 맞게 변환해 변수에 저장한다. (정수, 실수, 문자, 문자열 등에 따라 정확하게 변환한다.)\r\n",
    "3. 값을 저장했다가 다시 사용하기 위해, 변수를 이용해 값을 저장하고, 변수를 이용해 계산을 한다.\r\n",
    "4. 원하는 결과 값을 필요한 형태로 만들어 출력한다.(공백, 줄바꿈, 구분자, 등에 따라 원하는 형태로 만들어 출력한다.)"
   ]
  },
  {
   "cell_type": "code",
   "execution_count": 44,
   "id": "15221a4d-df9e-48c9-9f06-1531545bff2a",
   "metadata": {},
   "outputs": [
    {
     "name": "stdin",
     "output_type": "stream",
     "text": [
      " 4 6 9\n"
     ]
    },
    {
     "name": "stdout",
     "output_type": "stream",
     "text": [
      "19 6.33\n"
     ]
    }
   ],
   "source": [
    "a, b, c = input().split()\n",
    "a = int(a)\n",
    "b = int(b)\n",
    "c = int(c)\n",
    "n = a + b + c\n",
    "print(a+b+c, format(n/3, \".2f\"))"
   ]
  },
  {
   "cell_type": "code",
   "execution_count": null,
   "id": "7c3e4e5e-0111-4c97-b866-c91a0c491a60",
   "metadata": {},
   "outputs": [],
   "source": []
  }
 ],
 "metadata": {
  "kernelspec": {
   "display_name": "Python 3 (ipykernel)",
   "language": "python",
   "name": "python3"
  },
  "language_info": {
   "codemirror_mode": {
    "name": "ipython",
    "version": 3
   },
   "file_extension": ".py",
   "mimetype": "text/x-python",
   "name": "python",
   "nbconvert_exporter": "python",
   "pygments_lexer": "ipython3",
   "version": "3.11.7"
  }
 },
 "nbformat": 4,
 "nbformat_minor": 5
}
