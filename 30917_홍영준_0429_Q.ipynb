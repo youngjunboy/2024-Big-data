{
 "cells": [
  {
   "cell_type": "markdown",
   "id": "d8075947-32d5-47c6-a844-d62cbb3a52ca",
   "metadata": {},
   "source": [
    "# 30917_0429_Q"
   ]
  },
  {
   "cell_type": "markdown",
   "id": "93b632ce-71e9-4fcb-a7f7-b029bab865d0",
   "metadata": {},
   "source": [
    "# 6087 : [기초-종합] 3의 배수는 통과(설명)(py)\n",
    "\n",
    "1부터 입력한 정수까지 1씩 증가시켜 출력하는 프로그램을 작성하되,\r\n",
    "3의 배수인 경우는 출력하지 않도록 만들어보자.\r\n",
    "\r\n",
    "예를 들면,\r\n",
    "1 2 4 5 7 8 10 11 13 14 ...\r\n",
    "와 같이 출력하는 것이다.\r\n",
    "\r\n",
    "예시\r\n",
    "...\r\n",
    "for i in range(1, n+1) :\r\n",
    "  if i%2==0 :\r\n",
    "    continue            #다음 반복 단계로 넘어간다.\r\n",
    "  print(i, end=' ')    #i가 짝수가 아닐 때만 실행된다.\r\n",
    "...\r\n",
    "위 코드는 홀 수만 출력하는 예시이다.\r\n",
    "\r\n",
    "참고\r\n",
    "조건문이나 반복문의 코드블록 안에서 continue 가 실행되면,\r\n",
    "반복 블록 안에 있는 나머지 부분을 실행하지 않고, 다음 반복 단계로 넘어간다.\r\n",
    "즉, 반복 블록의 나머지 부분은 실행되지 않고, 다음 단계의 반복을 계속(continue)하는 것이다.\r\n"
   ]
  },
  {
   "cell_type": "code",
   "execution_count": 5,
   "id": "96c5436b-818b-43a6-8802-4dd86bdde8b5",
   "metadata": {},
   "outputs": [
    {
     "name": "stdin",
     "output_type": "stream",
     "text": [
      " 10\n"
     ]
    },
    {
     "name": "stdout",
     "output_type": "stream",
     "text": [
      "1 2 4 5 7 8 10 "
     ]
    }
   ],
   "source": [
    "n = int(input())\n",
    "for i in range(1, n+1) :\n",
    "    if i%3 != 0:\n",
    "        print(i, end=' ')"
   ]
  },
  {
   "cell_type": "markdown",
   "id": "28bcfa7c-9edc-4753-97eb-6ad821b4b255",
   "metadata": {},
   "source": [
    "# 6088 : [기초-종합] 수 나열하기1(py)\n",
    "어떤 규칙에 따라 수를 순서대로 나열한 것을 수열(sequences)이라고 한다.\r\n",
    "\r\n",
    "예를 들어\r\n",
    "1 4 7 10 13 16 19 22 25 ... 은\r\n",
    "1부터 시작해 이전에 만든 수에 3을 더해 다음 수를 만든 수열이다.\r\n",
    "이러한 것을 수학에서는 앞뒤 수들의 차이가 같다고 하여\r\n",
    "\r\n",
    "등차(차이가 같다의 한문 말) 수열이라고 한다. (등차수열 : arithmetic progression/sequence)\r\n",
    "수열을 알게 된 영일이는 갑자기 궁금해졌다.\r\n",
    "\r\n",
    "\"그럼.... 123번째 나오는 수는 뭘까?\"\r\n",
    "\r\n",
    "영일이는 프로그램을 만들어 더 큰 수도 자동으로 계산하고 싶어졌다.\r\n",
    "\r\n",
    "시작 값(a), 등차(d), 몇 번째인지를 나타내는 정수(n)가 입력될 때\r\n",
    "n번째 수를 출력하는 프로그램을 만들어보자."
   ]
  },
  {
   "cell_type": "code",
   "execution_count": 21,
   "id": "dece864c-15fe-4afd-899c-b0aab206d996",
   "metadata": {},
   "outputs": [
    {
     "name": "stdin",
     "output_type": "stream",
     "text": [
      " 1 3 5\n"
     ]
    },
    {
     "name": "stdout",
     "output_type": "stream",
     "text": [
      "13\n"
     ]
    }
   ],
   "source": [
    "s,x,o = map(int,input().split())\n",
    "m = s+x\n",
    "for i in range(o-2):\n",
    "    m += x\n",
    "    \n",
    "print(m)"
   ]
  },
  {
   "cell_type": "markdown",
   "id": "4a8a57be-4f94-43f8-ac67-81efd04bc2f4",
   "metadata": {},
   "source": [
    "# 6089 : [기초-종합] 수 나열하기2(py)\n",
    "어떤 규칙에 따라 수를 순서대로 나열한 것을 수열(sequences)이라고 한다.\r\n",
    "\r\n",
    "예를 들어\r\n",
    "2 6 18 54 162 486 ... 은\r\n",
    "2부터 시작해 이전에 만든 수에 3을 곱해 다음 수를 만든 수열이다.\r\n",
    "\r\n",
    "이러한 것을 수학에서는 앞뒤 수들의 비율이 같다고 하여\r\n",
    "등비(비율이 같다의 한문 말) 수열이라고 한다. (등비수열 : geometric progression/sequence)\r\n",
    "\r\n",
    "등비 수열을 알게된 영일이는 갑자기 궁금해졌다.\r\n",
    "\"그럼.... 13번째 나오는 수는 뭘까?\"\r\n",
    "영일이는 프로그램을 만들어 더 큰 수도 자동으로 계산하고 싶어졌다.\r\n",
    "\r\n",
    "시작 값(a), 등비(r), 몇 번째인지를 나타내는 정수(n)가 입력될 때\r\n",
    "n번째 수를 출력하는 프로그램을 만들어보자."
   ]
  },
  {
   "cell_type": "code",
   "execution_count": 24,
   "id": "f3020dff-263a-4bcf-81f1-60b7a693b637",
   "metadata": {},
   "outputs": [
    {
     "name": "stdin",
     "output_type": "stream",
     "text": [
      " 2 3 7\n"
     ]
    },
    {
     "name": "stdout",
     "output_type": "stream",
     "text": [
      "1458\n"
     ]
    }
   ],
   "source": [
    "s,x,o = map(int,input().split())\n",
    "for i in range(o-1):\n",
    "    s = s * x\n",
    "    \n",
    "print(s)"
   ]
  }
 ],
 "metadata": {
  "kernelspec": {
   "display_name": "Python 3 (ipykernel)",
   "language": "python",
   "name": "python3"
  },
  "language_info": {
   "codemirror_mode": {
    "name": "ipython",
    "version": 3
   },
   "file_extension": ".py",
   "mimetype": "text/x-python",
   "name": "python",
   "nbconvert_exporter": "python",
   "pygments_lexer": "ipython3",
   "version": "3.11.7"
  }
 },
 "nbformat": 4,
 "nbformat_minor": 5
}
