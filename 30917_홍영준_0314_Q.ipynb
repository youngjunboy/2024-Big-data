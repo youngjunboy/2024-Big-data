{
 "cells": [
  {
   "cell_type": "markdown",
   "id": "e022e6dd-8e71-4284-90af-9f17348667d4",
   "metadata": {},
   "source": [
    "# 6026 : [기초-값변환] 실수 2개 입력받아 합 계산하기(설명)(py)\n",
    "실수 2개를 입력받아\r\n",
    "합을 출력하는 프로그램을 작성해보자.\r\n",
    "\r\n",
    "참고\r\n",
    "입력되는 값은 기본적으로 문자열로 인식된다.\r\n",
    "\r\n",
    "숫자로 구성된 문자열이나 정수를 실수(real number) 값으로 바꾸기 위해서는 float( ) 를 사용할 수 있다.\r\n",
    "소숫점(.)은 그 위치가 정해져있지 않고 이리저리 둥둥 떠다니므로, floating point라고 부른다.\r\n"
   ]
  },
  {
   "cell_type": "code",
   "execution_count": 1,
   "id": "1e78db68-224d-4e2c-accc-787b522d4c01",
   "metadata": {},
   "outputs": [
    {
     "name": "stdin",
     "output_type": "stream",
     "text": [
      " 0.4\n",
      " 0.9\n"
     ]
    },
    {
     "name": "stdout",
     "output_type": "stream",
     "text": [
      "1.3\n"
     ]
    }
   ],
   "source": [
    "a = input()\n",
    "b = input()\n",
    "c = float(a) + float(b)\n",
    "print(c)"
   ]
  },
  {
   "cell_type": "markdown",
   "id": "fb6ded62-0c5e-4438-868d-238523bee687",
   "metadata": {},
   "source": [
    "# 6027 : [기초-출력변환] 10진 정수 입력받아 16진수로 출력하기1(설명)(py)\n",
    "10진수를 입력받아 16진수(hexadecimal)로 출력해보자.\r\n",
    "\r\n",
    "예시\r\n",
    "a = input()\r\n",
    "n = int(a)            #입력된 a를 10진수 값으로 변환해 변수 n에 저장\r\n",
    "print('%x'% n)  #n에 저장되어있는 값을 16진수(hexadecimal) 소문자 형태 문자열로 출력\r\n",
    "\r\n",
    "참고\r\n",
    "10진수 형태로 입력받고\r\n",
    "%x로 출력하면 16진수(hexadecimal) 소문자로 출력된다.\r\n",
    "(%o로 출력하면 8진수(octal) 문자열로 출력된다.)\r\n",
    "\r\n",
    "10진법은 한 자리에 10개(0 1 2 3 4 5 6 7 8 9)의 문자를 사용하고,\r\n",
    "16진법은 영문 소문자를 사용하는 경우에 한 자리에 16개(0 1 2 3 4 5 6 7 8 9 a b c d e f)의 문자를 사용한다.\r\n",
    "16진수 a는 10진수의 10, b는 11, c는 12 ... 와 같다."
   ]
  },
  {
   "cell_type": "code",
   "execution_count": 2,
   "id": "2e38ecb4-f9c3-48c0-a302-f83bccb3cf7d",
   "metadata": {},
   "outputs": [
    {
     "name": "stdin",
     "output_type": "stream",
     "text": [
      " 268\n"
     ]
    },
    {
     "name": "stdout",
     "output_type": "stream",
     "text": [
      "10c\n"
     ]
    }
   ],
   "source": [
    "a = input()\n",
    "n = int(a)\n",
    "print('%x'% n)"
   ]
  },
  {
   "cell_type": "markdown",
   "id": "10fa4b67-55b4-43f9-8677-69982cdf55fb",
   "metadata": {},
   "source": [
    "# 6028 : [기초-출력변환] 10진 정수 입력받아 16진수로 출력하기2(설명)(py)\n",
    "10진수를 입력받아 16진수(hexadecimal)로 출력해보자.\r\n",
    "\r\n",
    "예시\r\n",
    "print('%X' % n)  #n에 저장되어있는 값을 16진수 대문자 형태 문자열로 출력\r\n",
    "\r\n",
    "참고\r\n",
    "10진수 형태로 입력받고\r\n",
    "%X로 출력하면 16진수(hexadecimal)대문자로 출력된다.\r\n",
    "\r\n",
    "16진법은 영문 소문자를 사용하는 경우에 한 자리에 16개(0 1 2 3 4 5 6 7 8 9 A B C D E F)의 문자를 사용한다.\r\n",
    "16진수 A는 10진수의 10, B는 11, C는 12 ... 와 같다."
   ]
  },
  {
   "cell_type": "code",
   "execution_count": 3,
   "id": "2856223f-ca8f-4272-bf33-4bc1204d3f6c",
   "metadata": {},
   "outputs": [
    {
     "name": "stdin",
     "output_type": "stream",
     "text": [
      " 698\n"
     ]
    },
    {
     "name": "stdout",
     "output_type": "stream",
     "text": [
      "2BA\n"
     ]
    }
   ],
   "source": [
    "a = input()\n",
    "n = int(a)\n",
    "print('%X'% n)"
   ]
  },
  {
   "cell_type": "markdown",
   "id": "9754c89a-5db8-40d2-82e4-aa942af1dc65",
   "metadata": {},
   "source": [
    "# 6029 : [기초-값변환] 16진 정수 입력받아 8진수로 출력하기(설명)(py)\n",
    "16진수를 입력받아 8진수(octal)로 출력해보자.\r\n",
    "\r\n",
    "예시\r\n",
    "a = input()\r\n",
    "n = int(a, 16)      #입력된 a를 16진수로 인식해 변수 n에 저장\r\n",
    "print('%o' % n)  #n에 저장되어있는 값을 8진수(octal) 형태 문자열로 출력\r\n",
    "\r\n",
    "참고\r\n",
    "8진법은 한 자리에 8개(0 1 2 3 4 5 6 7)의 문자를 사용한다.\r\n",
    "8진수 10은 10진수의 8, 11은 9, 12는 10 ... 와 같다."
   ]
  },
  {
   "cell_type": "code",
   "execution_count": 4,
   "id": "c3d6f3fd-5770-45f3-8fba-0b173104bf8a",
   "metadata": {},
   "outputs": [
    {
     "name": "stdin",
     "output_type": "stream",
     "text": [
      " 457\n"
     ]
    },
    {
     "name": "stdout",
     "output_type": "stream",
     "text": [
      "2127\n"
     ]
    }
   ],
   "source": [
    "a = input()\n",
    "n = int(a, 16)\n",
    "print('%o'% n)"
   ]
  },
  {
   "cell_type": "markdown",
   "id": "a347a7d6-6fff-492f-a721-0e68518b15ba",
   "metadata": {},
   "source": [
    "# 6030 : [기초-값변환] 영문자 1개 입력받아 10진수로 변환하기(설명)(py)\n",
    "영문자 1개를 입력받아 10진수 유니코드(Unicode) 값으로 출력해보자.\r\n",
    "\r\n",
    "예시\r\n",
    "n = ord(input())\r\n",
    "print(n)\r\n",
    "\r\n",
    "참고\r\n",
    "n = ord(input())  #입력받은 문자를 10진수 유니코드 값으로 변환한 후, n에 저장한다.\r\n",
    "\r\n",
    "ord( ) 는 어떤 문자의 순서 위치(ordinal position) 값을 의미한다.  \r\n",
    "실제로 각각의 문자들에는 연속된 정수 값이 순서에 따라 부여 되어 있다. A:65, B:66, C:67 .... \r\n",
    "ord(c) : 문자 c 를 10진수로 변환한 값 \r\n",
    "\r\n",
    "컴퓨터로 저장되고 처리되는 모든 데이터들은 2진수 형태로 정수화 되어야 하는데,\r\n",
    "컴퓨터에 문자를 저장하는 방법으로 아스키코드(ASCII Code)나 유니코드(Unicode)가 자주 사용된다.\r\n",
    "\r\n",
    "예를 들어, 영문 대문자 'A'는 10진수 값 65 로 표현하고, \r\n",
    "2진수(binary digit) 값 1000001 로 바꾸어 컴퓨터 내부에 저장한다. \r\n",
    "\r\n",
    "유니코드(unicode)는 세계 여러 나라의 문자를 공통된 코드 값으로 저장할 때 사용하는 표준 코드이다."
   ]
  },
  {
   "cell_type": "code",
   "execution_count": 6,
   "id": "58df82b6-1d1d-4cad-811a-e095b0803c55",
   "metadata": {},
   "outputs": [
    {
     "name": "stdin",
     "output_type": "stream",
     "text": [
      " 8\n"
     ]
    },
    {
     "name": "stdout",
     "output_type": "stream",
     "text": [
      "56\n"
     ]
    }
   ],
   "source": [
    "n = ord(input())\n",
    "print(n)"
   ]
  },
  {
   "cell_type": "markdown",
   "id": "c5d247a2-8b8f-49c5-bb28-23c3fb74dac9",
   "metadata": {},
   "source": [
    "# 6031 : [기초-값변환] 정수 입력받아 유니코드 문자로 변환하기(설명)(py)\n",
    "10진 정수 1개를 입력받아\r\n",
    "유니코드 문자로 출력해보자.\r\n",
    "\r\n",
    "\r\n",
    "예시\r\n",
    "c = int(input())\r\n",
    "print(chr(c))  #c에 저장되어 있는 정수 값을 유니코드 문자(chracter)로 바꿔 출력한다. \r\n",
    "\r\n",
    "\r\n",
    "참고\r\n",
    "입력은 기본적으로 모두 문자열로 입력되는 것이라고 할 수 있다. \r\n",
    "따라서, 입력 값이 문자/문자열/정수/실수인지에 따라서 먼저 정확하게 변환시킨 다음에 사용하거나 계산하는 것이 좋다.\r\n",
    "\r\n",
    "예를 들어 123 이 입력 되었다고 한다면, 이건 정수일까? 문자열일까?\r\n",
    "조금 생각해보면, 입력된 것만 보고는 그 값이 어떤 데이터인지 알 수 없다는 것을 쉽게 이해할 수 있다.\r\n",
    "따라서, 그 입력 값을 어떻게 해석하고 변환할 지에 대해서 명확하게 작성해 주어야 하는 것이다. \r\n",
    "\r\n",
    "chr( )는 정수값->문자, ord( )는 문자->정수값 형태로 바꿔주는 서로 반대 방향으로 바꾸어 주는 기능을 한다."
   ]
  },
  {
   "cell_type": "code",
   "execution_count": 7,
   "id": "4db9b8d5-66f9-43c0-bcf0-8b98162a6439",
   "metadata": {},
   "outputs": [
    {
     "name": "stdin",
     "output_type": "stream",
     "text": [
      " 8\n"
     ]
    },
    {
     "name": "stdout",
     "output_type": "stream",
     "text": [
      "\b\n"
     ]
    }
   ],
   "source": [
    "c = int(input())\n",
    "print(chr(c))"
   ]
  },
  {
   "cell_type": "markdown",
   "id": "7c6aa17b-9bac-49d7-8950-f5099d8bbc15",
   "metadata": {},
   "source": [
    "# 6032 : [기초-산술연산] 정수 1개 입력받아 부호 바꾸기(설명)(py)\n",
    "입력된 정수의 부호를 바꿔 출력해보자.\r\n",
    "\r\n",
    "\r\n",
    "예시 \r\n",
    "... \r\n",
    "print(-n) \r\n",
    "\r\n",
    "참고 \r\n",
    "단항(unary) 연산자인 -(negative)를 변수 앞에 붙이면 부호가 반대인 값이 된다. \r\n"
   ]
  },
  {
   "cell_type": "code",
   "execution_count": 8,
   "id": "2bbe5696-c537-4e67-8366-ab062e4a7ba5",
   "metadata": {},
   "outputs": [
    {
     "name": "stdin",
     "output_type": "stream",
     "text": [
      " -7\n"
     ]
    },
    {
     "name": "stdout",
     "output_type": "stream",
     "text": [
      "7\n"
     ]
    }
   ],
   "source": [
    "a = input()\n",
    "n = int(a)\n",
    "print(-n)"
   ]
  },
  {
   "cell_type": "markdown",
   "id": "14b84d2d-3b60-4784-92d7-00cf12bd2f2a",
   "metadata": {},
   "source": [
    "# 6033 : [기초-산술연산] 문자 1개 입력받아 다음 문자 출력하기(설명)(py)\n",
    "문자 1개를 입력받아 그 다음 문자를 출력해보자.\r\n",
    "영문자 'A'의 다음 문자는 'B'이고, 숫자 '0'의 다음 문자는 '1'이다.\r\n",
    "\r\n",
    "예시\r\n",
    "...\r\n",
    "print(chr(n+1))\r\n",
    "\r\n",
    "참고\r\n",
    "숫자는 수를 표현하는 문자로서 '0' 은 문자 그 자체를 의미하고, 0은 값을 의미한다.\r\n",
    "\r\n",
    "힌트\r\n",
    "아스키문자표에서 'A'는 10진수 65로 저장되고 'B'는 10진수 66으로 저장된다.\r\n",
    "따라서, 문자도 값으로 덧셈을 할 수 있다. 어떤 문자의 값에 1을 더하면 그 다음 문자의 값이 된다."
   ]
  },
  {
   "cell_type": "code",
   "execution_count": 11,
   "id": "4fe79b24-4335-4162-9523-e989f12a2472",
   "metadata": {},
   "outputs": [
    {
     "name": "stdin",
     "output_type": "stream",
     "text": [
      " g\n"
     ]
    },
    {
     "name": "stdout",
     "output_type": "stream",
     "text": [
      "h\n"
     ]
    }
   ],
   "source": [
    "a = input()\n",
    "n = ord(a)\n",
    "print(chr(n+1))"
   ]
  },
  {
   "cell_type": "code",
   "execution_count": 14,
   "id": "53503a96-29d9-4a87-8847-cf4e4d3c8dd3",
   "metadata": {},
   "outputs": [
    {
     "name": "stdin",
     "output_type": "stream",
     "text": [
      " 8\n"
     ]
    },
    {
     "name": "stdout",
     "output_type": "stream",
     "text": [
      "9\n"
     ]
    }
   ],
   "source": [
    "a = input()\n",
    "n = ord(a)\n",
    "print(chr(n+1))"
   ]
  },
  {
   "cell_type": "markdown",
   "id": "8da96004-8eb5-4162-af90-59e2891399b4",
   "metadata": {},
   "source": [
    "# 6034 : [기초-산술연산] 정수 2개 입력받아 차 계산하기(설명)(py)\n",
    "정수 2개(a, b)를 입력받아 a에서 b를 뺀 차를 출력하는 프로그램을 작성해보자.\r\n",
    "\r\n",
    "예시\r\n",
    "...\r\n",
    "c = a - b\r\n",
    "print(c)\r\n",
    "\r\n",
    "참고\r\n",
    "수 - 수는 차(subtraction)가 계산된다."
   ]
  },
  {
   "cell_type": "code",
   "execution_count": 16,
   "id": "f7f7af82-fd3e-45cd-9297-1fb97b6a69cc",
   "metadata": {},
   "outputs": [
    {
     "name": "stdin",
     "output_type": "stream",
     "text": [
      " 483 316\n"
     ]
    },
    {
     "name": "stdout",
     "output_type": "stream",
     "text": [
      "167\n"
     ]
    }
   ],
   "source": [
    "a, b = input().split()\n",
    "c = int(a) - int(b)\n",
    "print(c)"
   ]
  },
  {
   "cell_type": "code",
   "execution_count": null,
   "id": "e53e5865-2bee-484e-a20d-8082bf26d98c",
   "metadata": {},
   "outputs": [],
   "source": []
  }
 ],
 "metadata": {
  "kernelspec": {
   "display_name": "Python 3 (ipykernel)",
   "language": "python",
   "name": "python3"
  },
  "language_info": {
   "codemirror_mode": {
    "name": "ipython",
    "version": 3
   },
   "file_extension": ".py",
   "mimetype": "text/x-python",
   "name": "python",
   "nbconvert_exporter": "python",
   "pygments_lexer": "ipython3",
   "version": "3.11.7"
  }
 },
 "nbformat": 4,
 "nbformat_minor": 5
}
