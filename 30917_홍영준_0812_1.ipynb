{
  "nbformat": 4,
  "nbformat_minor": 0,
  "metadata": {
    "colab": {
      "provenance": []
    },
    "kernelspec": {
      "name": "python3",
      "display_name": "Python 3"
    },
    "language_info": {
      "name": "python"
    }
  },
  "cells": [
    {
      "cell_type": "code",
      "execution_count": 11,
      "metadata": {
        "colab": {
          "base_uri": "https://localhost:8080/"
        },
        "id": "Rd4uNqup_CTn",
        "outputId": "963d452b-bcde-447f-8b08-e8c3b2e5d69d"
      },
      "outputs": [
        {
          "output_type": "stream",
          "name": "stdout",
          "text": [
            "키는?183\n",
            "몸무게는?70\n",
            "BMI =  20.902385858042937\n",
            "정상\n"
          ]
        }
      ],
      "source": [
        "height = int(input('키는?')) / 100\n",
        "weight = int(input('몸무게는?'))\n",
        "\n",
        "bmi = weight / (height * height)\n",
        "print('BMI = ', bmi)\n",
        "# BMI에 따른 비만도 판단 조건식\n",
        "\n",
        "if bmi < 18.5 :\n",
        "    print('저체중')\n",
        "elif bmi <= 23 :\n",
        "    print('정상')\n",
        "elif bmi <= 25 :\n",
        "    print('과체중')\n",
        "elif bmi <= 30 :\n",
        "    print('비만')\n",
        "else :\n",
        "    print('고도비만')"
      ]
    },
    {
      "cell_type": "code",
      "source": [
        "# Hello world! 3번 출력\n",
        "print('hello world!\\n' * 3)\n",
        "for i in range(1,4):\n",
        "    print(i,'hello world!')"
      ],
      "metadata": {
        "colab": {
          "base_uri": "https://localhost:8080/"
        },
        "id": "ak-P7hAMBtlR",
        "outputId": "06d52fa4-c83f-47ea-be1d-95c7ce040cd0"
      },
      "execution_count": 18,
      "outputs": [
        {
          "output_type": "stream",
          "name": "stdout",
          "text": [
            "hello world!\n",
            "hello world!\n",
            "hello world!\n",
            "\n",
            "1 hello world!\n",
            "2 hello world!\n",
            "3 hello world!\n"
          ]
        }
      ]
    },
    {
      "cell_type": "code",
      "source": [
        "# 1 ~ 10까지 숫자 중 홀수만 출력\n",
        "for i in range(1,11):\n",
        "    if i % 2 == 1:\n",
        "        print(i,end=', ')"
      ],
      "metadata": {
        "colab": {
          "base_uri": "https://localhost:8080/"
        },
        "id": "JERLSd7vINYZ",
        "outputId": "408fa476-d00a-4c88-e3c0-f8582c9556d9"
      },
      "execution_count": 24,
      "outputs": [
        {
          "output_type": "stream",
          "name": "stdout",
          "text": [
            "1, 3, 5, 7, 9, "
          ]
        }
      ]
    },
    {
      "cell_type": "code",
      "source": [
        "# pow 제곱\n",
        "for x in range(-5, 6, 1):\n",
        "    y = pow(x, 2) # y = x ** 2\n",
        "    print('x', x, 'y =', y)"
      ],
      "metadata": {
        "colab": {
          "base_uri": "https://localhost:8080/"
        },
        "id": "xbagVpIjI9fd",
        "outputId": "433d273c-2eaf-4efa-8f68-57ca6ab52170"
      },
      "execution_count": 33,
      "outputs": [
        {
          "output_type": "stream",
          "name": "stdout",
          "text": [
            "x -5 y = 25\n",
            "x -4 y = 16\n",
            "x -3 y = 9\n",
            "x -2 y = 4\n",
            "x -1 y = 1\n",
            "x 0 y = 0\n",
            "x 1 y = 1\n",
            "x 2 y = 4\n",
            "x 3 y = 9\n",
            "x 4 y = 16\n",
            "x 5 y = 25\n"
          ]
        }
      ]
    },
    {
      "cell_type": "code",
      "source": [
        "import random\n",
        "scores = []\n",
        "for i in range(200):\n",
        "    scores.append(random.randint(1, 100))\n",
        "\n",
        "cnt = 0\n",
        "for score in scores :\n",
        "    if score >= 90:\n",
        "        cnt += 1\n",
        "\n",
        "print(cnt)"
      ],
      "metadata": {
        "colab": {
          "base_uri": "https://localhost:8080/"
        },
        "id": "63CIp01rMbwf",
        "outputId": "f8f2db7f-1779-4a6b-c6c5-433c0f1ddad7"
      },
      "execution_count": 42,
      "outputs": [
        {
          "output_type": "stream",
          "name": "stdout",
          "text": [
            "24\n"
          ]
        }
      ]
    },
    {
      "cell_type": "code",
      "source": [],
      "metadata": {
        "id": "xnngPdmcMJ23"
      },
      "execution_count": null,
      "outputs": []
    }
  ]
}