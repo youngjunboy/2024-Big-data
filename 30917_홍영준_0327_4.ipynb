{
  "nbformat": 4,
  "nbformat_minor": 0,
  "metadata": {
    "colab": {
      "provenance": []
    },
    "kernelspec": {
      "name": "python3",
      "display_name": "Python 3"
    },
    "language_info": {
      "name": "python"
    }
  },
  "cells": [
    {
      "cell_type": "markdown",
      "source": [
        "# **30917_홍영준_0327_4**"
      ],
      "metadata": {
        "id": "h8sZQ-Ra6hEW"
      }
    },
    {
      "cell_type": "code",
      "execution_count": 7,
      "metadata": {
        "colab": {
          "base_uri": "https://localhost:8080/"
        },
        "id": "fMyq85J66NxY",
        "outputId": "ea85eb39-f3a0-41c4-eff0-80b372705ab4"
      },
      "outputs": [
        {
          "output_type": "stream",
          "name": "stdout",
          "text": [
            "학생 그룹 점수의 합계와 평균을 구합니다.\n",
            "1번 학생의 점수를 입력하세요 : 90\n",
            "2번 학생의 점수를 입력하세요 : 46\n",
            "3번 학생의 점수를 입력하세요 : 92\n",
            "4번 학생의 점수를 입력하세요 : 45\n",
            "5번 학생의 점수를 입력하세요 : 74\n",
            "합계는 347점 입니다.\n",
            "평균은 69.4 입니다.\n"
          ]
        }
      ],
      "source": [
        "print('학생 그룹 점수의 합계와 평균을 구합니다.')\n",
        "a = int(input('1번 학생의 점수를 입력하세요 : '))\n",
        "b = int(input('2번 학생의 점수를 입력하세요 : '))\n",
        "c = int(input('3번 학생의 점수를 입력하세요 : '))\n",
        "d = int(input('4번 학생의 점수를 입력하세요 : '))\n",
        "e = int(input('5번 학생의 점수를 입력하세요 : '))\n",
        "\n",
        "total = 0\n",
        "\n",
        "# total = a+b+c+d+e\n",
        "total += a\n",
        "total += b\n",
        "total += c\n",
        "total += d\n",
        "total += e\n",
        "\n",
        "print(f'합계는 {total}점 입니다.')\n",
        "print(f'평균은 {total / 5} 입니다.')"
      ]
    },
    {
      "cell_type": "markdown",
      "source": [
        "# 배열 : 묶음 단위로 값을 저장하는 자료구조\n",
        "\n",
        "* 원소 : 배열에 저장된 각 객체\n",
        "* 각 원소는 0,1,-------- 순서대로 인덱스()주소를 부여 받음\n",
        "* 원소의 자료형은 int형 float형 어떤것도 상관 없음\n",
        "* 서로 다른 자료형을 같이 저장할 수 있음\n",
        "* 배열 원소 자체를 배열에 저장할 수 있음\n"
      ],
      "metadata": {
        "id": "ftXklUzg9uDM"
      }
    },
    {
      "cell_type": "code",
      "source": [
        "# list 선언\n",
        "list01 = [] # 빈 리스트\n",
        "a = [1,2,3,4,5]\n",
        "b = [\"A\",\"b\",\"c\"]\n",
        "\n",
        "print(a)\n",
        "print(b)"
      ],
      "metadata": {
        "colab": {
          "base_uri": "https://localhost:8080/"
        },
        "id": "luGBBjCZ-uIV",
        "outputId": "c0dea01b-c88d-490a-9b47-1bf75181073a"
      },
      "execution_count": 11,
      "outputs": [
        {
          "output_type": "stream",
          "name": "stdout",
          "text": [
            "[1, 2, 3, 4, 5]\n",
            "['A', 'b', 'c']\n"
          ]
        }
      ]
    },
    {
      "cell_type": "markdown",
      "source": [
        "# 튜플\n",
        "\n",
        "\n",
        "\n",
        "*   원소에 순서를 매겨 결합한 것으로 원소룰 변경헐 수 없는 자료형\n",
        "*   ()만 사용하면 빈 튜플 생성\n",
        "\n",
        "\n",
        "\n"
      ],
      "metadata": {
        "id": "txm2JOHq_KIc"
      }
    },
    {
      "cell_type": "code",
      "source": [
        "tuple01 = ()\n",
        "tuple02 = 1,2,3\n",
        "tuple03 = 'A','B','C'\n",
        "\n",
        "print(tuple01)\n",
        "print(tuple02)\n",
        "print(tuple03)"
      ],
      "metadata": {
        "colab": {
          "base_uri": "https://localhost:8080/"
        },
        "id": "FZC42e_o_Z-G",
        "outputId": "04b1b229-199d-46a2-d504-13d4dd6121b4"
      },
      "execution_count": 8,
      "outputs": [
        {
          "output_type": "stream",
          "name": "stdout",
          "text": [
            "()\n",
            "(1, 2, 3)\n",
            "('A', 'B', 'C')\n"
          ]
        }
      ]
    },
    {
      "cell_type": "code",
      "source": [
        "a = tuple(range(3,13,2))\n",
        "print(a)"
      ],
      "metadata": {
        "colab": {
          "base_uri": "https://localhost:8080/"
        },
        "id": "DHN1eluq_xo0",
        "outputId": "2fafab38-0bc8-4a78-dbf3-39750dd7f633"
      },
      "execution_count": 10,
      "outputs": [
        {
          "output_type": "stream",
          "name": "stdout",
          "text": [
            "(3, 5, 7, 9, 11)\n"
          ]
        }
      ]
    },
    {
      "cell_type": "code",
      "source": [],
      "metadata": {
        "id": "sh_97_hC_30c"
      },
      "execution_count": null,
      "outputs": []
    }
  ]
}