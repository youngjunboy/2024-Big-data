{
 "cells": [
  {
   "cell_type": "markdown",
   "id": "44290013-80c6-4223-8090-2087d1ca13a0",
   "metadata": {},
   "source": [
    "# 1101 : Hello, World!"
   ]
  },
  {
   "cell_type": "code",
   "execution_count": 13,
   "id": "91e45b8e-eb35-4afd-a4cf-6e4ab118a19c",
   "metadata": {},
   "outputs": [
    {
     "name": "stdout",
     "output_type": "stream",
     "text": [
      "Hello, World!\n"
     ]
    }
   ],
   "source": [
    "print('Hello, World!')"
   ]
  },
  {
   "cell_type": "markdown",
   "id": "f73a6f9c-1482-48c9-9bd9-5080378be2aa",
   "metadata": {},
   "source": [
    "# 1102 : Hello, World! (줄 바꿈 버전)"
   ]
  },
  {
   "cell_type": "code",
   "execution_count": 14,
   "id": "44e1d304-bcfe-4446-bae3-1513e38fb059",
   "metadata": {},
   "outputs": [
    {
     "name": "stdout",
     "output_type": "stream",
     "text": [
      "Hello,\n",
      "World!\n"
     ]
    }
   ],
   "source": [
    "print('Hello,\\nWorld!')"
   ]
  },
  {
   "cell_type": "markdown",
   "id": "6857ac59-6f34-4c42-90d8-d540f9df679f",
   "metadata": {},
   "source": [
    "# 1103 : 폴더명 출력"
   ]
  },
  {
   "cell_type": "code",
   "execution_count": 25,
   "id": "b5ccf785-3c85-4042-b97d-0aadedafe20f",
   "metadata": {},
   "outputs": [
    {
     "name": "stdout",
     "output_type": "stream",
     "text": [
      "\"c:\\test\"\n"
     ]
    }
   ],
   "source": [
    "print('\"c:\\\\test\"')"
   ]
  },
  {
   "cell_type": "markdown",
   "id": "fbe197c9-138c-4a46-a3bf-faa4d119daf1",
   "metadata": {},
   "source": [
    "# 1106 : int의 범위"
   ]
  },
  {
   "cell_type": "code",
   "execution_count": 26,
   "id": "197cc764-e03d-4b19-97a7-98a9a38e65a0",
   "metadata": {},
   "outputs": [
    {
     "name": "stdout",
     "output_type": "stream",
     "text": [
      "-2147483648 2147483647\n"
     ]
    }
   ],
   "source": [
    "a = -0x80000000\n",
    "b = 0x7FFFFFFF\n",
    "\n",
    "print(a, b)"
   ]
  },
  {
   "cell_type": "markdown",
   "id": "6504c098-75da-453f-ad78-3cbad4eee88f",
   "metadata": {},
   "source": [
    "# 1731 : 특수 서식 문자 출력하기"
   ]
  },
  {
   "cell_type": "code",
   "execution_count": 35,
   "id": "429a6e13-2a18-4b9b-acdb-d8b6fa82f9fd",
   "metadata": {},
   "outputs": [
    {
     "name": "stdout",
     "output_type": "stream",
     "text": [
      "special characters\n",
      "[\\n,\\\",\\\\] is very important.\n"
     ]
    }
   ],
   "source": [
    "print('special characters\\n[\\\\n,\\\\\",\\\\\\] is very important.')"
   ]
  },
  {
   "cell_type": "code",
   "execution_count": null,
   "id": "9cdba38f-0da2-40d3-bbbc-acb5b4897894",
   "metadata": {},
   "outputs": [],
   "source": []
  }
 ],
 "metadata": {
  "kernelspec": {
   "display_name": "Python 3 (ipykernel)",
   "language": "python",
   "name": "python3"
  },
  "language_info": {
   "codemirror_mode": {
    "name": "ipython",
    "version": 3
   },
   "file_extension": ".py",
   "mimetype": "text/x-python",
   "name": "python",
   "nbconvert_exporter": "python",
   "pygments_lexer": "ipython3",
   "version": "3.11.7"
  }
 },
 "nbformat": 4,
 "nbformat_minor": 5
}
