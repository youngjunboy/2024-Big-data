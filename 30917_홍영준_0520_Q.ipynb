{
 "cells": [
  {
   "cell_type": "markdown",
   "id": "06663022-dbbf-435f-8712-9a8579dd5d43",
   "metadata": {},
   "source": [
    "# 30917_홍영준_0520_Q"
   ]
  },
  {
   "cell_type": "markdown",
   "id": "a77712a1-0867-411f-b6a6-118fc908557f",
   "metadata": {},
   "source": [
    "# 6094 : [기초-리스트] 이상한 출석 번호 부르기3(py)\n",
    "정보 선생님은 오늘도 이상한 출석을 부른다.\r\n",
    "\r\n",
    "영일이는 오늘도 다른 생각을 해보았다.\r\n",
    "출석 번호를 다 부르지는 않은 것 같은데... 가장 빠른 번호가 뭐였지?\r\n",
    "\r\n",
    "출석 번호를 n번 무작위로 불렀을 때, 가장 빠른 번호를 출력해 보자.\r\n",
    "\r\n",
    "단, \r\n",
    "첫 번째 번호와 마지막 번호가 몇 번인지는 아무도 모른다.\r\n",
    "음수(-) 번호, 0번 번호도 있을 수 있다.\r\n",
    "\r\n",
    "참고\r\n",
    "리스트에 출석 번호를 기록해 두었다가, 그 중에서 가장 작은 값을 찾아내면 된다.\r\n",
    "그런데, 가장 작은 값은 어떻게 어떤 것과 비교하고, 어떻게 찾아야 할까?"
   ]
  },
  {
   "cell_type": "code",
   "execution_count": 20,
   "id": "66b74351-d325-4281-b200-cc6f292f0377",
   "metadata": {},
   "outputs": [
    {
     "name": "stdin",
     "output_type": "stream",
     "text": [
      " 10\n",
      " 14 154 1 26 2 14 36 387 3 25\n"
     ]
    },
    {
     "name": "stdout",
     "output_type": "stream",
     "text": [
      "1\n"
     ]
    }
   ],
   "source": [
    "n = int(input())\n",
    "k = list(map(int,input().split()))\n",
    "a=k[0]\n",
    "for i in range(n):\n",
    "    if(a>k[i]):\n",
    "        a=k[i]\n",
    "print(a)"
   ]
  },
  {
   "cell_type": "markdown",
   "id": "1e3e048e-bb16-4e5c-97ab-3797c26d5875",
   "metadata": {},
   "source": [
    "# 6095 : [기초-리스트] 바둑판에 흰 돌 놓기(설명)(py)\n",
    "기숙사 생활을 하는 학교에서 어떤 금요일(전원 귀가일)에는 모두 집으로 귀가를 한다.\r\n",
    "\r\n",
    "오랜만에 집에 간 영일이는 아버지와 함께 두던 매우 큰 오목에 대해서 생각해 보다가\r\n",
    "\"바둑판에 돌을 올린 것을 프로그래밍 할 수 있을까?\"하고 생각하였다.\r\n",
    "\r\n",
    "바둑판(19 * 19)에 n개의 흰 돌을 놓는다고 할 때,\r\n",
    "n개의 흰 돌이 놓인 위치를 출력하는 프로그램을 작성해보자.\r\n",
    "\r\n",
    "예시\r\n",
    "d=[]                        #대괄호 [ ] 를 이용해 아무것도 없는 빈 리스트 만들기\r\n",
    "for i in range(20) :\r\n",
    "  d.append([])         #리스트 안에 다른 리스트 추가해 넣기\r\n",
    "  for j in range(20) : \r\n",
    "    d[i].append(0)    #리스트 안에 들어있는 리스트 안에 0 추가해 넣기\r\n",
    "\r\n",
    "n = int(input())\r\n",
    "for i in range(n) :\r\n",
    "  x, y = input().split()\r\n",
    "  d[int(x)][int(y)] = 1\r\n",
    "\r\n",
    "for i in range(1, 20) :\r\n",
    "  for j in range(1, 20) : \r\n",
    "    print(d[i][j], end=' ')    #공백을 두고 한 줄로 출력\r\n",
    "  print()                          #줄 바꿈\r\n",
    "\r\n",
    "참고\r\n",
    "리스트가 들어있는 리스트를 만들면?\r\n",
    "가로번호, 세로번호를 사용해 2차원 형태의 데이터처럼 쉽게 기록하고 사용할 수 있다.\r\n",
    "리스트이름[번호][번호] 형식으로 저장되어있는 값을 읽고 쓸 수 있고, 더 확장한 n차원의 리스트도 만들 수 있다.\r\n",
    "\r\n",
    "...\r\n",
    "d=[]\r\n",
    "for i in range(20) : \r\n",
    "  d.append([])\r\n",
    "  for j in range(20) :  \r\n",
    "    d[i].append(0)\r\n",
    "... \r\n",
    "\r\n",
    "위와 같이, 모두 0이 채워진 2차원 리스트를 만드는 코드를 아래와 같은 방법으로 짧게 만들 수도 있다.\r\n",
    "... [0 for j in range(20)]  #20개의 0이 들어간 [0, 0, 0, ... , 0, 0, 0] 리스트 \r\n",
    "아래처럼 작성하면 위와 같은 리스트가 20개가 들어간 리스트를 한 번에 만들어 준다.\r\n",
    "\r\n",
    "d = [[0 for j in range(20)] for i in range(20)]\r\n",
    "\r\n",
    "이러한 리스트 생성 방식을 List Comprehensions 라고 한다.\r\n"
   ]
  },
  {
   "cell_type": "code",
   "execution_count": 26,
   "id": "ec6717e9-ef02-4fac-a6fc-ead0fe11c4af",
   "metadata": {},
   "outputs": [
    {
     "name": "stdin",
     "output_type": "stream",
     "text": [
      " 5\n",
      " 1 2\n",
      " 3 4\n",
      " 5 6\n",
      " 7 8\n",
      " 9 10\n"
     ]
    },
    {
     "name": "stdout",
     "output_type": "stream",
     "text": [
      "0 1 0 0 0 0 0 0 0 0 0 0 0 0 0 0 0 0 0 \n",
      "0 0 0 0 0 0 0 0 0 0 0 0 0 0 0 0 0 0 0 \n",
      "0 0 0 1 0 0 0 0 0 0 0 0 0 0 0 0 0 0 0 \n",
      "0 0 0 0 0 0 0 0 0 0 0 0 0 0 0 0 0 0 0 \n",
      "0 0 0 0 0 1 0 0 0 0 0 0 0 0 0 0 0 0 0 \n",
      "0 0 0 0 0 0 0 0 0 0 0 0 0 0 0 0 0 0 0 \n",
      "0 0 0 0 0 0 0 1 0 0 0 0 0 0 0 0 0 0 0 \n",
      "0 0 0 0 0 0 0 0 0 0 0 0 0 0 0 0 0 0 0 \n",
      "0 0 0 0 0 0 0 0 0 1 0 0 0 0 0 0 0 0 0 \n",
      "0 0 0 0 0 0 0 0 0 0 0 0 0 0 0 0 0 0 0 \n",
      "0 0 0 0 0 0 0 0 0 0 0 0 0 0 0 0 0 0 0 \n",
      "0 0 0 0 0 0 0 0 0 0 0 0 0 0 0 0 0 0 0 \n",
      "0 0 0 0 0 0 0 0 0 0 0 0 0 0 0 0 0 0 0 \n",
      "0 0 0 0 0 0 0 0 0 0 0 0 0 0 0 0 0 0 0 \n",
      "0 0 0 0 0 0 0 0 0 0 0 0 0 0 0 0 0 0 0 \n",
      "0 0 0 0 0 0 0 0 0 0 0 0 0 0 0 0 0 0 0 \n",
      "0 0 0 0 0 0 0 0 0 0 0 0 0 0 0 0 0 0 0 \n",
      "0 0 0 0 0 0 0 0 0 0 0 0 0 0 0 0 0 0 0 \n",
      "0 0 0 0 0 0 0 0 0 0 0 0 0 0 0 0 0 0 0 \n"
     ]
    }
   ],
   "source": [
    "d=[]\n",
    "for i in range(20) :\n",
    "  d.append([])\n",
    "  for j in range(20) :\n",
    "    d[i].append(0)\n",
    "\n",
    "n = int(input())\n",
    "for i in range(n) :\n",
    "  x, y = input().split()\n",
    "  d[int(x)][int(y)] = 1\n",
    "\n",
    "for i in range(1, 20) :\n",
    "  for j in range(1, 20) : \n",
    "    print(d[i][j], end=' ')\n",
    "  print()"
   ]
  }
 ],
 "metadata": {
  "kernelspec": {
   "display_name": "Python 3 (ipykernel)",
   "language": "python",
   "name": "python3"
  },
  "language_info": {
   "codemirror_mode": {
    "name": "ipython",
    "version": 3
   },
   "file_extension": ".py",
   "mimetype": "text/x-python",
   "name": "python",
   "nbconvert_exporter": "python",
   "pygments_lexer": "ipython3",
   "version": "3.11.7"
  }
 },
 "nbformat": 4,
 "nbformat_minor": 5
}
