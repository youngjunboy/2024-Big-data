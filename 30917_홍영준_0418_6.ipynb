{
 "cells": [
  {
   "cell_type": "markdown",
   "id": "8937f294-c9eb-49b8-a93d-7b5d70aa0abc",
   "metadata": {},
   "source": [
    "# 30917_홍영준_0418_6"
   ]
  },
  {
   "cell_type": "markdown",
   "id": "01836659-b1d0-4981-a3c2-0e43a91c44af",
   "metadata": {},
   "source": [
    "# 3. 가계부 만들기 프로그램"
   ]
  },
  {
   "cell_type": "code",
   "execution_count": 5,
   "id": "e3cf2e2b-bdd8-476e-8d78-b98611c6b320",
   "metadata": {},
   "outputs": [
    {
     "name": "stdout",
     "output_type": "stream",
     "text": [
      "월 별로 수입액을 입력시켜 주세요!\n",
      "1 월의 수입액을 입력시켜 주세요\n"
     ]
    },
    {
     "name": "stdin",
     "output_type": "stream",
     "text": [
      " 340\n"
     ]
    },
    {
     "name": "stdout",
     "output_type": "stream",
     "text": [
      "2 월의 수입액을 입력시켜 주세요\n"
     ]
    },
    {
     "name": "stdin",
     "output_type": "stream",
     "text": [
      " 410\n"
     ]
    },
    {
     "name": "stdout",
     "output_type": "stream",
     "text": [
      "3 월의 수입액을 입력시켜 주세요\n"
     ]
    },
    {
     "name": "stdin",
     "output_type": "stream",
     "text": [
      " 280\n"
     ]
    },
    {
     "name": "stdout",
     "output_type": "stream",
     "text": [
      "4 월의 수입액을 입력시켜 주세요\n"
     ]
    },
    {
     "name": "stdin",
     "output_type": "stream",
     "text": [
      " 360\n"
     ]
    },
    {
     "name": "stdout",
     "output_type": "stream",
     "text": [
      "5 월의 수입액을 입력시켜 주세요\n"
     ]
    },
    {
     "name": "stdin",
     "output_type": "stream",
     "text": [
      " 170\n"
     ]
    },
    {
     "name": "stdout",
     "output_type": "stream",
     "text": [
      "6 월의 수입액을 입력시켜 주세요\n"
     ]
    },
    {
     "name": "stdin",
     "output_type": "stream",
     "text": [
      " 420\n"
     ]
    },
    {
     "name": "stdout",
     "output_type": "stream",
     "text": [
      "상반기 월별 수입액 입니다.\n",
      "상반기 월 수입액의 합계는 1980 만원 입니다.\n",
      "상반기 월 수입액의 평균은 330 만원 입니다.\n"
     ]
    }
   ],
   "source": [
    "money = []   # 월별 수입을 저장할 리스트를 초기화합니다.\n",
    "print('월 별로 수입액을 입력시켜 주세요!')   \n",
    "for j in range(0,6) :\n",
    "    print((j+1), '월의 수입액을 입력시켜 주세요')\n",
    "    money.append(int(input('')))   # 사용자로부터 수입을 입력 받아 리스트에 추가합니다.\n",
    "    \n",
    "sum = 0   # 총 수입을 저장할 변수를 초기화합니다.\n",
    "i = 0\n",
    "\n",
    "print('상반기 월별 수입액 입니다.')\n",
    "while i<6 :\n",
    "    sum = money[i] + sum   # 리스트의 각 항목을 더해 총 수입을 계산합니다.\n",
    "    i = i+1\n",
    "\n",
    "avg = sum // 6   # 평균을 계산합니다.\n",
    "\n",
    "print(f'상반기 월 수입액의 합계는 {sum} 만원 입니다.')\n",
    "print(f'상반기 월 수입액의 평균은 {avg} 만원 입니다.')"
   ]
  },
  {
   "cell_type": "markdown",
   "id": "2a9ec2c6-6d41-4fb5-a433-10aa925df558",
   "metadata": {},
   "source": [
    "# 4. 무작위로 입력된 점수 리스트에 70점 이상인 번호와 값 출력하기"
   ]
  },
  {
   "cell_type": "code",
   "execution_count": 9,
   "id": "16ac9016-a920-4e0d-97ef-bdde924d4d6d",
   "metadata": {},
   "outputs": [
    {
     "name": "stdout",
     "output_type": "stream",
     "text": [
      "리스트에 점수가 70점 이상인 번호와 값 출력하기\n",
      "3 번 76\n",
      "4 번 71\n",
      "11 번 98\n",
      "15 번 84\n",
      "16 번 90\n",
      "21 번 72\n",
      "22 번 70\n",
      "23 번 74\n",
      "25 번 82\n"
     ]
    }
   ],
   "source": [
    "import random\n",
    "\n",
    "score = []   # 점수를 저장할 리스트를 초기화 합니다.\n",
    "\n",
    "# 25명의 학생들에게 무작위로 점수를 부여합니다.\n",
    "for i in range(0, 25) :\n",
    "    score.append(random.randint(0, 100))   \n",
    "print('리스트에 점수가 70점 이상인 번호와 값 출력하기')   \n",
    "\n",
    "# 리스트에서 70점 이상인 점수를 가진 학생들의 번화와 점수를 출력합니다.\n",
    "for s in score :\n",
    "    if s>=70:\n",
    "        print(score.index(s)+1, '번', s)   # 인덱스값이 0부터 시작이므로 + 1"
   ]
  },
  {
   "cell_type": "markdown",
   "id": "15273948-dd3f-41d3-95ab-9a46c106c931",
   "metadata": {},
   "source": [
    "# 5. 지하철 게임 만들기"
   ]
  },
  {
   "cell_type": "code",
   "execution_count": 15,
   "id": "11d19703-8729-4938-9976-556b510eda59",
   "metadata": {},
   "outputs": [
    {
     "name": "stdout",
     "output_type": "stream",
     "text": [
      "지하철~♪♬지하철~♪♬지하철~♪♬지하철~♪♬\n"
     ]
    },
    {
     "name": "stdin",
     "output_type": "stream",
     "text": [
      "몇호선? 팔호선\n",
      " 단대오거리\n",
      " 남위례\n",
      " 장지\n",
      " 문정\n",
      " 송파\n",
      " 석촌\n",
      " 여의도\n"
     ]
    },
    {
     "name": "stdout",
     "output_type": "stream",
     "text": [
      "땡! 해당 역은 팔호선 이 아닙니다!\n",
      "벌칙 당첨!!\n"
     ]
    }
   ],
   "source": [
    "신분당선 = ['광교','광교중앙','상현','성복','수지구청','동천','미금','정자','판교','청계산입구','양재시민의숲','양재','강남']\n",
    "\n",
    "팔호선 = ['모란','수진','신흥','단대오거리','남한산성입구','산성','남위례','복정','장지','문정','가락시장','송파','석촌','잠실','몽촌토성','강동구청','천호','암사']\n",
    "\n",
    "print('지하철~♪♬' * 4)\n",
    "\n",
    "# 사용자로부터 호선을 입력받습니다.\n",
    "호선 = input('몇호선?')\n",
    "\n",
    "# 입력된 호선에 따라 해당 호선의 역이름을 입력받고, 입력된 역이 해당 호선에 속하는지 확인합니다.\n",
    "for i in range(10) :\n",
    "    if 호선 == '신분당선' :\n",
    "        입력 = input()\n",
    "        if 입력 not in 신분당선:\n",
    "            print('땡! 해당 역은', 호선, '이 아닙니다!')\n",
    "            print('벌칙 당첨!!')\n",
    "            break\n",
    "    elif 호선 == '팔호선':\n",
    "        입력 = input()\n",
    "        if 입력 not in 팔호선:\n",
    "            print('땡! 해당 역은', 호선, '이 아닙니다!')\n",
    "            print('벌칙 당첨!!')\n",
    "            break"
   ]
  }
 ],
 "metadata": {
  "kernelspec": {
   "display_name": "Python 3 (ipykernel)",
   "language": "python",
   "name": "python3"
  },
  "language_info": {
   "codemirror_mode": {
    "name": "ipython",
    "version": 3
   },
   "file_extension": ".py",
   "mimetype": "text/x-python",
   "name": "python",
   "nbconvert_exporter": "python",
   "pygments_lexer": "ipython3",
   "version": "3.11.7"
  }
 },
 "nbformat": 4,
 "nbformat_minor": 5
}
