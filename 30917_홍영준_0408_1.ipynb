{
 "cells": [
  {
   "cell_type": "markdown",
   "id": "1203bed0-d68f-402d-a83e-d545408a6eb2",
   "metadata": {},
   "source": [
    "# 30917_홍영준_0408_1"
   ]
  },
  {
   "cell_type": "markdown",
   "id": "9b96abb9-75b3-43fb-97b9-8abfeb91b47c",
   "metadata": {},
   "source": [
    "## 선택구조 조건이 하나 일때\n",
    "- if문"
   ]
  },
  {
   "cell_type": "code",
   "execution_count": 1,
   "id": "b1a8c2e9-f477-4615-beef-aaa3104f9722",
   "metadata": {},
   "outputs": [
    {
     "name": "stdout",
     "output_type": "stream",
     "text": [
      "청소년은 주류를 구매할 수 없습니다.\n"
     ]
    }
   ],
   "source": [
    "age = 19\n",
    "\n",
    "# 청소년은 주류를 구매할 수 없습니다. 출력\n",
    "\n",
    "if age<20:\n",
    "    print(\"청소년은 주류를 구매할 수 없습니다.\")"
   ]
  },
  {
   "cell_type": "code",
   "execution_count": 9,
   "id": "f1f3656f-6918-4bd7-8798-f521c4e21a29",
   "metadata": {},
   "outputs": [
    {
     "name": "stdin",
     "output_type": "stream",
     "text": [
      "나이가 어떻게 되시나요?? 17\n"
     ]
    },
    {
     "name": "stdout",
     "output_type": "stream",
     "text": [
      "청소년이시므로 3년 뒤에 구매 할 수 있습니다!\n"
     ]
    }
   ],
   "source": [
    "age = int(input(\"나이가 어떻게 되시나요??\"))\n",
    "if age<20:\n",
    "    print(f\"청소년이시므로 {20-age}년 뒤에 구매 할 수 있습니다!\")\n",
    "else:\n",
    "    print(\"성인이므로 주류구매가 허용됩니다.\")"
   ]
  },
  {
   "cell_type": "markdown",
   "id": "62229d79-7ecb-498a-bceb-65c69a7c35ae",
   "metadata": {},
   "source": [
    "# 5만원 이하면 배송비 2500원이 추가 됩니다."
   ]
  },
  {
   "cell_type": "code",
   "execution_count": 16,
   "id": "a2584afb-deec-48cc-8cdb-05d84dabba87",
   "metadata": {},
   "outputs": [
    {
     "name": "stdin",
     "output_type": "stream",
     "text": [
      " 43500\n"
     ]
    },
    {
     "name": "stdout",
     "output_type": "stream",
     "text": [
      "배송비 2500원이 추가됩니다.\n",
      "결제하실 금액은 46000원 입니다.\n"
     ]
    }
   ],
   "source": [
    "coopang = int(input())\n",
    "\n",
    "if coopang <=50000:\n",
    "    coopang += 2500\n",
    "    print(f\"배송비 2500원이 추가됩니다.\")\n",
    "    print(f\"결제하실 금액은 {coopang}원 입니다.\")\n",
    "else:\n",
    "    print(f\"배송비 무료입니다.\")\n",
    "    print(f\"결제하실 금액은 {coopang}원 입니다.\")"
   ]
  },
  {
   "cell_type": "code",
   "execution_count": 18,
   "id": "ca6fbcbf-bff7-4f3c-a871-1722977f1c6a",
   "metadata": {},
   "outputs": [
    {
     "name": "stdin",
     "output_type": "stream",
     "text": [
      "오늘은 며칠입니까?. 11\n"
     ]
    },
    {
     "name": "stdout",
     "output_type": "stream",
     "text": [
      "홀수번호 차량만 통행 가능합니다.\n",
      "짝수번호 차주는 오늘 대중교통을 이용해 주세요.\n"
     ]
    }
   ],
   "source": [
    "# 차량 이부제\n",
    "date = int(input(\"오늘은 며칠입니까?.\"))\n",
    "\n",
    "if date % 2 == 0 :\n",
    "    print(f\"짝수번호 차량만 통행 가능합니다.\")\n",
    "    print(f\"홀수번호 차주는 오늘 대중교통을 이용해 주세요.\")\n",
    "else:\n",
    "    print(f\"홀수번호 차량만 통행 가능합니다.\")\n",
    "    print(f\"짝수번호 차주는 오늘 대중교통을 이용해 주세요.\")"
   ]
  }
 ],
 "metadata": {
  "kernelspec": {
   "display_name": "Python 3 (ipykernel)",
   "language": "python",
   "name": "python3"
  },
  "language_info": {
   "codemirror_mode": {
    "name": "ipython",
    "version": 3
   },
   "file_extension": ".py",
   "mimetype": "text/x-python",
   "name": "python",
   "nbconvert_exporter": "python",
   "pygments_lexer": "ipython3",
   "version": "3.11.7"
  }
 },
 "nbformat": 4,
 "nbformat_minor": 5
}
