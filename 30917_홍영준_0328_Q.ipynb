{
 "cells": [
  {
   "cell_type": "markdown",
   "id": "df04585f-f6b4-4122-8c19-9da55d3fe2e3",
   "metadata": {},
   "source": [
    "# 6057 : [기초-논리연산] 참/거짓이 서로 같을 때에만 참 출력하기(설명)(py)\n",
    "2개의 정수값이 입력될 때,\r\n",
    "그 불 값(True/False) 이 서로 같을 때에만 True 를 출력하는 프로그램을 작성해보자."
   ]
  },
  {
   "cell_type": "code",
   "execution_count": 6,
   "id": "22edf0cf-5526-4019-8af6-e1ab436eebe6",
   "metadata": {},
   "outputs": [
    {
     "name": "stdin",
     "output_type": "stream",
     "text": [
      " 0 0\n"
     ]
    },
    {
     "name": "stdout",
     "output_type": "stream",
     "text": [
      "True\n"
     ]
    }
   ],
   "source": [
    "a,b = input().split()\n",
    "a = int(a)\n",
    "b = int(b)\n",
    "print(bool(a) and bool(b) or bool(not a) and bool(not b))"
   ]
  },
  {
   "cell_type": "markdown",
   "id": "147513cb-2a6f-407c-a97c-f64943e39088",
   "metadata": {},
   "source": [
    "# 6058 : [기초-논리연산] 둘 다 거짓일 경우만 참 출력하기(py)\n",
    "2개의 정수값이 입력될 때,\r\n",
    "그 불 값(True/False) 이 모두 False 일 때에만 True 를 출력하는 프로그램을 작성해보자."
   ]
  },
  {
   "cell_type": "code",
   "execution_count": 12,
   "id": "029dbf2c-af1d-422d-a839-9194493df0ee",
   "metadata": {},
   "outputs": [
    {
     "name": "stdin",
     "output_type": "stream",
     "text": [
      " 0 0\n"
     ]
    },
    {
     "name": "stdout",
     "output_type": "stream",
     "text": [
      "True\n"
     ]
    }
   ],
   "source": [
    "a, b = input().split()\n",
    "a = int(a)\n",
    "b = int(b)\n",
    "print(bool(not a) and bool(not b))"
   ]
  },
  {
   "cell_type": "markdown",
   "id": "c575d197-e32a-4cc3-af66-b12683e9513f",
   "metadata": {},
   "source": [
    "# 6059 : [기초-비트단위논리연산] 비트단위로 NOT 하여 출력하기(설명)(py)\n",
    "입력 된 정수를 비트단위로 참/거짓을 바꾼 후 정수로 출력해보자.\r\n",
    "비트단위(bitwise)연산자 ~ 를 붙이면 된다.(~ : tilde, 틸드라고 읽는다.)\r\n",
    "\r\n",
    "** 비트단위(bitwise) 연산자는,\r\n",
    "~(bitwise not), &(bitwise and), |(bitwise or), ^(bitwise xor),\r\n",
    "<<(bitwise left shift), >>(bitwise right shift)\r\n",
    "가 있다.\r\n",
    "\r\n",
    "예를 들어 1이 입력되었을 때 저장되는 1을 32비트 2진수로 표현하면\r\n",
    "        00000000 00000000 00000000 00000001 이고,\r\n",
    "~1은 11111111 11111111 11111111 11111110 가 되는데 이는 -2를 의미한다.\r\n",
    "\r\n",
    "예시\r\n",
    "a = 1\r\n",
    "print(~a) #-2가 출력된다.\r\n",
    "\r\n",
    "참고\r\n",
    "컴퓨터에 저장되는 모든 데이터들은 2진수 형태로 바뀌어 저장된다.\r\n",
    "0과 1로만 구성되는 비트단위들로 변환되어 저장되는데,\r\n",
    "양의 정수는 2진수 형태로 바뀌어 저장되고, 음의 정수는 \"2의 보수 표현\"방법으로 저장된다.\r\n",
    "\r\n",
    "양의 정수 5를 32비트로 저장하면, \r\n",
    "\r\n",
    "5의 2진수 형태인 101이 32비트로 만들어져\r\n",
    "00000000 00000000 00000000 00000101\r\n",
    "로 저장된다.(공백은 보기 편하도록 임의로 분리)\r\n",
    "\r\n",
    "32비트 형의 정수 0은\r\n",
    "00000000 00000000 00000000 00000000\r\n",
    "\r\n",
    "그리고 -1은 0에서 1을 더 빼고 32비트만 표시하는 형태로\r\n",
    "11111111 11111111 11111111 11111111 로 저장된다.\r\n",
    "\r\n",
    "-2는 -1에서 1을 더 빼면 된다.\r\n",
    "11111111 11111111 11111111 11111110 로 저장된다.\r\n",
    "\r\n",
    "이러한 내용을 간단히 표현하면, 정수 n이라고 할 때,\r\n",
    "\r\n",
    "~n = -n - 1\r\n",
    "-n = ~n + 1 과 같은 관계로 표현할 수 있다.\r\n",
    "\r\n",
    "이 관계를 그림으로 그려보면 마치 원형으로 수들이 상대적으로 배치된 것과 같다."
   ]
  },
  {
   "cell_type": "code",
   "execution_count": 16,
   "id": "a04a4c7a-3589-4192-9eff-832a3bd9fb89",
   "metadata": {},
   "outputs": [
    {
     "name": "stdin",
     "output_type": "stream",
     "text": [
      " 5\n"
     ]
    },
    {
     "name": "stdout",
     "output_type": "stream",
     "text": [
      "-6\n"
     ]
    }
   ],
   "source": [
    "a = int(input())\n",
    "print(~a)"
   ]
  },
  {
   "cell_type": "markdown",
   "id": "b9076544-6a56-4ed5-936c-36821ab2a258",
   "metadata": {},
   "source": [
    "# 6060 : [기초-비트단위논리연산] 비트단위로 AND 하여 출력하기(설명)(py)\n",
    "입력된 정수 두 개를 비트단위로 and 연산한 후 그 결과를 정수로 출력해보자.\r\n",
    "비트단위(bitwise)연산자 &를 사용하면 된다.(and, ampersand, 앰퍼센드라고 읽는다.)\r\n",
    "\r\n",
    "** 비트단위(bitwise)연산자는,\r\n",
    "~(bitwise not), &(bitwise and), |(bitwise or), ^(bitwise xor),\r\n",
    "<<(bitwise left shift), >>(bitwise right shift)\r\n",
    "가 있다.\r\n",
    "\r\n",
    "예를 들어 3과 5가 입력되었을 때를 살펴보면\r\n",
    "3       : 00000000 00000000 00000000 00000011\r\n",
    "5       : 00000000 00000000 00000000 00000101\r\n",
    "3 & 5 : 00000000 00000000 00000000 00000001\r\n",
    "이 된다.\r\n",
    "\r\n",
    "비트단위 and 연산은 두 비트열이 주어졌을 때,\r\n",
    "둘 다 1인 부분의 자리만 1로 만들어주는 것과 같다.\r\n",
    "\r\n",
    "이 연산을 이용하면 어떤 비트열의 특정 부분만 모두 0으로도 만들 수 있는데\r\n",
    "192.168.0.31   : 11000000.10101000.00000000.00011111\r\n",
    "255.255.255.0 : 11111111.11111111.11111111.00000000\r\n",
    "\r\n",
    "두 개의 ip 주소를 & 연산하면\r\n",
    "192.168.0.0 :     110000000.10101000.0000000.00000000 을 계산할 수 있다.\r\n",
    "\r\n",
    "실제로 이 계산은 네트워크에 연결되어 있는 두 개의 컴퓨터가 데이터를 주고받기 위해\r\n",
    "같은 네트워크에 있는지 아닌지를 판단하는데 사용된다.\r\n",
    "\r\n",
    "이러한 비트단위 연산은 빠른 계산이 필요한 그래픽처리에서\r\n",
    "마스크연산(특정 부분을 가리고 출력하는)을 수행하는 데에도 효과적으로 사용된다."
   ]
  },
  {
   "cell_type": "code",
   "execution_count": 20,
   "id": "46cb7702-8124-4171-a48b-dcda99747eec",
   "metadata": {},
   "outputs": [
    {
     "name": "stdin",
     "output_type": "stream",
     "text": [
      " 3 5\n"
     ]
    },
    {
     "name": "stdout",
     "output_type": "stream",
     "text": [
      "1\n"
     ]
    }
   ],
   "source": [
    "a,b = input().split()\n",
    "a = int(a)\n",
    "b = int(b)\n",
    "print(a & b)"
   ]
  },
  {
   "cell_type": "markdown",
   "id": "fb4fbf3a-f06b-4032-ab28-882caba9c798",
   "metadata": {},
   "source": [
    "# 6061 : [기초-비트단위논리연산] 비트단위로 OR 하여 출력하기(설명)(py)\n",
    "입력된 정수 두 개를 비트단위로 or 연산한 후 그 결과를 정수로 출력해보자.\r\n",
    "비트단위(bitwise) 연산자 |(or, vertical bar, 버티컬바)를 사용하면 된다.\r\n",
    "\r\n",
    "** | 은 파이프(pipe)연산자라고도 불리는 경우가 있다.\r\n",
    "\r\n",
    "** 비트단위(bitwise) 연산자는,\r\n",
    "~(bitwise not), &(bitwise and), |(bitwise or), ^(bitwise xor),\r\n",
    "<<(bitwise left shift), >>(bitwise right shift)\r\n",
    "가 있다.\r\n",
    "\r\n",
    "예를 들어 3과 5가 입력되었을 때를 살펴보면\r\n",
    "3      : 00000000 00000000 00000000 00000011\r\n",
    "5      : 00000000 00000000 00000000 00000101\r\n",
    "3 | 5 : 00000000 00000000 00000000 00000111\r\n",
    "이 된다.\r\n",
    "\r\n",
    "비트단위 or 연산은 둘 중 하나라도 1인 자리를 1로 만들어주는 것과 같다.\r\n",
    "\r\n",
    "이러한 비트단위 연산은 빠른 계산이 필요한 그래픽처리에서도 효과적으로 사용된다."
   ]
  },
  {
   "cell_type": "code",
   "execution_count": 21,
   "id": "a538db24-ff1f-4a3c-815c-34a612233df8",
   "metadata": {},
   "outputs": [
    {
     "name": "stdin",
     "output_type": "stream",
     "text": [
      " 3 5\n"
     ]
    },
    {
     "name": "stdout",
     "output_type": "stream",
     "text": [
      "7\n"
     ]
    }
   ],
   "source": [
    "a,b = input().split()\n",
    "a = int(a)\n",
    "b = int(b)\n",
    "print(a | b)"
   ]
  },
  {
   "cell_type": "markdown",
   "id": "2f6c0f26-8bdf-45fd-8546-8d086264eb16",
   "metadata": {},
   "source": [
    "# 6062 : [기초-비트단위논리연산] 비트단위로 XOR 하여 출력하기(설명)(py)\n",
    "입력된 정수 두 개를 비트단위로 xor 연산한 후 그 결과를 정수로 출력해보자.\r\n",
    "비트단위(bitwise) 연산자 ^(xor, circumflex/caret, 서컴플렉스/카릿)를 사용하면 된다.\r\n",
    "\r\n",
    "** 주의 ^은 수학식에서 거듭제곱(power)을 나타내는 기호와 모양은 같지만,\r\n",
    "C언어에서는 전혀 다른 배타적 논리합(xor, 서로 다를 때 1)의 의미를 가진다.\r\n",
    "\r\n",
    "** 비트단위(bitwise) 연산자는,\r\n",
    "~(bitwise not), &(bitwise and), |(bitwise or), ^(bitwise xor),\r\n",
    "<<(bitwise left shift), >>(bitwise right shift)\r\n",
    "가 있다.\r\n",
    "\r\n",
    "예를 들어 3과 5가 입력되었을 때를 살펴보면\r\n",
    "3       : 00000000 00000000 00000000 00000011\r\n",
    "5       : 00000000 00000000 00000000 00000101\r\n",
    "3 ^ 5 : 00000000 00000000 00000000 00000110\r\n",
    "이 된다.\r\n",
    "이러한 비트단위 연산은 빠른 계산이 필요한 그래픽처리에서도 효과적으로 사용된다.\r\n",
    "\r\n",
    "구체적으로 설명하자면,\r\n",
    "두 장의 이미지가 겹쳐졌을 때 색이 서로 다른 부분만 처리할 수 있다.\r\n",
    "배경이 되는 그림과 배경 위에서 움직이는 그림이 있을 때,\r\n",
    "두 그림에서 차이만 골라내 배경 위에서 움직이는 그림의 색으로 바꿔주면\r\n",
    "전체 그림을 구성하는 모든 점들의 색을 다시 계산해 입히지 않고\r\n",
    "보다 효과적으로 그림을 처리할 수 있게 되는 것이다.\r\n",
    "비행기 슈팅게임 등을 상상해보면 된다."
   ]
  },
  {
   "cell_type": "code",
   "execution_count": 22,
   "id": "d2b15aa9-09a6-4abc-a3b1-7c6bef14ff72",
   "metadata": {},
   "outputs": [
    {
     "name": "stdin",
     "output_type": "stream",
     "text": [
      " 3 5\n"
     ]
    },
    {
     "name": "stdout",
     "output_type": "stream",
     "text": [
      "6\n"
     ]
    }
   ],
   "source": [
    "a,b = input().split()\n",
    "a = int(a)\n",
    "b = int(b)\n",
    "print(a ^ b)"
   ]
  },
  {
   "cell_type": "code",
   "execution_count": null,
   "id": "cb16642c-7bf5-4e43-8672-f301ce336fc3",
   "metadata": {},
   "outputs": [],
   "source": []
  }
 ],
 "metadata": {
  "kernelspec": {
   "display_name": "Python 3 (ipykernel)",
   "language": "python",
   "name": "python3"
  },
  "language_info": {
   "codemirror_mode": {
    "name": "ipython",
    "version": 3
   },
   "file_extension": ".py",
   "mimetype": "text/x-python",
   "name": "python",
   "nbconvert_exporter": "python",
   "pygments_lexer": "ipython3",
   "version": "3.11.7"
  }
 },
 "nbformat": 4,
 "nbformat_minor": 5
}
