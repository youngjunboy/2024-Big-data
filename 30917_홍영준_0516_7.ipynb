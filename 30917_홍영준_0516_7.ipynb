{
 "cells": [
  {
   "cell_type": "markdown",
   "id": "bb62a277-be43-47f1-86af-775b7948cdde",
   "metadata": {},
   "source": [
    "# 30917_홍영준_0516_7"
   ]
  },
  {
   "cell_type": "markdown",
   "id": "2dbb2219-6d86-42cc-925b-5cf3327bcf78",
   "metadata": {},
   "source": [
    "# 이차원 리스트"
   ]
  },
  {
   "cell_type": "code",
   "execution_count": 2,
   "id": "c8e650ff-f221-43ff-8b65-83c37679dc3f",
   "metadata": {},
   "outputs": [
    {
     "name": "stdout",
     "output_type": "stream",
     "text": [
      "[[1, 2, 3], [4, 5, 6], [7, 8, 9]]\n"
     ]
    }
   ],
   "source": [
    "abc = [[1,2,3],[4,5,6],[7,8,9]]\n",
    "print(abc)"
   ]
  },
  {
   "cell_type": "code",
   "execution_count": 3,
   "id": "ea32ec7d-c5ae-4049-b101-cf352707a4ae",
   "metadata": {},
   "outputs": [
    {
     "name": "stdout",
     "output_type": "stream",
     "text": [
      "[1, 2, 3]\n",
      "[4, 5, 6]\n",
      "[7, 8, 9]\n"
     ]
    }
   ],
   "source": [
    "for row in abc:\n",
    "    print(row)"
   ]
  },
  {
   "cell_type": "code",
   "execution_count": 4,
   "id": "d4cd6662-6b2d-47d4-8147-50508a5d9603",
   "metadata": {},
   "outputs": [
    {
     "name": "stdout",
     "output_type": "stream",
     "text": [
      "1\n"
     ]
    }
   ],
   "source": [
    "print(abc[0][0])"
   ]
  },
  {
   "cell_type": "code",
   "execution_count": 5,
   "id": "d6b2fc59-345a-4d7f-9c29-b88e3733ed9f",
   "metadata": {},
   "outputs": [
    {
     "name": "stdout",
     "output_type": "stream",
     "text": [
      "6\n"
     ]
    }
   ],
   "source": [
    "print(abc[1][2])"
   ]
  },
  {
   "cell_type": "code",
   "execution_count": 6,
   "id": "6f172c72-0fca-4041-87fa-c501958128f5",
   "metadata": {},
   "outputs": [
    {
     "name": "stdout",
     "output_type": "stream",
     "text": [
      "1\n",
      "4\n",
      "7\n"
     ]
    }
   ],
   "source": [
    "for row in abc:\n",
    "    print(row[0])"
   ]
  },
  {
   "cell_type": "code",
   "execution_count": 8,
   "id": "38bc22e8-b7ee-472e-b9e5-cd5b6e20cf5c",
   "metadata": {},
   "outputs": [
    {
     "name": "stdout",
     "output_type": "stream",
     "text": [
      "3\n",
      "6\n",
      "9\n"
     ]
    }
   ],
   "source": [
    "for row in abc:\n",
    "    print(row[-1])"
   ]
  },
  {
   "cell_type": "markdown",
   "id": "231cf262-b8b3-4f0c-942f-904f12d41233",
   "metadata": {},
   "source": [
    "# 이차원 리스트로 간단한 프로그램 만들기"
   ]
  },
  {
   "cell_type": "code",
   "execution_count": 9,
   "id": "474d1970-ebd6-4e81-97bb-d507d9075f58",
   "metadata": {},
   "outputs": [],
   "source": [
    "card = [['2020.03.04 18:56','주식회사 카카오페이',1000],\n",
    "        ['2020.03.03 14:54','네이버페이',51100],\n",
    "        ['2020.03.02 12:13','스타벅스코리아',10000],\n",
    "        ['2020.03.01 15:49','11번가',27500],\n",
    "        ['2020.02.26 11:40','주식회사 카카오페이',32500],\n",
    "        ['2020.02.26 11:38','주식회사 카카오페이',32500],\n",
    "        ['2020.02.22 15:00','G마켓',81500],\n",
    "        ['2020.02.22 15:15','네이버페이',131000]]"
   ]
  },
  {
   "cell_type": "code",
   "execution_count": 10,
   "id": "3c29ee7d-b744-4faf-ab3b-ee72fa4db27b",
   "metadata": {},
   "outputs": [
    {
     "name": "stdout",
     "output_type": "stream",
     "text": [
      "['2020.03.04 18:56', '주식회사 카카오페이', 1000]\n",
      "['2020.03.01 15:49', '11번가', 27500]\n"
     ]
    }
   ],
   "source": [
    "print(card[0])\n",
    "print(card[3])"
   ]
  },
  {
   "cell_type": "code",
   "execution_count": 11,
   "id": "45452ada-5c63-47de-9c43-71e4a5b7483b",
   "metadata": {},
   "outputs": [
    {
     "name": "stdout",
     "output_type": "stream",
     "text": [
      "주식회사 카카오페이\n",
      "11번가\n"
     ]
    }
   ],
   "source": [
    "print(card[0][1])\n",
    "print(card[3][1])"
   ]
  },
  {
   "cell_type": "code",
   "execution_count": 12,
   "id": "4d36712c-0b47-4e67-a793-8951ef544bf8",
   "metadata": {},
   "outputs": [],
   "source": [
    "olympic = [[1,'미국',46,37,38,121],\n",
    "          [2,'영국',27,23,17,67],\n",
    "          [3,'중국',26,18,26,70],\n",
    "          [4,'러시아',19,18,19,56],\n",
    "          [5,'독일',17,10,15,42],\n",
    "          [6,'일본',12,8,21,41],\n",
    "          [7,'프랑스',10,18,14,42],\n",
    "          [8,'대한민국',9,3,9,21]]"
   ]
  },
  {
   "cell_type": "code",
   "execution_count": 16,
   "id": "08da4edf-4f32-4203-ac64-081121ddf99f",
   "metadata": {},
   "outputs": [
    {
     "name": "stdout",
     "output_type": "stream",
     "text": [
      "미국 금메달 개수 : 46\n",
      "독일 금메달 개수 : 17\n"
     ]
    }
   ],
   "source": [
    "print(f'{olympic[0][1]} 금메달 개수 : {olympic[0][2]}')\n",
    "print(f'{olympic[4][1]} 금메달 개수 : {olympic[4][2]}')"
   ]
  },
  {
   "cell_type": "code",
   "execution_count": 17,
   "id": "b50a50bc-ed3e-4c12-80fd-fa063ac70ebe",
   "metadata": {},
   "outputs": [
    {
     "name": "stdout",
     "output_type": "stream",
     "text": [
      "[1, '미국']\n",
      "[2, '영국']\n",
      "[3, '중국']\n",
      "[4, '러시아']\n",
      "[5, '독일']\n",
      "[6, '일본']\n",
      "[7, '프랑스']\n",
      "[8, '대한민국']\n"
     ]
    }
   ],
   "source": [
    "for row in olympic:\n",
    "    print(row[:2])"
   ]
  },
  {
   "cell_type": "code",
   "execution_count": 27,
   "id": "6ae97bc7-700b-4b43-b920-555602c2caee",
   "metadata": {},
   "outputs": [
    {
     "name": "stdout",
     "output_type": "stream",
     "text": [
      "금메달보다 은메달이 더 많은 나라?\n",
      "프랑스\n"
     ]
    }
   ],
   "source": [
    "print('금메달보다 은메달이 더 많은 나라?')\n",
    "for row in olympic:\n",
    "    if row[2] < row[3]:\n",
    "        print(row[1])"
   ]
  }
 ],
 "metadata": {
  "kernelspec": {
   "display_name": "Python 3 (ipykernel)",
   "language": "python",
   "name": "python3"
  },
  "language_info": {
   "codemirror_mode": {
    "name": "ipython",
    "version": 3
   },
   "file_extension": ".py",
   "mimetype": "text/x-python",
   "name": "python",
   "nbconvert_exporter": "python",
   "pygments_lexer": "ipython3",
   "version": "3.11.7"
  }
 },
 "nbformat": 4,
 "nbformat_minor": 5
}
