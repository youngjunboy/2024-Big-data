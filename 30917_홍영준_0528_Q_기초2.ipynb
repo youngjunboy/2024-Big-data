{
 "cells": [
  {
   "cell_type": "markdown",
   "id": "d413e6d7",
   "metadata": {},
   "source": [
    "# 30917_홍영준_0528_Q_기초2"
   ]
  },
  {
   "cell_type": "markdown",
   "id": "1bc82dfc",
   "metadata": {},
   "source": [
    "# 1110 : 정수 그대로 출력하기\n",
    "입력받은 정수를 그대로 출력한다.\n",
    "\n",
    "(scanf앞에 불필요한 안내 문구를 출력하지 않도록 합니다.)"
   ]
  },
  {
   "cell_type": "code",
   "execution_count": 11,
   "id": "4fcaaac9",
   "metadata": {},
   "outputs": [
    {
     "name": "stdout",
     "output_type": "stream",
     "text": [
      "89\n",
      "89\n"
     ]
    }
   ],
   "source": [
    "n = int(input())\n",
    "print(n)"
   ]
  },
  {
   "cell_type": "markdown",
   "id": "6eebab45",
   "metadata": {},
   "source": [
    "# 1111 : %출력\n",
    "어떤 정수가 입력되면 %를 붙여 출력하시오."
   ]
  },
  {
   "cell_type": "code",
   "execution_count": 12,
   "id": "02587d01",
   "metadata": {},
   "outputs": [
    {
     "name": "stdout",
     "output_type": "stream",
     "text": [
      "99\n",
      "99%\n"
     ]
    }
   ],
   "source": [
    "n1 = input()\n",
    "print(n1+\"%\")"
   ]
  },
  {
   "cell_type": "markdown",
   "id": "06291dc0",
   "metadata": {},
   "source": [
    "# 1112 : 두 정수 출력\n",
    "입력 받은 두 정수를 출력한다."
   ]
  },
  {
   "cell_type": "code",
   "execution_count": 15,
   "id": "58403cb0",
   "metadata": {
    "scrolled": true
   },
   "outputs": [
    {
     "name": "stdout",
     "output_type": "stream",
     "text": [
      "455 398\n",
      "455 398\n"
     ]
    }
   ],
   "source": [
    "a,b = map(int,input().split())\n",
    "print(a,b)"
   ]
  },
  {
   "cell_type": "markdown",
   "id": "f9697cc4",
   "metadata": {},
   "source": [
    "# 1113 : 바꿔서 출력하기\n",
    "두 정수를 입력받아 순서를 바꿔서 출력하시오."
   ]
  },
  {
   "cell_type": "code",
   "execution_count": 16,
   "id": "16845c0b",
   "metadata": {},
   "outputs": [
    {
     "name": "stdout",
     "output_type": "stream",
     "text": [
      "24 66\n",
      "66 24\n"
     ]
    }
   ],
   "source": [
    "a,b = map(int,input().split())\n",
    "print(b,a)"
   ]
  },
  {
   "cell_type": "markdown",
   "id": "f5836f61",
   "metadata": {},
   "source": [
    "# 1114 : 두 정수의 덧셈\n",
    "두 정수를 입력받아 합을 출력한다."
   ]
  },
  {
   "cell_type": "code",
   "execution_count": 17,
   "id": "0bed000f",
   "metadata": {},
   "outputs": [
    {
     "name": "stdout",
     "output_type": "stream",
     "text": [
      "421 626\n",
      "1047\n"
     ]
    }
   ],
   "source": [
    "a,b = map(int,input().split())\n",
    "print(a+b)"
   ]
  },
  {
   "cell_type": "code",
   "execution_count": null,
   "id": "26d3c152",
   "metadata": {},
   "outputs": [],
   "source": []
  }
 ],
 "metadata": {
  "kernelspec": {
   "display_name": "Python 3 (ipykernel)",
   "language": "python",
   "name": "python3"
  },
  "language_info": {
   "codemirror_mode": {
    "name": "ipython",
    "version": 3
   },
   "file_extension": ".py",
   "mimetype": "text/x-python",
   "name": "python",
   "nbconvert_exporter": "python",
   "pygments_lexer": "ipython3",
   "version": "3.9.7"
  }
 },
 "nbformat": 4,
 "nbformat_minor": 5
}
