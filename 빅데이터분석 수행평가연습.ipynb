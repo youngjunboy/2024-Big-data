{
 "cells": [
  {
   "cell_type": "markdown",
   "id": "d86e40dc-345a-47ca-9561-08849747068c",
   "metadata": {},
   "source": [
    "# 빅데이터분석 수행평가연습"
   ]
  },
  {
   "cell_type": "markdown",
   "id": "cd841d25-e488-4f56-9b92-1c1b96d41a8e",
   "metadata": {},
   "source": [
    "# 1. 1부터 1000까지 숫자 중에서 2의 배수이거나 3의 배수면 더하는 프로그램"
   ]
  },
  {
   "cell_type": "markdown",
   "id": "5f314de2-64b2-46a4-8808-361e347a49b5",
   "metadata": {},
   "source": [
    "## for 문"
   ]
  },
  {
   "cell_type": "code",
   "execution_count": 1,
   "id": "088f89e0-bfd1-4b5f-ae73-adb8936f4c35",
   "metadata": {},
   "outputs": [
    {
     "name": "stdout",
     "output_type": "stream",
     "text": [
      "1부터 1000까지 2의배수와 3의배수의 합은? 334167\n"
     ]
    }
   ],
   "source": [
    "sum = 0   # 결과를 저장할 변수 초기화\n",
    "for i in range(1,1001):   # 1, 1000 까지 반복\n",
    "    if i%2==0 or i%3==0:   # 2의 배수이거나 3의 배수일 때\n",
    "        sum += i   # 2의 배수, 3의 배수를 sum 변수에 더해나감\n",
    "print(f'1부터 1000까지 2의배수와 3의배수의 합은? {sum}')   # sum변수를 print하여 결과 출력"
   ]
  },
  {
   "cell_type": "markdown",
   "id": "e7ea9332-ab14-4471-977f-78844bbfbb7d",
   "metadata": {},
   "source": [
    "## while 문"
   ]
  },
  {
   "cell_type": "code",
   "execution_count": 2,
   "id": "5e8cba61-5628-4c32-a0d4-d931e03773fd",
   "metadata": {},
   "outputs": [
    {
     "name": "stdout",
     "output_type": "stream",
     "text": [
      "1부터 1000까지 2의배수와 3의배수의 합은? 334167\n"
     ]
    }
   ],
   "source": [
    "sum = 0   # 결과를 저장할 변수 초기화\n",
    "num = 1   # 시작숫자 설정\n",
    "while num <= 1000:   # num(1)부터 1000까지 반복\n",
    "    if num % 2 == 0 or num % 3 == 0:   # 2의 배수이거나 3의 배수일 때\n",
    "        sum += num   # 2의 배수, 3의 배수를 sum 변수에 더해나감\n",
    "    num += 1   # num 변수에 1을 더함\n",
    "print(f'1부터 1000까지 2의배수와 3의배수의 합은? {sum}')   # sum변수를 print하여 결과 출력"
   ]
  },
  {
   "cell_type": "markdown",
   "id": "2f70f7ab-e257-40e6-a6f2-1f03a703f411",
   "metadata": {},
   "source": [
    "# 2. 구구단을 외자~~~"
   ]
  },
  {
   "cell_type": "code",
   "execution_count": 4,
   "id": "109a5cc4-ef2f-4f11-86f4-810c0e3b1c17",
   "metadata": {},
   "outputs": [
    {
     "name": "stdout",
     "output_type": "stream",
     "text": [
      "구구단을 외자! 구구단을 외자!\n",
      "4 X 6 = ?\n"
     ]
    },
    {
     "name": "stdin",
     "output_type": "stream",
     "text": [
      " 24\n"
     ]
    },
    {
     "name": "stdout",
     "output_type": "stream",
     "text": [
      "정답!\n",
      "2 X 8 = ?\n"
     ]
    },
    {
     "name": "stdin",
     "output_type": "stream",
     "text": [
      " 16\n"
     ]
    },
    {
     "name": "stdout",
     "output_type": "stream",
     "text": [
      "정답!\n",
      "7 X 2 = ?\n"
     ]
    },
    {
     "name": "stdin",
     "output_type": "stream",
     "text": [
      " 36\n"
     ]
    },
    {
     "name": "stdout",
     "output_type": "stream",
     "text": [
      "땡!!\n",
      "8 X 7 = ?\n"
     ]
    },
    {
     "name": "stdin",
     "output_type": "stream",
     "text": [
      " 92\n"
     ]
    },
    {
     "name": "stdout",
     "output_type": "stream",
     "text": [
      "땡!!\n",
      "2 X 6 = ?\n"
     ]
    },
    {
     "name": "stdin",
     "output_type": "stream",
     "text": [
      " 12\n"
     ]
    },
    {
     "name": "stdout",
     "output_type": "stream",
     "text": [
      "정답!\n",
      "4 X 7 = ?\n"
     ]
    },
    {
     "name": "stdin",
     "output_type": "stream",
     "text": [
      " 34\n"
     ]
    },
    {
     "name": "stdout",
     "output_type": "stream",
     "text": [
      "땡!!\n",
      "5 X 7 = ?\n"
     ]
    },
    {
     "name": "stdin",
     "output_type": "stream",
     "text": [
      " 2\n"
     ]
    },
    {
     "name": "stdout",
     "output_type": "stream",
     "text": [
      "땡!!\n",
      "2 X 7 = ?\n"
     ]
    },
    {
     "name": "stdin",
     "output_type": "stream",
     "text": [
      " 46\n"
     ]
    },
    {
     "name": "stdout",
     "output_type": "stream",
     "text": [
      "땡!!\n",
      "9 X 3 = ?\n"
     ]
    },
    {
     "name": "stdin",
     "output_type": "stream",
     "text": [
      " 24\n"
     ]
    },
    {
     "name": "stdout",
     "output_type": "stream",
     "text": [
      "땡!!\n",
      "7 X 7 = ?\n"
     ]
    },
    {
     "name": "stdin",
     "output_type": "stream",
     "text": [
      " 49\n"
     ]
    },
    {
     "name": "stdout",
     "output_type": "stream",
     "text": [
      "정답!\n",
      "맞은 횟수 : 4, 틀린 횟수 : 6\n",
      "틀린 횟수가 더 많네요. 열심히 노력해 보세요!!\n"
     ]
    }
   ],
   "source": [
    "import random\n",
    "print('구구단을 외자! 구구단을 외자!')\n",
    "t_cnt = 0\n",
    "f_cnt = 0\n",
    "for i in range(10):\n",
    "    a = random.randint(2,9)\n",
    "    b = random.randint(1,9)\n",
    "    print('{} X {} = ?' .format(a,b))\n",
    "    answer = int(input(''))\n",
    "    if a*b == answer :\n",
    "        print(\"정답!\")\n",
    "        t_cnt = t_cnt + 1\n",
    "    else:\n",
    "        print(\"땡!!\")\n",
    "        f_cnt = f_cnt + 1\n",
    "print(\"맞은 횟수 : {}, 틀린 횟수 : {}\" .format(t_cnt, f_cnt))\n",
    "if t_cnt>f_cnt:\n",
    "    print(\"맞은 횟수가 더 많네요. 수고하셨습니다.\")\n",
    "elif t_cnt<f_cnt:\n",
    "    print(\"틀린 횟수가 더 많네요. 열심히 노력해 보세요!!\")\n",
    "else:\n",
    "    print(\"맞은 횟수와 틀린 횟수가 같네요. 조금 더 노력해 보세요!\")"
   ]
  },
  {
   "cell_type": "markdown",
   "id": "2be9accd-738d-46ef-9104-8d9c666d2930",
   "metadata": {},
   "source": [
    "# 3. 가계부 만들기 프로그램"
   ]
  },
  {
   "cell_type": "code",
   "execution_count": 5,
   "id": "98a79694-d2d3-4b91-bc46-c2cd8e2805fc",
   "metadata": {},
   "outputs": [
    {
     "name": "stdout",
     "output_type": "stream",
     "text": [
      "월 별로 수입액을 입력시켜 주세요!\n",
      "1 월의 수입액을 입력시켜 주세요\n"
     ]
    },
    {
     "name": "stdin",
     "output_type": "stream",
     "text": [
      " 340\n"
     ]
    },
    {
     "name": "stdout",
     "output_type": "stream",
     "text": [
      "2 월의 수입액을 입력시켜 주세요\n"
     ]
    },
    {
     "name": "stdin",
     "output_type": "stream",
     "text": [
      " 280\n"
     ]
    },
    {
     "name": "stdout",
     "output_type": "stream",
     "text": [
      "3 월의 수입액을 입력시켜 주세요\n"
     ]
    },
    {
     "name": "stdin",
     "output_type": "stream",
     "text": [
      " 310\n"
     ]
    },
    {
     "name": "stdout",
     "output_type": "stream",
     "text": [
      "4 월의 수입액을 입력시켜 주세요\n"
     ]
    },
    {
     "name": "stdin",
     "output_type": "stream",
     "text": [
      " 410\n"
     ]
    },
    {
     "name": "stdout",
     "output_type": "stream",
     "text": [
      "5 월의 수입액을 입력시켜 주세요\n"
     ]
    },
    {
     "name": "stdin",
     "output_type": "stream",
     "text": [
      " 290\n"
     ]
    },
    {
     "name": "stdout",
     "output_type": "stream",
     "text": [
      "6 월의 수입액을 입력시켜 주세요\n"
     ]
    },
    {
     "name": "stdin",
     "output_type": "stream",
     "text": [
      " 310\n"
     ]
    },
    {
     "name": "stdout",
     "output_type": "stream",
     "text": [
      "상반기 월별 수입액 입니다.\n",
      "상반기 월 수입액의 합계는 1940 만원 입니다.\n",
      "상반기 월 수입액의 평균은 323 만원 입니다.\n"
     ]
    }
   ],
   "source": [
    "money = []   # 월별 수입을 저장할 리스트를 초기화합니다.\n",
    "print('월 별로 수입액을 입력시켜 주세요!')   \n",
    "for j in range(0,6) :\n",
    "    print((j+1), '월의 수입액을 입력시켜 주세요')\n",
    "    money.append(int(input('')))   # 사용자로부터 수입을 입력 받아 리스트에 추가합니다.\n",
    "    \n",
    "sum = 0   # 총 수입을 저장할 변수를 초기화합니다.\n",
    "i = 0\n",
    "\n",
    "print('상반기 월별 수입액 입니다.')\n",
    "while i<6 :\n",
    "    sum = money[i] + sum   # 리스트의 각 항목을 더해 총 수입을 계산합니다.\n",
    "    i = i+1\n",
    "\n",
    "avg = sum // 6   # 평균을 계산합니다.\n",
    "\n",
    "print(f'상반기 월 수입액의 합계는 {sum} 만원 입니다.')\n",
    "print(f'상반기 월 수입액의 평균은 {avg} 만원 입니다.')"
   ]
  },
  {
   "cell_type": "markdown",
   "id": "76384189-5c2c-4c7c-93da-08c7a8962a67",
   "metadata": {},
   "source": [
    "# 4. 무작위로 입력된 점수 리스트에 70점 이상인 번호와 값 출력하기"
   ]
  },
  {
   "cell_type": "code",
   "execution_count": 6,
   "id": "e12ee81a-bbd7-4a75-82f6-2e0cffad6f9a",
   "metadata": {},
   "outputs": [
    {
     "name": "stdout",
     "output_type": "stream",
     "text": [
      "리스트에 점수가 70점 이상인 번호와 값 출력하기\n",
      "2 번 82\n",
      "4 번 79\n",
      "11 번 99\n",
      "12 번 87\n",
      "13 번 78\n",
      "15 번 85\n",
      "18 번 95\n",
      "19 번 100\n",
      "15 번 85\n",
      "23 번 92\n"
     ]
    }
   ],
   "source": [
    "import random\n",
    "\n",
    "score = []   # 점수를 저장할 리스트를 초기화 합니다.\n",
    "\n",
    "# 25명의 학생들에게 무작위로 점수를 부여합니다.\n",
    "for i in range(0, 25) :\n",
    "    score.append(random.randint(0, 100))   \n",
    "print('리스트에 점수가 70점 이상인 번호와 값 출력하기')   \n",
    "\n",
    "# 리스트에서 70점 이상인 점수를 가진 학생들의 번화와 점수를 출력합니다.\n",
    "for s in score :\n",
    "    if s>=70:\n",
    "        print(score.index(s)+1, '번', s)   # 인덱스값이 0부터 시작이므로 + 1"
   ]
  },
  {
   "cell_type": "markdown",
   "id": "b378a7da-96b9-4ae6-a0c1-3a1a57209d66",
   "metadata": {},
   "source": [
    "# 5. 지하철 게임 만들기"
   ]
  },
  {
   "cell_type": "code",
   "execution_count": 8,
   "id": "83678f20-9cd7-42c7-a041-f2ac6dab22e0",
   "metadata": {},
   "outputs": [
    {
     "name": "stdout",
     "output_type": "stream",
     "text": [
      "지하철~♪♬지하철~♪♬지하철~♪♬지하철~♪♬\n"
     ]
    },
    {
     "name": "stdin",
     "output_type": "stream",
     "text": [
      "몇호선? 팔호선\n",
      " 단대오거리\n",
      " 산성\n",
      " 복정\n",
      " 문정\n",
      " 장지\n",
      " 석촌\n",
      " 송파\n",
      " 여의도\n"
     ]
    },
    {
     "name": "stdout",
     "output_type": "stream",
     "text": [
      "땡! 해당 역은 팔호선 이 아닙니다!\n",
      "벌칙 당첨!!\n"
     ]
    }
   ],
   "source": [
    "신분당선 = ['광교','광교중앙','상현','성복','수지구청','동천','미금','정자','판교','청계산입구','양재시민의숲','양재','강남']\n",
    "\n",
    "팔호선 = ['모란','수진','신흥','단대오거리','남한산성입구','산성','남위례','복정','장지','문정','가락시장','송파','석촌','잠실','몽촌토성','강동구청','천호','암사']\n",
    "\n",
    "print('지하철~♪♬' * 4)\n",
    "\n",
    "# 사용자로부터 호선을 입력받습니다.\n",
    "호선 = input('몇호선?')\n",
    "\n",
    "# 입력된 호선에 따라 해당 호선의 역이름을 입력받고, 입력된 역이 해당 호선에 속하는지 확인합니다.\n",
    "for i in range(10) :\n",
    "    if 호선 == '신분당선' :\n",
    "        입력 = input()\n",
    "        if 입력 not in 신분당선:\n",
    "            print('땡! 해당 역은', 호선, '이 아닙니다!')\n",
    "            print('벌칙 당첨!!')\n",
    "            break\n",
    "    elif 호선 == '팔호선':\n",
    "        입력 = input()\n",
    "        if 입력 not in 팔호선:\n",
    "            print('땡! 해당 역은', 호선, '이 아닙니다!')\n",
    "            print('벌칙 당첨!!')\n",
    "            break"
   ]
  },
  {
   "cell_type": "markdown",
   "id": "7fd6b7cb-d6b5-4db3-8805-76afc650f96b",
   "metadata": {},
   "source": [
    "# 1. 1부터 1000까지 숫자 중에서 2의 배수이거나 3의 배수면 더하는 프로그램"
   ]
  },
  {
   "cell_type": "markdown",
   "id": "adc0eea5-e40e-4eee-b0fe-b4cd36171cd3",
   "metadata": {},
   "source": [
    "## for 문"
   ]
  },
  {
   "cell_type": "code",
   "execution_count": 12,
   "id": "ab4e445c-f22c-4df9-b22f-2f0cbc57fc82",
   "metadata": {},
   "outputs": [
    {
     "name": "stdout",
     "output_type": "stream",
     "text": [
      "334167\n"
     ]
    }
   ],
   "source": [
    "sum = 0\n",
    "\n",
    "for i in range(1,1001) :\n",
    "    if i%2 == 0 or i%3 == 0:\n",
    "        sum += i\n",
    "print(sum)"
   ]
  },
  {
   "cell_type": "markdown",
   "id": "023dbdae-2729-4b26-adbd-451d3cd2a021",
   "metadata": {},
   "source": [
    "## while 문"
   ]
  },
  {
   "cell_type": "code",
   "execution_count": 16,
   "id": "5ae7878b-7b0d-497c-9452-5641caed591c",
   "metadata": {},
   "outputs": [
    {
     "name": "stdout",
     "output_type": "stream",
     "text": [
      "334167\n"
     ]
    }
   ],
   "source": [
    "sum = 0\n",
    "i = 1\n",
    "\n",
    "while i <= 1000 :\n",
    "    if i%2 == 0 or i%3 == 0:\n",
    "        sum += i\n",
    "    i += 1\n",
    "print(sum)"
   ]
  },
  {
   "cell_type": "markdown",
   "id": "b6b58f96-cf9f-4cdb-9001-f5ce5c58fa48",
   "metadata": {},
   "source": [
    "# 2. 구구단을 외자~~~"
   ]
  },
  {
   "cell_type": "code",
   "execution_count": 21,
   "id": "2947472e-76ba-4d93-9935-04ced7fd4080",
   "metadata": {},
   "outputs": [
    {
     "name": "stdout",
     "output_type": "stream",
     "text": [
      "구구단을 외자! 구구단을 외자! \n",
      "9 X 9 = \n"
     ]
    },
    {
     "name": "stdin",
     "output_type": "stream",
     "text": [
      " 81\n"
     ]
    },
    {
     "name": "stdout",
     "output_type": "stream",
     "text": [
      "정답!\n",
      "6 X 9 = \n"
     ]
    },
    {
     "name": "stdin",
     "output_type": "stream",
     "text": [
      " 4\n"
     ]
    },
    {
     "name": "stdout",
     "output_type": "stream",
     "text": [
      "땡!!\n",
      "2 X 4 = \n"
     ]
    },
    {
     "name": "stdin",
     "output_type": "stream",
     "text": [
      " 8\n"
     ]
    },
    {
     "name": "stdout",
     "output_type": "stream",
     "text": [
      "정답!\n",
      "4 X 8 = \n"
     ]
    },
    {
     "name": "stdin",
     "output_type": "stream",
     "text": [
      " 32\n"
     ]
    },
    {
     "name": "stdout",
     "output_type": "stream",
     "text": [
      "정답!\n",
      "4 X 4 = \n"
     ]
    },
    {
     "name": "stdin",
     "output_type": "stream",
     "text": [
      " 16\n"
     ]
    },
    {
     "name": "stdout",
     "output_type": "stream",
     "text": [
      "정답!\n",
      "8 X 1 = \n"
     ]
    },
    {
     "name": "stdin",
     "output_type": "stream",
     "text": [
      " 8\n"
     ]
    },
    {
     "name": "stdout",
     "output_type": "stream",
     "text": [
      "정답!\n",
      "8 X 5 = \n"
     ]
    },
    {
     "name": "stdin",
     "output_type": "stream",
     "text": [
      " 40\n"
     ]
    },
    {
     "name": "stdout",
     "output_type": "stream",
     "text": [
      "정답!\n",
      "4 X 2 = \n"
     ]
    },
    {
     "name": "stdin",
     "output_type": "stream",
     "text": [
      " 9\n"
     ]
    },
    {
     "name": "stdout",
     "output_type": "stream",
     "text": [
      "땡!!\n",
      "2 X 8 = \n"
     ]
    },
    {
     "name": "stdin",
     "output_type": "stream",
     "text": [
      " 4\n"
     ]
    },
    {
     "name": "stdout",
     "output_type": "stream",
     "text": [
      "땡!!\n",
      "8 X 6 = \n"
     ]
    },
    {
     "name": "stdin",
     "output_type": "stream",
     "text": [
      " 50\n"
     ]
    },
    {
     "name": "stdout",
     "output_type": "stream",
     "text": [
      "땡!!\n",
      "맞은횟수 : 6\n",
      "틀린횟수 : 4\n"
     ]
    }
   ],
   "source": [
    "import random\n",
    "\n",
    "print('구구단을 외자! ' * 2)\n",
    "\n",
    "o = 0\n",
    "x = 0\n",
    "\n",
    "for l in range(10) :\n",
    "    i = random.randint(2,9)\n",
    "    j = random.randint(1,9)\n",
    "    print(f'{i} X {j} = ')\n",
    "    q = int(input())\n",
    "    if q == i*j :\n",
    "        print('정답!')\n",
    "        o += 1\n",
    "    else :\n",
    "        print('땡!!')\n",
    "        x += 1\n",
    "print(f'맞은횟수 : {o}')\n",
    "print(f'틀린횟수 : {x}')"
   ]
  },
  {
   "cell_type": "markdown",
   "id": "7ec1e698-fc29-426d-9c7f-f8b37bf79324",
   "metadata": {},
   "source": [
    "# 3. 가계부 만들기 프로그램"
   ]
  },
  {
   "cell_type": "code",
   "execution_count": 29,
   "id": "c8fb0f37-a60a-43ab-9761-c98bdf686738",
   "metadata": {},
   "outputs": [
    {
     "name": "stdout",
     "output_type": "stream",
     "text": [
      "1월 달 소득\n"
     ]
    },
    {
     "name": "stdin",
     "output_type": "stream",
     "text": [
      " 340\n"
     ]
    },
    {
     "name": "stdout",
     "output_type": "stream",
     "text": [
      "2월 달 소득\n"
     ]
    },
    {
     "name": "stdin",
     "output_type": "stream",
     "text": [
      " 410\n"
     ]
    },
    {
     "name": "stdout",
     "output_type": "stream",
     "text": [
      "3월 달 소득\n"
     ]
    },
    {
     "name": "stdin",
     "output_type": "stream",
     "text": [
      " 370\n"
     ]
    },
    {
     "name": "stdout",
     "output_type": "stream",
     "text": [
      "4월 달 소득\n"
     ]
    },
    {
     "name": "stdin",
     "output_type": "stream",
     "text": [
      " 260\n"
     ]
    },
    {
     "name": "stdout",
     "output_type": "stream",
     "text": [
      "5월 달 소득\n"
     ]
    },
    {
     "name": "stdin",
     "output_type": "stream",
     "text": [
      " 190\n"
     ]
    },
    {
     "name": "stdout",
     "output_type": "stream",
     "text": [
      "6월 달 소득\n"
     ]
    },
    {
     "name": "stdin",
     "output_type": "stream",
     "text": [
      " 430\n"
     ]
    },
    {
     "name": "stdout",
     "output_type": "stream",
     "text": [
      "상반기 월 수입액의 합계는 2000 만원 입니다.\n",
      "상반기 월 수입액의 평균은 333 만원 입니다.\n"
     ]
    }
   ],
   "source": [
    "sum = 0\n",
    "\n",
    "for i in range(1,7) :\n",
    "    print(f'{i}월 달 소득')\n",
    "    n = int(input())\n",
    "    sum += n\n",
    "\n",
    "avg = sum // 6\n",
    "\n",
    "print(f'상반기 월 수입액의 합계는 {sum} 만원 입니다.')\n",
    "print(f'상반기 월 수입액의 평균은 {avg} 만원 입니다.')"
   ]
  },
  {
   "cell_type": "markdown",
   "id": "a4438e05-46a1-4ccf-b93b-736cb1f4202b",
   "metadata": {},
   "source": [
    "# 4. 무작위로 입력된 점수 리스트에 70점 이상인 번호와 값 출력하기"
   ]
  },
  {
   "cell_type": "code",
   "execution_count": 31,
   "id": "099262c1-ed41-4d02-b8f0-8c07029dfaf4",
   "metadata": {},
   "outputs": [],
   "source": [
    "import random\n",
    "\n",
    "my_list = []\n",
    "for i in range(0, 25):\n",
    "    o = random.randint(0,25)\n",
    "    my_list.append(o)\n",
    "    for j in my_list:\n",
    "        if j >= 70:\n",
    "            print(j)"
   ]
  }
 ],
 "metadata": {
  "kernelspec": {
   "display_name": "Python 3 (ipykernel)",
   "language": "python",
   "name": "python3"
  },
  "language_info": {
   "codemirror_mode": {
    "name": "ipython",
    "version": 3
   },
   "file_extension": ".py",
   "mimetype": "text/x-python",
   "name": "python",
   "nbconvert_exporter": "python",
   "pygments_lexer": "ipython3",
   "version": "3.11.7"
  }
 },
 "nbformat": 4,
 "nbformat_minor": 5
}
