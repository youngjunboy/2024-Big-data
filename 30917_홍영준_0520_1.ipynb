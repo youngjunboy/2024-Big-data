{
 "cells": [
  {
   "cell_type": "markdown",
   "id": "77644f8b-e45c-4281-ad53-20aa83016aa8",
   "metadata": {},
   "source": [
    "# 30917_홍영준_0520_1"
   ]
  },
  {
   "cell_type": "code",
   "execution_count": 1,
   "id": "bcf8de21-87d9-4904-b221-acff64faa311",
   "metadata": {},
   "outputs": [],
   "source": [
    "olympic = [[1,'미국',46,37,38,121],\n",
    "          [2,'영국',27,23,17,67],\n",
    "          [3,'중국',26,18,26,70],\n",
    "          [4,'러시아',19,18,19,56],\n",
    "          [5,'독일',17,10,15,42],\n",
    "          [6,'일본',12,8,21,41],\n",
    "          [7,'프랑스',10,18,14,42],\n",
    "          [8,'대한민국',9,3,9,21]]"
   ]
  },
  {
   "cell_type": "code",
   "execution_count": 3,
   "id": "8a74b0e7-2bcc-4eb7-b537-b768f807fd30",
   "metadata": {},
   "outputs": [
    {
     "name": "stdout",
     "output_type": "stream",
     "text": [
      "미국 금메달 개수 :  46\n",
      "독일 금메달 개수 :  17\n"
     ]
    }
   ],
   "source": [
    "print(olympic[0][1],'금메달 개수 : ', olympic[0][2])\n",
    "print(olympic[4][1],'금메달 개수 : ', olympic[4][2])"
   ]
  },
  {
   "cell_type": "code",
   "execution_count": 5,
   "id": "db607cac-5547-4bfe-959d-1dd3b55a0ec6",
   "metadata": {},
   "outputs": [
    {
     "name": "stdout",
     "output_type": "stream",
     "text": [
      "금메달보다 은메달이 더 많은 나라\n",
      "프랑스\n"
     ]
    }
   ],
   "source": [
    "# 금메달보다 은메달이 너 많은 나라 출력하기\n",
    "print('금메달보다 은메달이 더 많은 나라')\n",
    "for row in olympic:\n",
    "    if row[2] < row[3]:\n",
    "        print(row[1])"
   ]
  },
  {
   "cell_type": "code",
   "execution_count": 7,
   "id": "835caed7-629c-4161-9465-7d61cedbaef3",
   "metadata": {},
   "outputs": [
    {
     "name": "stdout",
     "output_type": "stream",
     "text": [
      "금메달보다 동메달이 더 많은 나라\n",
      "일본\n",
      "프랑스\n"
     ]
    }
   ],
   "source": [
    "# 금메달보다 동메달이 너 많은 나라 출력하기\n",
    "print('금메달보다 동메달이 더 많은 나라')\n",
    "for row in olympic:\n",
    "    if row[2] < row[4]:\n",
    "        print(row[1])"
   ]
  },
  {
   "cell_type": "code",
   "execution_count": 12,
   "id": "5e5f5fc9-04d3-40c9-93eb-caebf75dd243",
   "metadata": {},
   "outputs": [
    {
     "name": "stdout",
     "output_type": "stream",
     "text": [
      "금메달 전체 개수는?\n",
      "166\n"
     ]
    }
   ],
   "source": [
    "# 금메달 전체 개수를 출력하기\n",
    "print('금메달 전체 개수는?')\n",
    "total_gold = 0\n",
    "for row in olympic:\n",
    "    total_gold += row[2]\n",
    "print(total_gold)"
   ]
  },
  {
   "cell_type": "code",
   "execution_count": 17,
   "id": "7085597c-831d-4e4c-83f2-1e0f708e6d16",
   "metadata": {},
   "outputs": [
    {
     "name": "stdout",
     "output_type": "stream",
     "text": [
      "['어린왕자', '파이썬', '해리포터', '반지의제왕', '여행에세이', '메이즈러너']\n",
      "[22699, 17554, 18985, 22915, 17448, 20274]\n"
     ]
    }
   ],
   "source": [
    "import random\n",
    "\n",
    "book_name = [\"어린왕자\",\"파이썬\",\"해리포터\",\"반지의제왕\",\"여행에세이\",\"메이즈러너\"]\n",
    "book_price = []\n",
    "\n",
    "for i in range(len(book_name)):\n",
    "    book_price.append(random.randint(15000,25000))\n",
    "print(book_name)\n",
    "print(book_price)"
   ]
  },
  {
   "cell_type": "code",
   "execution_count": 22,
   "id": "e2de818a-5c79-4acb-8b61-fce48172a8b5",
   "metadata": {},
   "outputs": [
    {
     "name": "stdout",
     "output_type": "stream",
     "text": [
      "가장 비싼 책은?\n",
      "반지의제왕\n"
     ]
    }
   ],
   "source": [
    "# 사장 비싼 책은?\n",
    "print(\"가장 비싼 책은?\")\n",
    "expensive = max(book_price)\n",
    "idx = book_price.index(expensive)\n",
    "print(book_name[idx])"
   ]
  }
 ],
 "metadata": {
  "kernelspec": {
   "display_name": "Python 3 (ipykernel)",
   "language": "python",
   "name": "python3"
  },
  "language_info": {
   "codemirror_mode": {
    "name": "ipython",
    "version": 3
   },
   "file_extension": ".py",
   "mimetype": "text/x-python",
   "name": "python",
   "nbconvert_exporter": "python",
   "pygments_lexer": "ipython3",
   "version": "3.11.7"
  }
 },
 "nbformat": 4,
 "nbformat_minor": 5
}
