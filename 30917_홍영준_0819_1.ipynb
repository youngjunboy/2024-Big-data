{
 "cells": [
  {
   "cell_type": "markdown",
   "id": "2775d620-15e1-44f7-b863-d97464481182",
   "metadata": {},
   "source": [
    "# 데이터 프레임의 세계로!\n",
    "## 데이터 프레임 만들기 - 시험 성적 데이터를 만들어보자!\n",
    "### 데이터 입력해 데이터 프레임 만들기"
   ]
  },
  {
   "cell_type": "code",
   "execution_count": 37,
   "id": "bd222ebd-3961-4382-b0ff-62f289a5e8e7",
   "metadata": {},
   "outputs": [],
   "source": [
    "# pandas 패키지를 로드하기\n",
    "import pandas as pd"
   ]
  },
  {
   "cell_type": "code",
   "execution_count": 38,
   "id": "c764632b-7a0d-43de-867a-342682df4e78",
   "metadata": {},
   "outputs": [
    {
     "data": {
      "text/html": [
       "<div>\n",
       "<style scoped>\n",
       "    .dataframe tbody tr th:only-of-type {\n",
       "        vertical-align: middle;\n",
       "    }\n",
       "\n",
       "    .dataframe tbody tr th {\n",
       "        vertical-align: top;\n",
       "    }\n",
       "\n",
       "    .dataframe thead th {\n",
       "        text-align: right;\n",
       "    }\n",
       "</style>\n",
       "<table border=\"1\" class=\"dataframe\">\n",
       "  <thead>\n",
       "    <tr style=\"text-align: right;\">\n",
       "      <th></th>\n",
       "      <th>name</th>\n",
       "      <th>english</th>\n",
       "      <th>math</th>\n",
       "    </tr>\n",
       "  </thead>\n",
       "  <tbody>\n",
       "    <tr>\n",
       "      <th>0</th>\n",
       "      <td>김지훈</td>\n",
       "      <td>90</td>\n",
       "      <td>50</td>\n",
       "    </tr>\n",
       "    <tr>\n",
       "      <th>1</th>\n",
       "      <td>이유진</td>\n",
       "      <td>80</td>\n",
       "      <td>60</td>\n",
       "    </tr>\n",
       "    <tr>\n",
       "      <th>2</th>\n",
       "      <td>박동현</td>\n",
       "      <td>60</td>\n",
       "      <td>100</td>\n",
       "    </tr>\n",
       "    <tr>\n",
       "      <th>3</th>\n",
       "      <td>김민지</td>\n",
       "      <td>70</td>\n",
       "      <td>20</td>\n",
       "    </tr>\n",
       "  </tbody>\n",
       "</table>\n",
       "</div>"
      ],
      "text/plain": [
       "  name  english  math\n",
       "0  김지훈       90    50\n",
       "1  이유진       80    60\n",
       "2  박동현       60   100\n",
       "3  김민지       70    20"
      ]
     },
     "execution_count": 38,
     "metadata": {},
     "output_type": "execute_result"
    }
   ],
   "source": [
    "# data frame 만들기\n",
    "# data frame 변수 = df\n",
    "\n",
    "df = pd.DataFrame({'name':['김지훈','이유진','박동현','김민지'],\n",
    "                  'english':[90,80,60,70],\n",
    "                   'math':[50,60,100,20]})\n",
    "df"
   ]
  },
  {
   "cell_type": "code",
   "execution_count": 39,
   "id": "df0abbfd-fd5d-4cec-9644-0d9a05e67a78",
   "metadata": {},
   "outputs": [
    {
     "data": {
      "text/plain": [
       "0    90\n",
       "1    80\n",
       "2    60\n",
       "3    70\n",
       "Name: english, dtype: int64"
      ]
     },
     "execution_count": 39,
     "metadata": {},
     "output_type": "execute_result"
    }
   ],
   "source": [
    "# 특정 변수의 값을 추출하기\n",
    "# 영어 점수만 출력\n",
    "df['english']"
   ]
  },
  {
   "cell_type": "code",
   "execution_count": 40,
   "id": "29fa65b2-0256-40fd-ae66-747db3b4d234",
   "metadata": {},
   "outputs": [
    {
     "data": {
      "text/plain": [
       "0     50\n",
       "1     60\n",
       "2    100\n",
       "3     20\n",
       "Name: math, dtype: int64"
      ]
     },
     "execution_count": 40,
     "metadata": {},
     "output_type": "execute_result"
    }
   ],
   "source": [
    "# 수학 점수만 출력\n",
    "df['math']"
   ]
  },
  {
   "cell_type": "code",
   "execution_count": 41,
   "id": "230f7cbd-4cca-4f0b-be3d-b6b62731eae9",
   "metadata": {},
   "outputs": [
    {
     "data": {
      "text/plain": [
       "300"
      ]
     },
     "execution_count": 41,
     "metadata": {},
     "output_type": "execute_result"
    }
   ],
   "source": [
    "# 변수의 값으로 합계구하기\n",
    "# sum\n",
    "df['english'].sum()"
   ]
  },
  {
   "cell_type": "code",
   "execution_count": 49,
   "id": "c1b946f9-b9d2-485a-a078-e4c403e99748",
   "metadata": {},
   "outputs": [
    {
     "name": "stdout",
     "output_type": "stream",
     "text": [
      "230\n",
      "15.0\n",
      "11.5\n"
     ]
    }
   ],
   "source": [
    "# 수학 합계\n",
    "print(df['math'].sum())\n",
    "# 과목별 평균\n",
    "print(df['english'].sum() / len(df_exam['english']))\n",
    "print(df['math'].sum() / len(df_exam['math']))"
   ]
  },
  {
   "cell_type": "markdown",
   "id": "c5f50cfa-914c-4b39-ad61-1a6ed12d86ba",
   "metadata": {},
   "source": [
    "## 외부 데이터 이용하기 - 축적된 시험 성적 데이터를 불러오자!\n",
    "### 액셀 파일 불러오기\n",
    "#### 1. 액셀 파일 살펴보기\n",
    "#### 2. 워킹 디렉터리에 액셀 파일 삽입하기\n",
    "#### 3. 액셀 파일 불러오기"
   ]
  },
  {
   "cell_type": "code",
   "execution_count": 43,
   "id": "e32ed2bb-305f-42e9-af11-f2c754f9e5a2",
   "metadata": {},
   "outputs": [
    {
     "data": {
      "text/html": [
       "<div>\n",
       "<style scoped>\n",
       "    .dataframe tbody tr th:only-of-type {\n",
       "        vertical-align: middle;\n",
       "    }\n",
       "\n",
       "    .dataframe tbody tr th {\n",
       "        vertical-align: top;\n",
       "    }\n",
       "\n",
       "    .dataframe thead th {\n",
       "        text-align: right;\n",
       "    }\n",
       "</style>\n",
       "<table border=\"1\" class=\"dataframe\">\n",
       "  <thead>\n",
       "    <tr style=\"text-align: right;\">\n",
       "      <th></th>\n",
       "      <th>id</th>\n",
       "      <th>nclass</th>\n",
       "      <th>math</th>\n",
       "      <th>english</th>\n",
       "      <th>science</th>\n",
       "    </tr>\n",
       "  </thead>\n",
       "  <tbody>\n",
       "    <tr>\n",
       "      <th>0</th>\n",
       "      <td>1</td>\n",
       "      <td>1</td>\n",
       "      <td>50</td>\n",
       "      <td>98</td>\n",
       "      <td>50</td>\n",
       "    </tr>\n",
       "    <tr>\n",
       "      <th>1</th>\n",
       "      <td>2</td>\n",
       "      <td>1</td>\n",
       "      <td>60</td>\n",
       "      <td>97</td>\n",
       "      <td>60</td>\n",
       "    </tr>\n",
       "    <tr>\n",
       "      <th>2</th>\n",
       "      <td>3</td>\n",
       "      <td>1</td>\n",
       "      <td>45</td>\n",
       "      <td>86</td>\n",
       "      <td>78</td>\n",
       "    </tr>\n",
       "    <tr>\n",
       "      <th>3</th>\n",
       "      <td>4</td>\n",
       "      <td>1</td>\n",
       "      <td>30</td>\n",
       "      <td>98</td>\n",
       "      <td>58</td>\n",
       "    </tr>\n",
       "    <tr>\n",
       "      <th>4</th>\n",
       "      <td>5</td>\n",
       "      <td>2</td>\n",
       "      <td>25</td>\n",
       "      <td>80</td>\n",
       "      <td>65</td>\n",
       "    </tr>\n",
       "    <tr>\n",
       "      <th>5</th>\n",
       "      <td>6</td>\n",
       "      <td>2</td>\n",
       "      <td>50</td>\n",
       "      <td>89</td>\n",
       "      <td>98</td>\n",
       "    </tr>\n",
       "    <tr>\n",
       "      <th>6</th>\n",
       "      <td>7</td>\n",
       "      <td>2</td>\n",
       "      <td>80</td>\n",
       "      <td>90</td>\n",
       "      <td>45</td>\n",
       "    </tr>\n",
       "    <tr>\n",
       "      <th>7</th>\n",
       "      <td>8</td>\n",
       "      <td>2</td>\n",
       "      <td>90</td>\n",
       "      <td>78</td>\n",
       "      <td>25</td>\n",
       "    </tr>\n",
       "    <tr>\n",
       "      <th>8</th>\n",
       "      <td>9</td>\n",
       "      <td>3</td>\n",
       "      <td>20</td>\n",
       "      <td>98</td>\n",
       "      <td>15</td>\n",
       "    </tr>\n",
       "    <tr>\n",
       "      <th>9</th>\n",
       "      <td>10</td>\n",
       "      <td>3</td>\n",
       "      <td>50</td>\n",
       "      <td>98</td>\n",
       "      <td>45</td>\n",
       "    </tr>\n",
       "    <tr>\n",
       "      <th>10</th>\n",
       "      <td>11</td>\n",
       "      <td>3</td>\n",
       "      <td>65</td>\n",
       "      <td>65</td>\n",
       "      <td>65</td>\n",
       "    </tr>\n",
       "    <tr>\n",
       "      <th>11</th>\n",
       "      <td>12</td>\n",
       "      <td>3</td>\n",
       "      <td>45</td>\n",
       "      <td>85</td>\n",
       "      <td>32</td>\n",
       "    </tr>\n",
       "    <tr>\n",
       "      <th>12</th>\n",
       "      <td>13</td>\n",
       "      <td>4</td>\n",
       "      <td>46</td>\n",
       "      <td>98</td>\n",
       "      <td>65</td>\n",
       "    </tr>\n",
       "    <tr>\n",
       "      <th>13</th>\n",
       "      <td>14</td>\n",
       "      <td>4</td>\n",
       "      <td>48</td>\n",
       "      <td>87</td>\n",
       "      <td>12</td>\n",
       "    </tr>\n",
       "    <tr>\n",
       "      <th>14</th>\n",
       "      <td>15</td>\n",
       "      <td>4</td>\n",
       "      <td>75</td>\n",
       "      <td>56</td>\n",
       "      <td>78</td>\n",
       "    </tr>\n",
       "    <tr>\n",
       "      <th>15</th>\n",
       "      <td>16</td>\n",
       "      <td>4</td>\n",
       "      <td>58</td>\n",
       "      <td>98</td>\n",
       "      <td>65</td>\n",
       "    </tr>\n",
       "    <tr>\n",
       "      <th>16</th>\n",
       "      <td>17</td>\n",
       "      <td>5</td>\n",
       "      <td>65</td>\n",
       "      <td>68</td>\n",
       "      <td>98</td>\n",
       "    </tr>\n",
       "    <tr>\n",
       "      <th>17</th>\n",
       "      <td>18</td>\n",
       "      <td>5</td>\n",
       "      <td>80</td>\n",
       "      <td>78</td>\n",
       "      <td>90</td>\n",
       "    </tr>\n",
       "    <tr>\n",
       "      <th>18</th>\n",
       "      <td>19</td>\n",
       "      <td>5</td>\n",
       "      <td>89</td>\n",
       "      <td>68</td>\n",
       "      <td>87</td>\n",
       "    </tr>\n",
       "    <tr>\n",
       "      <th>19</th>\n",
       "      <td>20</td>\n",
       "      <td>5</td>\n",
       "      <td>78</td>\n",
       "      <td>83</td>\n",
       "      <td>58</td>\n",
       "    </tr>\n",
       "  </tbody>\n",
       "</table>\n",
       "</div>"
      ],
      "text/plain": [
       "    id  nclass  math  english  science\n",
       "0    1       1    50       98       50\n",
       "1    2       1    60       97       60\n",
       "2    3       1    45       86       78\n",
       "3    4       1    30       98       58\n",
       "4    5       2    25       80       65\n",
       "5    6       2    50       89       98\n",
       "6    7       2    80       90       45\n",
       "7    8       2    90       78       25\n",
       "8    9       3    20       98       15\n",
       "9   10       3    50       98       45\n",
       "10  11       3    65       65       65\n",
       "11  12       3    45       85       32\n",
       "12  13       4    46       98       65\n",
       "13  14       4    48       87       12\n",
       "14  15       4    75       56       78\n",
       "15  16       4    58       98       65\n",
       "16  17       5    65       68       98\n",
       "17  18       5    80       78       90\n",
       "18  19       5    89       68       87\n",
       "19  20       5    78       83       58"
      ]
     },
     "execution_count": 43,
     "metadata": {},
     "output_type": "execute_result"
    }
   ],
   "source": [
    "# 외부파일 불러오는 메소드 read_excel('디렉토리/파일명')\n",
    "df_exam = pd.read_excel('excel_exam.xlsx')\n",
    "df_exam"
   ]
  },
  {
   "cell_type": "code",
   "execution_count": 47,
   "id": "05bae7b2-a09d-4474-a403-482c49292961",
   "metadata": {},
   "outputs": [
    {
     "name": "stdout",
     "output_type": "stream",
     "text": [
      "영어점수 합계 1698\n",
      "영어점수 평균 84.9\n"
     ]
    }
   ],
   "source": [
    "# 문제 : 영어 점수 합계를 구하시오.\n",
    "# 문제 : 영어 점수 평균을 구하시오.\n",
    "print('영어점수 합계', df_exam['english'].sum())\n",
    "print('영어점수 평균', df_exam['english'].sum() / len(df_exam['english']))"
   ]
  },
  {
   "cell_type": "code",
   "execution_count": 48,
   "id": "40474a14-ab4d-4f79-9934-c7d8d864af70",
   "metadata": {},
   "outputs": [
    {
     "name": "stdout",
     "output_type": "stream",
     "text": [
      "영어점수 합계 1698\n",
      "영어점수 평균 84.9\n",
      "수학점수 합계 1149\n",
      "수학점수 평균 57.45\n",
      "과학점수 합계 1189\n",
      "과학점수 평균 59.45\n"
     ]
    }
   ],
   "source": [
    "print('영어점수 합계', df_exam['english'].sum())\n",
    "print('영어점수 평균', df_exam['english'].sum() / len(df_exam['english']))\n",
    "print('수학점수 합계', df_exam['math'].sum())\n",
    "print('수학점수 평균', df_exam['math'].sum() / len(df_exam['math']))\n",
    "print('과학점수 합계', df_exam['science'].sum())\n",
    "print('과학점수 평균', df_exam['science'].sum() / len(df_exam['science']))"
   ]
  },
  {
   "cell_type": "code",
   "execution_count": null,
   "id": "abf9d954-88a7-4bf6-916c-4f2b1845ad06",
   "metadata": {},
   "outputs": [],
   "source": []
  }
 ],
 "metadata": {
  "kernelspec": {
   "display_name": "Python 3 (ipykernel)",
   "language": "python",
   "name": "python3"
  },
  "language_info": {
   "codemirror_mode": {
    "name": "ipython",
    "version": 3
   },
   "file_extension": ".py",
   "mimetype": "text/x-python",
   "name": "python",
   "nbconvert_exporter": "python",
   "pygments_lexer": "ipython3",
   "version": "3.11.7"
  }
 },
 "nbformat": 4,
 "nbformat_minor": 5
}
