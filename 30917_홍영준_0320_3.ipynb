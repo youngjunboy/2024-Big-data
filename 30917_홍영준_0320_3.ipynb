{
 "cells": [
  {
   "cell_type": "markdown",
   "id": "05a7c6bc-98c9-4630-886e-2f5fc37d8f8f",
   "metadata": {},
   "source": [
    "# 30917_홍영준_0320_3"
   ]
  },
  {
   "cell_type": "markdown",
   "id": "4c73add9-d964-4914-bbf9-42a79e1fade9",
   "metadata": {},
   "source": [
    "# 1"
   ]
  },
  {
   "cell_type": "code",
   "execution_count": 10,
   "id": "c7751541-db29-48ea-b146-9cced1173580",
   "metadata": {},
   "outputs": [
    {
     "name": "stdout",
     "output_type": "stream",
     "text": [
      "a부터 b 까지의 정수의 합을 구합니다.\n"
     ]
    },
    {
     "name": "stdin",
     "output_type": "stream",
     "text": [
      "정수 a를 입력하세요 :  5\n",
      "정수 b를 입력하세요 :  12\n"
     ]
    },
    {
     "name": "stdout",
     "output_type": "stream",
     "text": [
      "5 + 6 + 7 + 8 + 9 + 10 + 11 + 12 + 12 = 80\n",
      "a부터 b까지 정수의 합은 80입니다.\n"
     ]
    }
   ],
   "source": [
    "print('a부터 b 까지의 정수의 합을 구합니다.')\n",
    "a = int(input('정수 a를 입력하세요 : '))\n",
    "b = int(input('정수 b를 입력하세요 : '))\n",
    "\n",
    "sum = 0\n",
    "\n",
    "if a>b:\n",
    "    a,b = b,a\n",
    "    \n",
    "for i in range(a,b+1):\n",
    "    print(f'{i} + ',end=\"\")\n",
    "    sum += i\n",
    "\n",
    "print(f'{b} = ', end=\"\")\n",
    "\n",
    "sum = sum + b\n",
    "\n",
    "print(sum)\n",
    "    \n",
    "print(f'a부터 b까지 정수의 합은 {sum}입니다.')"
   ]
  },
  {
   "cell_type": "code",
   "execution_count": 22,
   "id": "53001c5f-a861-44ae-b4ab-d0d5f184c982",
   "metadata": {},
   "outputs": [
    {
     "name": "stdout",
     "output_type": "stream",
     "text": [
      "+와 -를 번갈아 출력합니다.\n"
     ]
    },
    {
     "name": "stdin",
     "output_type": "stream",
     "text": [
      "몇개를 출력할까요? 59\n"
     ]
    },
    {
     "name": "stdout",
     "output_type": "stream",
     "text": [
      "+-+-+-+-+-+-+-+-+-+-+-+-+-+-+-+-+-+-+-+-+-+-+-+-+-+-+-+-+-+-"
     ]
    }
   ],
   "source": [
    "print('+와 -를 번갈아 출력합니다.')\n",
    "n = int(input('몇개를 출력할까요?'))\n",
    "\n",
    "for i in range(n+1):\n",
    "    if i % 2 == 0:\n",
    "        print('+',end=\"\")\n",
    "    else:\n",
    "        print('-',end=\"\")"
   ]
  },
  {
   "cell_type": "code",
   "execution_count": null,
   "id": "9f47b1a0-9c07-460e-b78b-09fcf50678c0",
   "metadata": {},
   "outputs": [],
   "source": []
  }
 ],
 "metadata": {
  "kernelspec": {
   "display_name": "Python 3 (ipykernel)",
   "language": "python",
   "name": "python3"
  },
  "language_info": {
   "codemirror_mode": {
    "name": "ipython",
    "version": 3
   },
   "file_extension": ".py",
   "mimetype": "text/x-python",
   "name": "python",
   "nbconvert_exporter": "python",
   "pygments_lexer": "ipython3",
   "version": "3.11.7"
  }
 },
 "nbformat": 4,
 "nbformat_minor": 5
}
