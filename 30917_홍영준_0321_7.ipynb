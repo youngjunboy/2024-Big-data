{
 "cells": [
  {
   "cell_type": "markdown",
   "id": "a45bdfa4-b655-44ac-9a44-538ccff6279c",
   "metadata": {},
   "source": [
    "# 30917_홍영준_0321_7"
   ]
  },
  {
   "cell_type": "markdown",
   "id": "1c22fa74-bfea-4533-adf0-fd315129cce3",
   "metadata": {},
   "source": [
    "# 1"
   ]
  },
  {
   "cell_type": "code",
   "execution_count": 10,
   "id": "ef4a917d-94c9-49dd-9a77-435d44d8a817",
   "metadata": {},
   "outputs": [
    {
     "name": "stdout",
     "output_type": "stream",
     "text": [
      "+와 -를 번갈아 출력합니다.\n"
     ]
    },
    {
     "name": "stdin",
     "output_type": "stream",
     "text": [
      "몇 개를 출력할까요? :  34\n"
     ]
    },
    {
     "name": "stdout",
     "output_type": "stream",
     "text": [
      "+-+-+-+-+-+-+-+-+-+-+-+-+-+-+-+-+-"
     ]
    }
   ],
   "source": [
    "print(\"+와 -를 번갈아 출력합니다.\")\n",
    "n = int(input(\"몇 개를 출력할까요? : \"))\n",
    "\n",
    "for i in range(n):          # 반복 n번\n",
    "    if i % 2:\n",
    "        print(\"-\", end='')  # 홀수인 경우 - 출력\n",
    "    else:\n",
    "        print(\"+\", end='')  # 짝수인 경우 + 출력"
   ]
  },
  {
   "cell_type": "markdown",
   "id": "87ea35ba-b9e9-43cb-875c-6466316901f4",
   "metadata": {},
   "source": [
    "# 2"
   ]
  },
  {
   "cell_type": "code",
   "execution_count": 11,
   "id": "7810d918-1abc-44d4-86bb-4588db211500",
   "metadata": {},
   "outputs": [
    {
     "name": "stdout",
     "output_type": "stream",
     "text": [
      "+와 -를 번갈아 출력합니다.\n"
     ]
    },
    {
     "name": "stdin",
     "output_type": "stream",
     "text": [
      "몇 개를 출력할까요? :  23\n"
     ]
    },
    {
     "name": "stdout",
     "output_type": "stream",
     "text": [
      "-+-+-+-+-+-+-+-+-+-+-+-"
     ]
    }
   ],
   "source": [
    "print(\"+와 -를 번갈아 출력합니다.\")\n",
    "n = int(input(\"몇 개를 출력할까요? : \"))\n",
    "for i in range(1,n+1):\n",
    "    if i % 2:\n",
    "        print(\"-\", end='')\n",
    "    else:\n",
    "        print(\"+\", end='')"
   ]
  },
  {
   "cell_type": "markdown",
   "id": "a52e4f25-49f8-4381-be54-40dc43cb6fbb",
   "metadata": {},
   "source": [
    "# 3"
   ]
  },
  {
   "cell_type": "code",
   "execution_count": 5,
   "id": "4d4722f5-ee34-4962-96a4-19076b89c360",
   "metadata": {},
   "outputs": [
    {
     "name": "stdout",
     "output_type": "stream",
     "text": [
      "+와 -를 번갈아 출력합니다.\n"
     ]
    },
    {
     "name": "stdin",
     "output_type": "stream",
     "text": [
      "몇 개를 출력할까요? :  31\n"
     ]
    },
    {
     "name": "stdout",
     "output_type": "stream",
     "text": [
      "+-+-+-+-+-+-+-+-+-+-+-+-+-+-+-+"
     ]
    }
   ],
   "source": [
    "print(\"+와 -를 번갈아 출력합니다.\")\n",
    "n = int(input(\"몇 개를 출력할까요? : \"))\n",
    "for _ in range(n // 2):\n",
    "    print('+-',end=\"\")   # n // 2개의 +-를 출력\n",
    "if n % 2:\n",
    "    print('+',end = \"\")  # n이 홀 수 일때만 + 출력"
   ]
  },
  {
   "cell_type": "markdown",
   "id": "285c1833-3bd5-42dd-a75e-89a0c320eff7",
   "metadata": {},
   "source": [
    "# 4"
   ]
  },
  {
   "cell_type": "code",
   "execution_count": 11,
   "id": "9eee75f0-7823-4ee7-ab28-bc5882b3d467",
   "metadata": {},
   "outputs": [
    {
     "name": "stdout",
     "output_type": "stream",
     "text": [
      "*를 출력합니다\n"
     ]
    },
    {
     "name": "stdin",
     "output_type": "stream",
     "text": [
      "몇 개를 출력할까요? : 34\n",
      "몇 개마다 줄바꿈 할까요? : 9\n"
     ]
    },
    {
     "name": "stdout",
     "output_type": "stream",
     "text": [
      "*********\n",
      "*********\n",
      "*********\n",
      "*******"
     ]
    }
   ],
   "source": [
    "print(\"*를 출력합니다\")\n",
    "a = int(input('몇 개를 출력할까요? :'))\n",
    "b = int(input('몇 개마다 줄바꿈 할까요? :'))\n",
    "\n",
    "for i in range(a):\n",
    "    print('*', end=\"\")\n",
    "    if i % b == b - 1:  # n번 판단\n",
    "        print()         # 줄바꿈"
   ]
  },
  {
   "cell_type": "markdown",
   "id": "0b6a0297-7bb5-42eb-a0b3-209fe2befbca",
   "metadata": {},
   "source": [
    "# 5"
   ]
  },
  {
   "cell_type": "code",
   "execution_count": 19,
   "id": "5f168a81-62fd-4b15-bfa8-c0827d52fa43",
   "metadata": {},
   "outputs": [
    {
     "name": "stdout",
     "output_type": "stream",
     "text": [
      "1부터 n까지 정수의 합을 구합니다.\n"
     ]
    },
    {
     "name": "stdin",
     "output_type": "stream",
     "text": [
      "n값을 입력하세요 :  0\n",
      "n값을 입력하세요 :  0\n",
      "n값을 입력하세요 :  0\n",
      "n값을 입력하세요 :  -4\n",
      "n값을 입력하세요 :  4\n"
     ]
    },
    {
     "name": "stdout",
     "output_type": "stream",
     "text": [
      "1부터 4까지 정수의 합은 10입니다.\n"
     ]
    }
   ],
   "source": [
    "print(\"1부터 n까지 정수의 합을 구합니다.\")\n",
    "n = int(input(\"n값을 입력하세요 : \"))\n",
    "sum = 0\n",
    "while n < 1:\n",
    "    n = int(input(\"n값을 입력하세요 : \"))\n",
    "for i in range(1,n+1):\n",
    "    sum += i\n",
    "print(f'1부터 {n}까지 정수의 합은 {sum}입니다.')"
   ]
  },
  {
   "cell_type": "code",
   "execution_count": null,
   "id": "dea45407-bd4b-483c-a0cd-fc5f74fd0d36",
   "metadata": {},
   "outputs": [],
   "source": []
  }
 ],
 "metadata": {
  "kernelspec": {
   "display_name": "Python 3 (ipykernel)",
   "language": "python",
   "name": "python3"
  },
  "language_info": {
   "codemirror_mode": {
    "name": "ipython",
    "version": 3
   },
   "file_extension": ".py",
   "mimetype": "text/x-python",
   "name": "python",
   "nbconvert_exporter": "python",
   "pygments_lexer": "ipython3",
   "version": "3.11.7"
  }
 },
 "nbformat": 4,
 "nbformat_minor": 5
}
