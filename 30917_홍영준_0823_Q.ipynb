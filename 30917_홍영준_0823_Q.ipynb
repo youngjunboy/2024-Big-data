{
 "cells": [
  {
   "cell_type": "markdown",
   "id": "b2fe5db3-95fe-4e9f-b976-ac2c56629184",
   "metadata": {},
   "source": [
    "# 30917_홍영준_0823_Q"
   ]
  },
  {
   "cell_type": "markdown",
   "id": "d651b2e4-6dd6-4a10-84b5-1a804cfa015c",
   "metadata": {},
   "source": [
    "## 1121 : 나머지 구하기"
   ]
  },
  {
   "cell_type": "code",
   "execution_count": 3,
   "id": "a4393c0c-8b4e-42fb-be58-2a0deb1f6c65",
   "metadata": {},
   "outputs": [
    {
     "name": "stdin",
     "output_type": "stream",
     "text": [
      " 4 9\n"
     ]
    },
    {
     "name": "stdout",
     "output_type": "stream",
     "text": [
      "4\n"
     ]
    }
   ],
   "source": [
    "a, b = map(int,input().split())\n",
    "print(a%b)"
   ]
  },
  {
   "cell_type": "markdown",
   "id": "f26cdb94-bc0d-4d89-99ed-04938f2df2c6",
   "metadata": {},
   "source": [
    "# 1122 : 초를 분/초로 변환"
   ]
  },
  {
   "cell_type": "code",
   "execution_count": 55,
   "id": "a9daea9a-d734-4d0f-8cd3-972940da28d2",
   "metadata": {},
   "outputs": [
    {
     "name": "stdin",
     "output_type": "stream",
     "text": [
      " 238\n"
     ]
    },
    {
     "name": "stdout",
     "output_type": "stream",
     "text": [
      "3분 58초\n"
     ]
    }
   ],
   "source": [
    "import math\n",
    "time = int(input())\n",
    "print(f'{math.floor(time/60)}분 {time%60}초')"
   ]
  },
  {
   "cell_type": "markdown",
   "id": "0cac87f6-3e81-4c72-b726-9c3aa117df28",
   "metadata": {},
   "source": [
    "# 1123 : 섭씨 온도를 화씨 온도로 변환"
   ]
  },
  {
   "cell_type": "code",
   "execution_count": 58,
   "id": "60d3dcef-a53b-473d-afd9-9af984e69fbe",
   "metadata": {},
   "outputs": [
    {
     "name": "stdin",
     "output_type": "stream",
     "text": [
      " 83\n"
     ]
    },
    {
     "name": "stdout",
     "output_type": "stream",
     "text": [
      "181.400\n"
     ]
    }
   ],
   "source": [
    "subssi = int(input())\n",
    "print(f'{9/5*subssi+32:.3f}')"
   ]
  },
  {
   "cell_type": "code",
   "execution_count": null,
   "id": "f04d5b02-634b-4726-8f3b-66d61b6f9167",
   "metadata": {},
   "outputs": [],
   "source": []
  }
 ],
 "metadata": {
  "kernelspec": {
   "display_name": "Python 3 (ipykernel)",
   "language": "python",
   "name": "python3"
  },
  "language_info": {
   "codemirror_mode": {
    "name": "ipython",
    "version": 3
   },
   "file_extension": ".py",
   "mimetype": "text/x-python",
   "name": "python",
   "nbconvert_exporter": "python",
   "pygments_lexer": "ipython3",
   "version": "3.11.7"
  }
 },
 "nbformat": 4,
 "nbformat_minor": 5
}
